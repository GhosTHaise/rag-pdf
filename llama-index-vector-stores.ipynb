{
 "cells": [
  {
   "cell_type": "code",
   "execution_count": 3,
   "metadata": {},
   "outputs": [
    {
     "name": "stdout",
     "output_type": "stream",
     "text": [
      "Defaulting to user installation because normal site-packages is not writeable\n",
      "Requirement already satisfied: nest-asyncio in /home/fitiavana/.local/lib/python3.10/site-packages (1.6.0)\n",
      "\u001b[33mWARNING: You are using pip version 21.2.3; however, version 25.0.1 is available.\n",
      "You should consider upgrading via the '/usr/local/bin/python3.10 -m pip install --upgrade pip' command.\u001b[0m\n",
      "Note: you may need to restart the kernel to use updated packages.\n"
     ]
    }
   ],
   "source": [
    "%pip install nest-asyncio"
   ]
  },
  {
   "cell_type": "code",
   "execution_count": 4,
   "metadata": {},
   "outputs": [],
   "source": [
    "import nest_asyncio\n",
    "nest_asyncio.apply()"
   ]
  },
  {
   "cell_type": "code",
   "execution_count": 5,
   "metadata": {},
   "outputs": [
    {
     "name": "stdout",
     "output_type": "stream",
     "text": [
      "\u001b[33mWARNING: You are using pip version 21.2.3; however, version 25.0.1 is available.\n",
      "You should consider upgrading via the '/usr/local/bin/python3.10 -m pip install --upgrade pip' command.\u001b[0m\n",
      "Note: you may need to restart the kernel to use updated packages.\n",
      "\u001b[33mWARNING: You are using pip version 21.2.3; however, version 25.0.1 is available.\n",
      "You should consider upgrading via the '/usr/local/bin/python3.10 -m pip install --upgrade pip' command.\u001b[0m\n",
      "Note: you may need to restart the kernel to use updated packages.\n"
     ]
    }
   ],
   "source": [
    "%pip install -Uq llama-index\n",
    "%pip install -Uq llama-index-embeddings-huggingface"
   ]
  },
  {
   "cell_type": "code",
   "execution_count": 6,
   "metadata": {},
   "outputs": [],
   "source": [
    "from llama_index.core import SimpleDirectoryReader\n",
    "\n",
    "docs = SimpleDirectoryReader(input_dir=\"./data\").load_data()\n",
    "#docs = SimpleDirectoryReader(input_dir=\"./data\",filename_as_id=True).load_data()\n"
   ]
  },
  {
   "cell_type": "code",
   "execution_count": 7,
   "metadata": {},
   "outputs": [
    {
     "data": {
      "text/plain": [
       "47"
      ]
     },
     "execution_count": 7,
     "metadata": {},
     "output_type": "execute_result"
    }
   ],
   "source": [
    "len(docs)"
   ]
  },
  {
   "cell_type": "code",
   "execution_count": 8,
   "metadata": {},
   "outputs": [
    {
     "name": "stdout",
     "output_type": "stream",
     "text": [
      "[Document(id_='4f7a0572-9846-4055-942e-6aa85ac81b65', embedding=None, metadata={'page_label': '1', 'file_name': 'flutter-revolution.pdf', 'file_path': '/home/fitiavana/dev/rag-pdf/data/flutter-revolution.pdf', 'file_type': 'application/pdf', 'file_size': 4005615, 'creation_date': '2025-03-04', 'last_modified_date': '2025-03-04'}, excluded_embed_metadata_keys=['file_name', 'file_type', 'file_size', 'creation_date', 'last_modified_date', 'last_accessed_date'], excluded_llm_metadata_keys=['file_name', 'file_type', 'file_size', 'creation_date', 'last_modified_date', 'last_accessed_date'], relationships={}, metadata_template='{key}: {value}', metadata_separator='\\n', text_resource=MediaResource(embeddings=None, data=None, text='', path=None, url=None, mimetype=None), image_resource=None, audio_resource=None, video_resource=None, text_template='{metadata_str}\\n\\n{content}'),\n",
      " Document(id_='4ff1e384-ff0c-4db1-8956-a488c530cdc3', embedding=None, metadata={'page_label': '2', 'file_name': 'flutter-revolution.pdf', 'file_path': '/home/fitiavana/dev/rag-pdf/data/flutter-revolution.pdf', 'file_type': 'application/pdf', 'file_size': 4005615, 'creation_date': '2025-03-04', 'last_modified_date': '2025-03-04'}, excluded_embed_metadata_keys=['file_name', 'file_type', 'file_size', 'creation_date', 'last_modified_date', 'last_accessed_date'], excluded_llm_metadata_keys=['file_name', 'file_type', 'file_size', 'creation_date', 'last_modified_date', 'last_accessed_date'], relationships={}, metadata_template='{key}: {value}', metadata_separator='\\n', text_resource=MediaResource(embeddings=None, data=None, text='1. Bienvenue1.1 Mon histoire1.2 Mes débuts avec Ionic1.3 Alors pourquoi Flutter ?1.4 Pourquoi ce cours ?\\n2. Qu’est-ce que Flutter ?2.1 Sa rapidité de développement2.2 Son interface utilisateur très flexible2.3 Des performances natives2.4 Qui utilise Flutter ?\\n3. Qu’est-ce que Dart ?3.1 Le Dart et les autres langages3.2 Le SDK Dart3.3 Quelques exemples du Dart\\n4. Installer Flutter sur macOS4.1 Installer le SDK Flutter4.2 Configurer le SDK Flutter4.2.1 Méthode 1: zsh (recommandée)4.2.2 Méthode 2: bash (utilisée dans la vidéo)4.3 Configuration de Xcode4.4 Configurer Android Studio\\n5. Installer Flutter sur Windows5.1 Installer le SDK Flutter sur Windows5.2 Configurer le SDK Flutter sur Windows5.3 Configurer Android Studio\\n6. Configurer Visual Studio Code6.1 Installer et configurer Visual Studio Code6.2 Créer une application en partant de zéro', path=None, url=None, mimetype=None), image_resource=None, audio_resource=None, video_resource=None, text_template='{metadata_str}\\n\\n{content}'),\n",
      " Document(id_='21259113-fd51-4389-b1d6-b102d0019104', embedding=None, metadata={'page_label': '3', 'file_name': 'flutter-revolution.pdf', 'file_path': '/home/fitiavana/dev/rag-pdf/data/flutter-revolution.pdf', 'file_type': 'application/pdf', 'file_size': 4005615, 'creation_date': '2025-03-04', 'last_modified_date': '2025-03-04'}, excluded_embed_metadata_keys=['file_name', 'file_type', 'file_size', 'creation_date', 'last_modified_date', 'last_accessed_date'], excluded_llm_metadata_keys=['file_name', 'file_type', 'file_size', 'creation_date', 'last_modified_date', 'last_accessed_date'], relationships={}, metadata_template='{key}: {value}', metadata_separator='\\n', text_resource=MediaResource(embeddings=None, data=None, text='1. Bienvenue\\nBonjour à tous et bienvenue dansFLUTTER RÉVOLUTION!\\nJe vous remercie tout d’abord de m’avoir fait confiance et de me rejoindredans ce cours qui j’en suis sûrchangera votre visiondu développementmobile.\\n1.1 Mon histoire\\nSi vous connaissez un peu mon parcours, vous savez que je suisdéveloppeur mobiledepuis2017après avoir commencépar ledéveloppement web.\\nJ’ai commencé à créer mes premières applications avec leframework Ionicqui à l’époque m’a permis de démarrer assez rapidement.\\nChoice, ma toute première application mobile\\nJ’ai par la suite étendu mes connaissances et proposémes servicesàd’autres clients, puis finalement j’ai créé des cours.\\n', path=None, url=None, mimetype=None), image_resource=None, audio_resource=None, video_resource=None, text_template='{metadata_str}\\n\\n{content}'),\n",
      " Document(id_='70ff0f9b-23e8-4a30-94f2-8be7227430a9', embedding=None, metadata={'page_label': '4', 'file_name': 'flutter-revolution.pdf', 'file_path': '/home/fitiavana/dev/rag-pdf/data/flutter-revolution.pdf', 'file_type': 'application/pdf', 'file_size': 4005615, 'creation_date': '2025-03-04', 'last_modified_date': '2025-03-04'}, excluded_embed_metadata_keys=['file_name', 'file_type', 'file_size', 'creation_date', 'last_modified_date', 'last_accessed_date'], excluded_llm_metadata_keys=['file_name', 'file_type', 'file_size', 'creation_date', 'last_modified_date', 'last_accessed_date'], relationships={}, metadata_template='{key}: {value}', metadata_separator='\\n', text_resource=MediaResource(embeddings=None, data=None, text='À travers ma chaîneYouTubeet monblog, vous êtes maintenant des milliersà suivre mes vidéos et mestutoriels gratuitssurle développement mobile.\\nMon activité a pu ainsi prospérer grâce à mescoursen lignepayants et àmes prestations de cours particuliers.\\n1.2 Mes débuts avec Ionic\\nIonic utilise le frameworkAngular de Googlequi estbasé sur lestechnologiesWebet permet de coder des applicationsavec les langagesHTML, CSS et TypeScript.\\nLe framework Ionic permet lui aussi de développer pour iOS et Android\\nLe framework le plus connu cependant à l’époque où j’ai commencé à meformer étaitReact JSde Facebook.\\nIl avait l’avantage d’être utilisé par de grandes startups dontFacebooketInstagrampar exemple ce qui lui confie une certainenotoriété.\\nJ’ai par la suite longtemps justifié mon choix du framework Ionic en invoquantsasimplicité.\\nEn fait Ionic n’a jamais était aussi sexy etpopulaireque React… Mais je suistoujours parti du principe que si j’avais pudémarrerde zéroavec Ionic, lesautres le pouvait aussi.\\n1.3 Alors pourquoi Flutter ?\\nJ’avais déjà annoncé à plusieurs reprises que je passerai un jour ou l’autre àReact JSpour m’adapter à la forte demande dumarché.\\n', path=None, url=None, mimetype=None), image_resource=None, audio_resource=None, video_resource=None, text_template='{metadata_str}\\n\\n{content}'),\n",
      " Document(id_='ab5878b3-3675-482a-af30-f5424ee2ef88', embedding=None, metadata={'page_label': '5', 'file_name': 'flutter-revolution.pdf', 'file_path': '/home/fitiavana/dev/rag-pdf/data/flutter-revolution.pdf', 'file_type': 'application/pdf', 'file_size': 4005615, 'creation_date': '2025-03-04', 'last_modified_date': '2025-03-04'}, excluded_embed_metadata_keys=['file_name', 'file_type', 'file_size', 'creation_date', 'last_modified_date', 'last_accessed_date'], excluded_llm_metadata_keys=['file_name', 'file_type', 'file_size', 'creation_date', 'last_modified_date', 'last_accessed_date'], relationships={}, metadata_template='{key}: {value}', metadata_separator='\\n', text_resource=MediaResource(embeddings=None, data=None, text='Pourtant, vous êtes en train de lire uncours sur Flutter… Alors pourquoi ?\\nJe pourrais passer très longtemps à répondre à cette question, ledéveloppement mobile est mon quotidienet je baigneen permanencedans toute l’actualité des startups.\\nMais pour faire simple, c’est parce queFlutterreprésenteselon moi unevéritablerévolution…\\nCe n’est pas qu’un simplejeu de motpour nommer cetteformation, c’estvéritablement ce que j’ai ressenti en testant pourla première fois Flutter.\\nFlutter permet de développertrès rapidementpar rapportà Ionic ou React, ilest directement orienté vers le développementnatifsur émulateuriOS etAndroid.\\nEn fait Flutter est unSDKet non un framework commeReact, ce qui veut direqu’il s’adapte en fait aux environnements de développement d’Android et iOSvia leurs logiciels respectifs.\\nFlutter avec un émulateur iOS, s’actualise instantanément\\nConcrètement avecun seul code(leDart) et simplementen enregistrant sonfichier on actualise son application sur iOS et Android.\\n', path=None, url=None, mimetype=None), image_resource=None, audio_resource=None, video_resource=None, text_template='{metadata_str}\\n\\n{content}'),\n",
      " Document(id_='bb2016cf-f205-4cf8-a182-050290bb73f8', embedding=None, metadata={'page_label': '6', 'file_name': 'flutter-revolution.pdf', 'file_path': '/home/fitiavana/dev/rag-pdf/data/flutter-revolution.pdf', 'file_type': 'application/pdf', 'file_size': 4005615, 'creation_date': '2025-03-04', 'last_modified_date': '2025-03-04'}, excluded_embed_metadata_keys=['file_name', 'file_type', 'file_size', 'creation_date', 'last_modified_date', 'last_accessed_date'], excluded_llm_metadata_keys=['file_name', 'file_type', 'file_size', 'creation_date', 'last_modified_date', 'last_accessed_date'], relationships={}, metadata_template='{key}: {value}', metadata_separator='\\n', text_resource=MediaResource(embeddings=None, data=None, text='Cette simple différence par rapport aux frameworks JS est en faitmonstrueuse, pas pour nos applications directement, mais pour notrerapiditéde développement.\\nOn développe tout simplementplus vitesur Flutterque sur n’importe quelautre frameworkmultiplateforme.\\n1.4 Pourquoi ce cours ?\\nJ’ai donc décidé enjuillet 2020de démarrer un nouveauet unique cours surFlutter.\\nPour aider lacommunauté francophonedu monde entierà exploiter aumaximum le superbe outil que représente Flutter.\\nDans ce cours, nous allons reprendre toutes lesbasesde Flutteret duDarten repartant vraimentde zéro.\\nLe but pour moi est de vous permettre d’allerle plusloin possibledans ledéveloppement de vos applications mobiles avec Flutter.\\nOn commencera avec la prise en main desbasesde Flutteret de la maîtrisede sonlangage Dart.\\nJe vous proposerai aussi plusieurs chapitres consacrés auxinterfacesutilisateursque propose Flutter qui sont à la pointedesanimationssursmartphone.\\nEnfin on terminera par un ensemble detutoriels cibléssur lesfonctionnalitésles plus utiles des applications modernes.\\n2. Qu’est-ce que Flutter ?\\nFlutter est en fait unSDKet non un framework dedéveloppement mobile.Qu’est-ce qu’un SDK par rapport à un framework et qu’est-ce que celareprésente-t-il pour nos applications ?\\nSelonWikipédia, la définition officielle d’un Frameworkest la suivante:', path=None, url=None, mimetype=None), image_resource=None, audio_resource=None, video_resource=None, text_template='{metadata_str}\\n\\n{content}'),\n",
      " Document(id_='5f7e6490-871f-4e93-ac8e-d9544fafa566', embedding=None, metadata={'page_label': '7', 'file_name': 'flutter-revolution.pdf', 'file_path': '/home/fitiavana/dev/rag-pdf/data/flutter-revolution.pdf', 'file_type': 'application/pdf', 'file_size': 4005615, 'creation_date': '2025-03-04', 'last_modified_date': '2025-03-04'}, excluded_embed_metadata_keys=['file_name', 'file_type', 'file_size', 'creation_date', 'last_modified_date', 'last_accessed_date'], excluded_llm_metadata_keys=['file_name', 'file_type', 'file_size', 'creation_date', 'last_modified_date', 'last_accessed_date'], relationships={}, metadata_template='{key}: {value}', metadata_separator='\\n', text_resource=MediaResource(embeddings=None, data=None, text='En programmation informatique, unframeworkdésigne un ensemblecohérent de composants logiciels structurels, qui sert à créer les fondationsainsi que les grandes lignes de tout ou d’une partie d’un logiciel.\\nhttps://fr.wikipedia.org/wiki/Framework\\nConcrètement unframeworkcomme Angular ou React permet decréer de Aà Zune application mobile par exemple.\\nIl nous faut cependant passer par unephase d’adaptationaux appareilsmobile lors de la création de chaque version iOS et Android.\\nFlutter en revanche est donc unSDK, qui veut direlittéralementKit deDéveloppement(Software Development Kit).\\nGoogle a conçu leSDK Flutterpour s’adapter aux deuxenvironnements dedéveloppements iOS et Android: Xcode et Android Studio.\\nLe SDK Flutter vient donc s’installer sur votre machine encomplémentdeces deux logiciels (avec Android qui comprend aussi son propre SDK).\\nDonc Flutter nous permet de travailler depuis unéditeurde codeet decompiler pour les deux plateformes en même temps.', path=None, url=None, mimetype=None), image_resource=None, audio_resource=None, video_resource=None, text_template='{metadata_str}\\n\\n{content}'),\n",
      " Document(id_='c9b045d1-cecb-4a99-bcfc-7dae2ca104b0', embedding=None, metadata={'page_label': '8', 'file_name': 'flutter-revolution.pdf', 'file_path': '/home/fitiavana/dev/rag-pdf/data/flutter-revolution.pdf', 'file_type': 'application/pdf', 'file_size': 4005615, 'creation_date': '2025-03-04', 'last_modified_date': '2025-03-04'}, excluded_embed_metadata_keys=['file_name', 'file_type', 'file_size', 'creation_date', 'last_modified_date', 'last_accessed_date'], excluded_llm_metadata_keys=['file_name', 'file_type', 'file_size', 'creation_date', 'last_modified_date', 'last_accessed_date'], relationships={}, metadata_template='{key}: {value}', metadata_separator='\\n', text_resource=MediaResource(embeddings=None, data=None, text='Flutter permet de lancer deux émulateurs iOS et Android en même temps\\nVoyons donc maintenant quels sont lespoints essentielsà connaître surl’utilisation de Flutter.\\n2.1 Sa rapidité de développement\\nLe premierpoint essentielencore une fois de Flutterest la rapidité dedéveloppement qu’il nous offre.\\nEn fait Flutter nous offre une rapidité de développement que l’on retrouveavec ledéveloppement natifd’application.\\nSurXcodelorsqu’on code avec leSwiftet qu’on testeson application enquelques secondes avec un simulateurd’iPhone.\\nMais aussi surAndroid StudioavecJava ou Kotlinlorsqu’on teste sonapplication sur un émulateurAndroid.\\n', path=None, url=None, mimetype=None), image_resource=None, audio_resource=None, video_resource=None, text_template='{metadata_str}\\n\\n{content}'),\n",
      " Document(id_='8d7b3a7c-5506-4d98-b79c-1477e501de66', embedding=None, metadata={'page_label': '9', 'file_name': 'flutter-revolution.pdf', 'file_path': '/home/fitiavana/dev/rag-pdf/data/flutter-revolution.pdf', 'file_type': 'application/pdf', 'file_size': 4005615, 'creation_date': '2025-03-04', 'last_modified_date': '2025-03-04'}, excluded_embed_metadata_keys=['file_name', 'file_type', 'file_size', 'creation_date', 'last_modified_date', 'last_accessed_date'], excluded_llm_metadata_keys=['file_name', 'file_type', 'file_size', 'creation_date', 'last_modified_date', 'last_accessed_date'], relationships={}, metadata_template='{key}: {value}', metadata_separator='\\n', text_resource=MediaResource(embeddings=None, data=None, text='En fait avec Flutter on utilise unéditeur de code(comme Visual Studio Codedont nous détaillerons la configuration) pour travailler sur nos fichiersDart.\\nÀ chaqueenregistrementde nos fichiers, grâce à l’extensionFlutter deVisual Studio notreapplication s’actualisesur notreémulateur.\\n2.2 Son interface utilisateur très ﬂexible\\nLe deuxième point essentiel de Flutter est soninterfaceutilisateurou UIDesign vraimentrévolutionnaire.\\nEn fait la plupart des autres frameworks ou outils de développement mobilepermettent de recréer desanimations modernes.\\nMais Flutter a vraiment mis uneprioritésur ces animationspour les rendretrèsaccessibles.\\nNous verrons par exemple comme créer avec lesWidgetsFluttertoute sorted’affichage pour nos applications.\\nMais nous utiliserons aussi l’immensebibliothèqued’animationsetd’interactions que Flutter propose pourdynamisernos applications.\\nÀ la différence d’autres frameworks de développement mobile, sesinteractions sontfacilement accessibles.\\nC’est la raison pour laquelle la grande majorité desapplicationsdéveloppéesavec Flutter sont trèsintuitiveset dynamiques.\\n', path=None, url=None, mimetype=None), image_resource=None, audio_resource=None, video_resource=None, text_template='{metadata_str}\\n\\n{content}'),\n",
      " Document(id_='0998f974-374e-4b4e-b4ef-e8f5d3e67ba1', embedding=None, metadata={'page_label': '10', 'file_name': 'flutter-revolution.pdf', 'file_path': '/home/fitiavana/dev/rag-pdf/data/flutter-revolution.pdf', 'file_type': 'application/pdf', 'file_size': 4005615, 'creation_date': '2025-03-04', 'last_modified_date': '2025-03-04'}, excluded_embed_metadata_keys=['file_name', 'file_type', 'file_size', 'creation_date', 'last_modified_date', 'last_accessed_date'], excluded_llm_metadata_keys=['file_name', 'file_type', 'file_size', 'creation_date', 'last_modified_date', 'last_accessed_date'], relationships={}, metadata_template='{key}: {value}', metadata_separator='\\n', text_resource=MediaResource(embeddings=None, data=None, text='Vous pouvez en retrouver quelquesexemplessur le site de Flutter:https://flutter.dev/showcase\\n2.3 Des performances natives\\nJe vous ai parlé à plusieurs reprises de la rapidité dedéveloppementquepropose Flutter, mais parlons maintenant de larapiditéde nos applicationselle-même.\\nIl est évident queGoogle a conçu Flutterpour proposerla meilleure rapiditéd’exécution possible pour ses applications, mais à quel point une applicationpeut-elle êtreplus rapide ?\\nEn fait quand on parle deperformance nativeon parlenotamment de l’accèsaux fonctionnalités natives d’un smartphone.\\nAvec Ionic, nous utilisionsCordova JSpour accéderaux fonctionnalitésnatives d’un appareil mobile, commel’appareil photoou lalocalisation.\\nAvec Flutter, qui je vous le rappelle est unSDK,on accède beaucoup plusrapidement auxfonctionnalités natives.\\nGoogle prétend même que les performances sontéquivalentesaudéveloppement natifd’application avec Swift et Javanotamment.\\nÀ ce stade, c’est assezdifficile à vérifier, carles derniers modèles d’iPhonesont déjà extrêmement performants et les différences de performance secalculent en millisecondes.\\nMême les applications de Facebook commeInstagramdéveloppées avecReact proposent des performances excellentes.\\nNous pouvons doncfaire confiance à Googleen ce qui concerne lesperformances et le maintien de celle-ci dans la durée.\\n2.4 Qui utilise Flutter ?\\nLe SDK Flutter estle plus récentde tous les outilslogiciels du monde dudéveloppement mobile.', path=None, url=None, mimetype=None), image_resource=None, audio_resource=None, video_resource=None, text_template='{metadata_str}\\n\\n{content}'),\n",
      " Document(id_='220ea1f1-bbfe-4783-ba8f-a808d1e9d7bd', embedding=None, metadata={'page_label': '11', 'file_name': 'flutter-revolution.pdf', 'file_path': '/home/fitiavana/dev/rag-pdf/data/flutter-revolution.pdf', 'file_type': 'application/pdf', 'file_size': 4005615, 'creation_date': '2025-03-04', 'last_modified_date': '2025-03-04'}, excluded_embed_metadata_keys=['file_name', 'file_type', 'file_size', 'creation_date', 'last_modified_date', 'last_accessed_date'], excluded_llm_metadata_keys=['file_name', 'file_type', 'file_size', 'creation_date', 'last_modified_date', 'last_accessed_date'], relationships={}, metadata_template='{key}: {value}', metadata_separator='\\n', text_resource=MediaResource(embeddings=None, data=None, text='Comme je vous l’ai dit, je me suis spécialisé pendant des années sur leframework Ionic mais qui était lui-même basé surAngular, un autreframework deGoogle.\\nL’avantage d’utiliser unframework matureest quel’on retrouve beaucoup deressources sur internetpour nous faciliter l’apprentissage.\\nSurFlutter, les cours en ligne et tutoriels en françaisrestentplutôt rarespour le moment d’où cette formation.\\nEn ce qui concerne lesentreprisesqui utilisent Flutter,les plus connus secomptent pour le moment sur les doigts d’une main.\\nVous retrouverez toutes lesstartupsqui l’utilisentsur le site de Flutter:https://flutter.dev/showcase\\nMais pas d’inquiétude, à lafin de ce coursvous ferezpeut-être partie desfuturs startups ou développeurssélectionnés par Googlepour mettre enavant Flutter 😉\\n3. Qu’est-ce que Dart ?\\nContrairement à ce qu’on peut penser, le projet du langageDartchez Googleestplus ancienque le projetFlutter.\\nIl a été développé chez Google au départ pour combler les défauts duJavaScriptet avait pour objectif de le remplaceren tant que langage pharedu web.\\n', path=None, url=None, mimetype=None), image_resource=None, audio_resource=None, video_resource=None, text_template='{metadata_str}\\n\\n{content}'),\n",
      " Document(id_='ff433053-e55e-41ad-a639-8b374d9d688e', embedding=None, metadata={'page_label': '12', 'file_name': 'flutter-revolution.pdf', 'file_path': '/home/fitiavana/dev/rag-pdf/data/flutter-revolution.pdf', 'file_type': 'application/pdf', 'file_size': 4005615, 'creation_date': '2025-03-04', 'last_modified_date': '2025-03-04'}, excluded_embed_metadata_keys=['file_name', 'file_type', 'file_size', 'creation_date', 'last_modified_date', 'last_accessed_date'], excluded_llm_metadata_keys=['file_name', 'file_type', 'file_size', 'creation_date', 'last_modified_date', 'last_accessed_date'], relationships={}, metadata_template='{key}: {value}', metadata_separator='\\n', text_resource=MediaResource(embeddings=None, data=None, text='Fluttern’est venu dans un deuxième temps pour trouverunenouvelle utilitéau langage Dart resté inconnu du grand public.\\nAujourd’hui avec le langage Dart et Flutter, nous pouvons créer desapplications mobiles, dessites webet deslogicielsde bureau.\\nDart est donc un langage trèspuissantetpolyvalent,car il permet de gérerle côtédesignavec Flutter mais également laconnexionavecFirebase.\\nBref le langage Dart vous offrira de nombreuxchoixen termes dedéveloppement et vous ouvrira aussi des portes pour votrecarrière.\\n3.1 Le Dart et les autres langages\\nLe Dart on va le voir n’est pas si nouveau que ça, mais vient parfaitements’adapter aux besoinsdes développeursd’applications.\\nLe Dart est unlangage orienté objetcomme le sontla plupart des langagesde développement logiciel (C#, Swift, ou Objective C).\\nOn sera amené par exemple à lecomparerauJavaScriptqui fait tourner lamajorité des autres frameworks multiplateformes.\\nContrairement à Angular par exemple, on développequasiment 100%denotrecodeavec leDart.\\nSur les frameworks JavaScript commeAngular et React,on développe avecleslangages webclassiques:\\n● HTML: Pour le contenu de notre application (texte,image, vidéo,boutons)● CSS: Pour styliser nos pages et ajouter des animations\\n', path=None, url=None, mimetype=None), image_resource=None, audio_resource=None, video_resource=None, text_template='{metadata_str}\\n\\n{content}'),\n",
      " Document(id_='58273280-be60-4d7b-90c6-8843f6e1bee8', embedding=None, metadata={'page_label': '13', 'file_name': 'flutter-revolution.pdf', 'file_path': '/home/fitiavana/dev/rag-pdf/data/flutter-revolution.pdf', 'file_type': 'application/pdf', 'file_size': 4005615, 'creation_date': '2025-03-04', 'last_modified_date': '2025-03-04'}, excluded_embed_metadata_keys=['file_name', 'file_type', 'file_size', 'creation_date', 'last_modified_date', 'last_accessed_date'], excluded_llm_metadata_keys=['file_name', 'file_type', 'file_size', 'creation_date', 'last_modified_date', 'last_accessed_date'], relationships={}, metadata_template='{key}: {value}', metadata_separator='\\n', text_resource=MediaResource(embeddings=None, data=None, text='● JavaScript: Pour dynamiser nos applications et les connecter auxbases de données\\nAvec Ionic,on développe en HTML, CSS et JS\\nAvec Flutter,98%de votre application seracodéeen Dart, qu’il s’agisse de lapartiedesignou de la connexion à vos bases de donnéesFirebase.\\nC’est à la fois unavantage et un inconvénient, cardans le cas des langagesweb cela facilite l’apprentissage au début.\\nLe langageHTMLpar exemple esttrès facileà prendreen main, et on peutprogressivement styliser nos pages avec le CSS puis les dynamiser avec leJS.\\nAvec Flutter etDartc’est différent, on doit obligatoirementcomprendreetmaîtriserle Dart pour afficher du contenu.\\nL’avantage est qu’une fois le Dart maîtrisé, on peuttout coderavec ce mêmelangage jusqu’à la fin du développement de notre application.\\nNous allons maintenant parler plus en détail duSDKdu Dartdont je vouslaisse le site web:https://dart.dev/\\n3.2 Le SDK Dart\\n', path=None, url=None, mimetype=None), image_resource=None, audio_resource=None, video_resource=None, text_template='{metadata_str}\\n\\n{content}'),\n",
      " Document(id_='35b70f08-5a25-4bc4-9f52-bbe6fde001cc', embedding=None, metadata={'page_label': '14', 'file_name': 'flutter-revolution.pdf', 'file_path': '/home/fitiavana/dev/rag-pdf/data/flutter-revolution.pdf', 'file_type': 'application/pdf', 'file_size': 4005615, 'creation_date': '2025-03-04', 'last_modified_date': '2025-03-04'}, excluded_embed_metadata_keys=['file_name', 'file_type', 'file_size', 'creation_date', 'last_modified_date', 'last_accessed_date'], excluded_llm_metadata_keys=['file_name', 'file_type', 'file_size', 'creation_date', 'last_modified_date', 'last_accessed_date'], relationships={}, metadata_template='{key}: {value}', metadata_separator='\\n', text_resource=MediaResource(embeddings=None, data=None, text='Tout comme Flutter, Dart est proposé par Googlesous forme de SDKàtélécharger et installer sur votre machine.\\nIl se téléchargeautomatiquementavec l’installationdeFluttersur votreordinateur.\\nNous détaillerons lesétapes d’installationsur Macet Windows dans lesprochains chapitres.\\nCelui-ci contient toutes lesbibliothèques Dartquenous utiliserons pourdévelopper nos applications.\\n3.3 Quelques exemples du Dart\\nReprenonsquelques exemplesde code Dart pour comprendrelesspécificités de ce langage.\\nCes exemples sont tirés de ladocumentation de Googlesur le sitehttps://dart.dev/#try-dart.\\nOn commence avec la traditionnelle fonctionHelloWordqui permet d’afficherce texte dans la console:\\nvoidmain() {print(\\'Hello, World!\\');}Le langage Dart a toujours besoin d’unefonction principalemain()pourexécuter le reste de son code.\\nOn retrouvera ainsi pour chacun de nos codes Dartune unique fonctionmain() qui appelle d’autres fonctions à son tour.\\nIci on utilise la fonction d’affichageprint()pourafficher dans laconsolelemessage: “Hello, World!“.\\nOn peut également afficher afficher d’autreschaînesde caractèresavec unesimple fonction print():\\nvoidmain() {print(\\'a single quoted string\\');print(\"a double quoted string\");', path=None, url=None, mimetype=None), image_resource=None, audio_resource=None, video_resource=None, text_template='{metadata_str}\\n\\n{content}'),\n",
      " Document(id_='4e41a7f5-93f1-4b31-832c-b83f67850ff1', embedding=None, metadata={'page_label': '15', 'file_name': 'flutter-revolution.pdf', 'file_path': '/home/fitiavana/dev/rag-pdf/data/flutter-revolution.pdf', 'file_type': 'application/pdf', 'file_size': 4005615, 'creation_date': '2025-03-04', 'last_modified_date': '2025-03-04'}, excluded_embed_metadata_keys=['file_name', 'file_type', 'file_size', 'creation_date', 'last_modified_date', 'last_accessed_date'], excluded_llm_metadata_keys=['file_name', 'file_type', 'file_size', 'creation_date', 'last_modified_date', 'last_accessed_date'], relationships={}, metadata_template='{key}: {value}', metadata_separator='\\n', text_resource=MediaResource(embeddings=None, data=None, text=\"// Strings can be combined with the + operator.print('cat '+'dog');// Triple quotes define a multi-line string.print('''triple quoted stringsare for multiple lines''');}\\nOn utilisera généralement cette fonctionprint()pourafficherou récupérerdesinformationsà certains endroits de notre codepour vérifier son bonfonctionnement.\\nOn peut également déclarer desconstanteset les intégrerà notre fonctionprint()avec la syntaxe$constante:\\nvoidmain() {// Dart supports string interpolation.constpi =3.14;print('pi is $pi');print('tau is${2* pi}');}On finit par voir un exemple de déclaration de fonction en Dart pourafficherunnombredans laconsole:\\n// Define a function.voidprintInteger(intaNumber) {print('The number is $aNumber.');// Print to console.} // This is where the app starts executing.voidmain() {varnumber =42;// Declare and initialize a variable.printInteger(number);// Call a function.}On déclare la fonctionprintInteger()en lui indiquantle type de paramètre àprendre (ici intreprésente les variables de typesnombres).\\nEnsuite dans notre fonctionmain(), on peut faireappel à cette fonctionprintInteger()en lui indiquant un paramètre de typenombre.\", path=None, url=None, mimetype=None), image_resource=None, audio_resource=None, video_resource=None, text_template='{metadata_str}\\n\\n{content}'),\n",
      " Document(id_='79994948-7da4-4206-b23c-07a54977381c', embedding=None, metadata={'page_label': '16', 'file_name': 'flutter-revolution.pdf', 'file_path': '/home/fitiavana/dev/rag-pdf/data/flutter-revolution.pdf', 'file_type': 'application/pdf', 'file_size': 4005615, 'creation_date': '2025-03-04', 'last_modified_date': '2025-03-04'}, excluded_embed_metadata_keys=['file_name', 'file_type', 'file_size', 'creation_date', 'last_modified_date', 'last_accessed_date'], excluded_llm_metadata_keys=['file_name', 'file_type', 'file_size', 'creation_date', 'last_modified_date', 'last_accessed_date'], relationships={}, metadata_template='{key}: {value}', metadata_separator='\\n', text_resource=MediaResource(embeddings=None, data=None, text='4. Installer Flutter sur macOS\\nDans ce chapitre, nous allons voir comment installer leSDK Fluttersur votreMacde A à Z.\\nUne distinction est faite entre lessystèmes d’exploitation,car les méthodesde téléchargement sont différentes entre Mac et PC.\\nSurMacOS, vous avez la possibilité d’InstallerXcodeetAndroid Studioetvous serez donc capable de développer pouriOS etAndroid.\\nSurWindowsle logiciel Xcoded’Apple n’estpas disponibleet vous nepourrez pas développer ou publier sur iOS.\\nVous pouvez néanmoins faire par exemple tourner unemachine virtuellesurvotre PC avec MacOS.\\nPassons maintenant auxétapes d’installationde Fluttersur MacOS dont jevous laisse la documentation:https://flutter.dev/docs/get-started/install/macos\\n4.1 Installer le SDK Flutter\\nCommencez partélécharger le fichier ZIPcontenanttout le SDK Flutter àinstaller sur votre ordinateur:https://flutter.dev/docs/get-started/install/macos#get-sdk\\nNous allons reprendre toutes les étapes de l’installation et suivre au maximumlesconseilsque propose ladocumentation de Flutter.\\nAinsi, je vous invite à créer comme il le recommande undossier“development” à la racine de votresession utilisateur:\\n', path=None, url=None, mimetype=None), image_resource=None, audio_resource=None, video_resource=None, text_template='{metadata_str}\\n\\n{content}'),\n",
      " Document(id_='f76fd5dd-0106-4b39-9d93-c485cee691ff', embedding=None, metadata={'page_label': '17', 'file_name': 'flutter-revolution.pdf', 'file_path': '/home/fitiavana/dev/rag-pdf/data/flutter-revolution.pdf', 'file_type': 'application/pdf', 'file_size': 4005615, 'creation_date': '2025-03-04', 'last_modified_date': '2025-03-04'}, excluded_embed_metadata_keys=['file_name', 'file_type', 'file_size', 'creation_date', 'last_modified_date', 'last_accessed_date'], excluded_llm_metadata_keys=['file_name', 'file_type', 'file_size', 'creation_date', 'last_modified_date', 'last_accessed_date'], relationships={}, metadata_template='{key}: {value}', metadata_separator='\\n', text_resource=MediaResource(embeddings=None, data=None, text='Par exemple dans le dossier de masession“drissalaoui-sosse”,je crée ledossierdevelopment.\\nCe nouveau dossier development contiendra leSDK deFlutterainsi quetoutes vosfuturesapplicationsFlutter.\\nPourinstallerdéfinitivement leSDK Flutter sur votreMac nous allons utiliserleTerminal, cherchez donc le logiciel sur votre Macet ouvrez-le:\\nUne fois ouvert votre terminal devrait s’ouvrir audossier racinede votresession utilisateur:\\n', path=None, url=None, mimetype=None), image_resource=None, audio_resource=None, video_resource=None, text_template='{metadata_str}\\n\\n{content}'),\n",
      " Document(id_='71dc1b1e-4c4a-40c9-b88f-5f14350cbbdc', embedding=None, metadata={'page_label': '18', 'file_name': 'flutter-revolution.pdf', 'file_path': '/home/fitiavana/dev/rag-pdf/data/flutter-revolution.pdf', 'file_type': 'application/pdf', 'file_size': 4005615, 'creation_date': '2025-03-04', 'last_modified_date': '2025-03-04'}, excluded_embed_metadata_keys=['file_name', 'file_type', 'file_size', 'creation_date', 'last_modified_date', 'last_accessed_date'], excluded_llm_metadata_keys=['file_name', 'file_type', 'file_size', 'creation_date', 'last_modified_date', 'last_accessed_date'], relationships={}, metadata_template='{key}: {value}', metadata_separator='\\n', text_resource=MediaResource(embeddings=None, data=None, text='Vous pouvez ensuite vousrendredans le dossierdevelopmentque vousdevriez avoir créé précédemment:\\ncd developmentUne fois situé dans le dossierdevelopmentdans votreterminal, nous allonspouvoirdézipperle fichier télécharger sur le sitede Flutter.\\nVous pouvez ledézippermanuellement ou utiliser lacommandesuivantepour dézipper le fichierflutter_macos_2.2.3-stable.zip(attention le nom dufichier change avec les versions):\\nunzip flutter_macos_2.2.3-stable.zipPrenez soin auparavant de situer votrefichier zipdans ledossierdevelopment.\\nVoilà pourl’installationdu SDK Flutter, nous allonsmaintenant faire en sortede leconfigurerpour un fonctionnement optimal.\\n4.2 Conﬁgurer le SDK Flutter\\nNous venons doncd’installer le SDK Fluttersur notreMac, nous avons ainsiaccès auxcommandes Flutterpour créer de nouvellesapplications parexemple.\\nNéanmoins, nous avons besoin deconfigurerl’adressede notre SDKpourqu’il soit accessible partout sur notre Mac.\\n', path=None, url=None, mimetype=None), image_resource=None, audio_resource=None, video_resource=None, text_template='{metadata_str}\\n\\n{content}'),\n",
      " Document(id_='7514d400-e523-47bd-9866-9aa0af8373d6', embedding=None, metadata={'page_label': '19', 'file_name': 'flutter-revolution.pdf', 'file_path': '/home/fitiavana/dev/rag-pdf/data/flutter-revolution.pdf', 'file_type': 'application/pdf', 'file_size': 4005615, 'creation_date': '2025-03-04', 'last_modified_date': '2025-03-04'}, excluded_embed_metadata_keys=['file_name', 'file_type', 'file_size', 'creation_date', 'last_modified_date', 'last_accessed_date'], excluded_llm_metadata_keys=['file_name', 'file_type', 'file_size', 'creation_date', 'last_modified_date', 'last_accessed_date'], relationships={}, metadata_template='{key}: {value}', metadata_separator='\\n', text_resource=MediaResource(embeddings=None, data=None, text='LeSDKse trouve précisément dans ledossierbinde notredossier flutter,nous allons donc stocker dans notre Macl’adresseexactede ce dossier.\\nOn utilise lacommandepwdpourtrouverl’adressecomplète du dossierflutter/bin.\\nVous pouvez ainsi utiliser lescommandesci-dessouspour déclarer etaffichercettenouvelle adresse:\\nexport PATH=\"$PATH:`pwd`/development/flutter/bin\"echo $PATHCopiezet mettez l’adresse affichée par le terminal de côtépour pouvoir laréutiliserplus tard.\\nJe vais vous proposerdeux méthodespour déclarervotrevariable globaled’accès au SDK Flutter.\\n4.2.1 Méthode 1: zsh (recommandée)\\nJe commence par vous proposer laméthodelaplus récente,qui utilisel’interpréteur de commandezsh pour Mac.\\nDans lavidéo, je vous montre l’exemple avec l’interpréteurbash, le principeest le même sauf que le zsh est lesuccesseurde bash.\\nReprenez votreterminalet entrez la commande:\\nvim $HOME/.zshrcDans lefichierqui s’affiche dans votre terminal,vous allez pouvoir déclarerl’adresse du SDK Flutter et pouvoir ainsi y accéder depuis tout votreordinateur.\\nReprenez doncl’adressede votre dossierflutter/binetdéclarez la variablesuivante:\\nexport PATH=\"L_ADRESSE_DU_DOSSIER_FLUTTER_BIN\"Voilà parexemplece que donne le rendu de monfichierzshrc:', path=None, url=None, mimetype=None), image_resource=None, audio_resource=None, video_resource=None, text_template='{metadata_str}\\n\\n{content}'),\n",
      " Document(id_='db411612-e605-4d1d-abd5-605935af1490', embedding=None, metadata={'page_label': '20', 'file_name': 'flutter-revolution.pdf', 'file_path': '/home/fitiavana/dev/rag-pdf/data/flutter-revolution.pdf', 'file_type': 'application/pdf', 'file_size': 4005615, 'creation_date': '2025-03-04', 'last_modified_date': '2025-03-04'}, excluded_embed_metadata_keys=['file_name', 'file_type', 'file_size', 'creation_date', 'last_modified_date', 'last_accessed_date'], excluded_llm_metadata_keys=['file_name', 'file_type', 'file_size', 'creation_date', 'last_modified_date', 'last_accessed_date'], relationships={}, metadata_template='{key}: {value}', metadata_separator='\\n', text_resource=MediaResource(embeddings=None, data=None, text='Pourquitterl’édition du fichier, entrez:\\nCrtl + CPuis tapez dans le terminal les caractères suivants pour quitter etenregistrervotre fichier:\\n:wq!Cette commande (write and quite) vous permet de bienenregistrer votrefichier, devrait être visible en bas de votre terminal:\\nUne fois revenu à votre terminal habituel, n’oubliez pas deREDÉMARRERvotre logiciel avant de tester que laméthode zsha bienfonctionné.\\nPour tester que votrevariable PATHa bien été miseà jour, vous pouvezentrez la commande suivante pourl’afficher:\\necho $PATH\\n', path=None, url=None, mimetype=None), image_resource=None, audio_resource=None, video_resource=None, text_template='{metadata_str}\\n\\n{content}'),\n",
      " Document(id_='cbac6aa8-a0a4-4f35-a17d-ae4c7a5a861f', embedding=None, metadata={'page_label': '21', 'file_name': 'flutter-revolution.pdf', 'file_path': '/home/fitiavana/dev/rag-pdf/data/flutter-revolution.pdf', 'file_type': 'application/pdf', 'file_size': 4005615, 'creation_date': '2025-03-04', 'last_modified_date': '2025-03-04'}, excluded_embed_metadata_keys=['file_name', 'file_type', 'file_size', 'creation_date', 'last_modified_date', 'last_accessed_date'], excluded_llm_metadata_keys=['file_name', 'file_type', 'file_size', 'creation_date', 'last_modified_date', 'last_accessed_date'], relationships={}, metadata_template='{key}: {value}', metadata_separator='\\n', text_resource=MediaResource(embeddings=None, data=None, text='Vous pouvez aussi testerpar exemple la commandeflutter doctorpourvérifier si la commande flutter est accessible (ne faites pas encore attentionau résultat de la commande):\\nflutter doctorJe vous montre maintenant ladeuxième méthode,quej’utilise dans la vidéopour ceux que ça intéresse.\\n4.2.2 Méthode 2: bash (utilisée dans la vidéo)\\nSi vous le souhaitez, vous pouvez aussi conserver laméthode bash,qui estsimilaire, maismoins recommandépour Mac à ce jour.\\nNous allons utiliser le fichierbash_profilepourstocker cette adresse demanière définitive.\\nEntrez lesdeux commandessuivantes pourcréerpuisouvrirle fichierbash_profile(vous devez vous trouver dans votre dossierracine utilisateur):\\ntouch .bash_profileopen .bash_profileUndocument textevierge devrait s’ouvrir, vous pouvezalors lui entrerlaligne de code suivante:\\nexport PATH=L_ADRESSE_DU_DOSSIER_FLUTTER_BINParexemplevoilà ce que j’entre dansmon fichierbash_profile:\\nexportPATH=/usr/local/bin:/usr/bin:/bin:/usr/sbin:/sbin:/Users/drissalaoui-sosse/development/flutter/binEnregistrezensuite votre fichier texte etquittezl’éditeurTextEdit, entrezensuite lacommande sourcesuivante pour appliquerles modifications.\\nsource .bash_profileVous pouvez ensuitetesterpar exemple la commandeflutter doctorpourtester si la commande flutter est accessible (ne faites pas encore attention aurésultat de la commande):', path=None, url=None, mimetype=None), image_resource=None, audio_resource=None, video_resource=None, text_template='{metadata_str}\\n\\n{content}'),\n",
      " Document(id_='ed59d27d-2d1d-4b7b-bfa2-7b3c4ec42867', embedding=None, metadata={'page_label': '22', 'file_name': 'flutter-revolution.pdf', 'file_path': '/home/fitiavana/dev/rag-pdf/data/flutter-revolution.pdf', 'file_type': 'application/pdf', 'file_size': 4005615, 'creation_date': '2025-03-04', 'last_modified_date': '2025-03-04'}, excluded_embed_metadata_keys=['file_name', 'file_type', 'file_size', 'creation_date', 'last_modified_date', 'last_accessed_date'], excluded_llm_metadata_keys=['file_name', 'file_type', 'file_size', 'creation_date', 'last_modified_date', 'last_accessed_date'], relationships={}, metadata_template='{key}: {value}', metadata_separator='\\n', text_resource=MediaResource(embeddings=None, data=None, text='flutter doctorOn passe maintenant à laconfiguration de Xcodeetdu lancement de notreémulateur d’iPhone.\\n4.3 Conﬁguration de Xcode\\nNous allons maintenantinstallerle logiciel de développementd’AppleXcodepour accéder auxémulateurs d’iPhone.\\nVous pouveztélécharger Xcodegratuitement en vousrendant sur leMacApp Store:https://apps.apple.com/fr/app/xcode/id497799835?mt=12\\nXcodeest un logiciel assezvolumineuxqui demandechaque année unemise à jour.\\nVotre version deMacOSdoit aussi être à jourpourpermettre à Xcode devous faire utiliser les dernièresfonctionnalitésd’iOS.\\n', path=None, url=None, mimetype=None), image_resource=None, audio_resource=None, video_resource=None, text_template='{metadata_str}\\n\\n{content}'),\n",
      " Document(id_='c089823a-5175-4d7a-8d59-549a631a0f76', embedding=None, metadata={'page_label': '23', 'file_name': 'flutter-revolution.pdf', 'file_path': '/home/fitiavana/dev/rag-pdf/data/flutter-revolution.pdf', 'file_type': 'application/pdf', 'file_size': 4005615, 'creation_date': '2025-03-04', 'last_modified_date': '2025-03-04'}, excluded_embed_metadata_keys=['file_name', 'file_type', 'file_size', 'creation_date', 'last_modified_date', 'last_accessed_date'], excluded_llm_metadata_keys=['file_name', 'file_type', 'file_size', 'creation_date', 'last_modified_date', 'last_accessed_date'], relationships={}, metadata_template='{key}: {value}', metadata_separator='\\n', text_resource=MediaResource(embeddings=None, data=None, text='Si ce n’est pas déjà fait, mettez doncà jourvotre version deMacOSetinstallerXcode.\\nUne fois le logiciel installé sur votre Mac, entrez lescommandespourconfigurer Xcodesur votre terminal:\\nsudo xcode-select --switch/Applications/Xcode.app/Contents/Developersudo xcodebuild -runFirstLaunchLe mot clésudovous indique que vous devez entrervotremot de passedans votre terminal pour valider cette action.\\nUne fois ces deux commandes entrées vous pouvez lancer un premiersimulateur d’iPhone 8avec la commandeopen:\\nopen -a SimulatorVous pouvezchanger d’appareil iOSen fait unclique-droitsur l’icône devotre émulateur dans dock et sélectionner par exemple uniPhone 11.\\nVoilà donc lerésultatde votre émulateur iOS qui fonctionne et avec lequelnous allons pouvoir tester nosapplications Flutter.\\nSi vouscréezunepremière applicationrapidementet lalancerdans votreémulateur, entrez lescommandes suivantes:\\nflutter create my_app\\n', path=None, url=None, mimetype=None), image_resource=None, audio_resource=None, video_resource=None, text_template='{metadata_str}\\n\\n{content}'),\n",
      " Document(id_='26a0517b-1248-44cc-ad35-6e3abc56906d', embedding=None, metadata={'page_label': '24', 'file_name': 'flutter-revolution.pdf', 'file_path': '/home/fitiavana/dev/rag-pdf/data/flutter-revolution.pdf', 'file_type': 'application/pdf', 'file_size': 4005615, 'creation_date': '2025-03-04', 'last_modified_date': '2025-03-04'}, excluded_embed_metadata_keys=['file_name', 'file_type', 'file_size', 'creation_date', 'last_modified_date', 'last_accessed_date'], excluded_llm_metadata_keys=['file_name', 'file_type', 'file_size', 'creation_date', 'last_modified_date', 'last_accessed_date'], relationships={}, metadata_template='{key}: {value}', metadata_separator='\\n', text_resource=MediaResource(embeddings=None, data=None, text='cd my_appflutter runNous détaillerons cesétapesdans unautre chapitre.\\n4.4 Conﬁgurer Android Studio\\nLa configuration d’Android Studioest plusrapide,maispas moinstechniqueque pour Xcode.\\nJe vous invite encore une fois à vous référer en parallèle à ce chapitre à ladocumentation de Flutter:https://flutter.dev/docs/get-started/install/macos#android-setup\\nVous pouvez notamment commencer partélécharger AndroidStudiosurMac à cette adresse:https://developer.android.com/studio\\nLancezensuite lefichier téléchargépour démarrerl’installationd’AndroidStudio.\\nVous devriez voir également les différentesSDK supplémentairesqui vontêtreinstalléspar la même occasion.\\nUne fois installé,lancez Android Studioune premièrefois et ouvrez lesparamètresSDK Managers:\\n', path=None, url=None, mimetype=None), image_resource=None, audio_resource=None, video_resource=None, text_template='{metadata_str}\\n\\n{content}'),\n",
      " Document(id_='b3e9fca7-ae2b-40a3-bfbd-cf581aa2cdcb', embedding=None, metadata={'page_label': '25', 'file_name': 'flutter-revolution.pdf', 'file_path': '/home/fitiavana/dev/rag-pdf/data/flutter-revolution.pdf', 'file_type': 'application/pdf', 'file_size': 4005615, 'creation_date': '2025-03-04', 'last_modified_date': '2025-03-04'}, excluded_embed_metadata_keys=['file_name', 'file_type', 'file_size', 'creation_date', 'last_modified_date', 'last_accessed_date'], excluded_llm_metadata_keys=['file_name', 'file_type', 'file_size', 'creation_date', 'last_modified_date', 'last_accessed_date'], relationships={}, metadata_template='{key}: {value}', metadata_separator='\\n', text_resource=MediaResource(embeddings=None, data=None, text='Vous pouvez de cette manièrevérifierla présenceduSDK Android BuildToolainsi que duAndroid emulatorque nous allonsutiliser.\\n', path=None, url=None, mimetype=None), image_resource=None, audio_resource=None, video_resource=None, text_template='{metadata_str}\\n\\n{content}'),\n",
      " Document(id_='314d4164-c678-498d-8a23-f9ecb8e54429', embedding=None, metadata={'page_label': '26', 'file_name': 'flutter-revolution.pdf', 'file_path': '/home/fitiavana/dev/rag-pdf/data/flutter-revolution.pdf', 'file_type': 'application/pdf', 'file_size': 4005615, 'creation_date': '2025-03-04', 'last_modified_date': '2025-03-04'}, excluded_embed_metadata_keys=['file_name', 'file_type', 'file_size', 'creation_date', 'last_modified_date', 'last_accessed_date'], excluded_llm_metadata_keys=['file_name', 'file_type', 'file_size', 'creation_date', 'last_modified_date', 'last_accessed_date'], relationships={}, metadata_template='{key}: {value}', metadata_separator='\\n', text_resource=MediaResource(embeddings=None, data=None, text='Si jamais il manquel’un des outils ou SDK,cochez-lepour l’installersurvotre Mac.\\nPassons maintenant à laconfigurationd’unpremierémulateur Android,pour cela ouvrez le menuAVD Manager:\\n', path=None, url=None, mimetype=None), image_resource=None, audio_resource=None, video_resource=None, text_template='{metadata_str}\\n\\n{content}'),\n",
      " Document(id_='162319b7-0874-40db-8de5-23a921d81beb', embedding=None, metadata={'page_label': '27', 'file_name': 'flutter-revolution.pdf', 'file_path': '/home/fitiavana/dev/rag-pdf/data/flutter-revolution.pdf', 'file_type': 'application/pdf', 'file_size': 4005615, 'creation_date': '2025-03-04', 'last_modified_date': '2025-03-04'}, excluded_embed_metadata_keys=['file_name', 'file_type', 'file_size', 'creation_date', 'last_modified_date', 'last_accessed_date'], excluded_llm_metadata_keys=['file_name', 'file_type', 'file_size', 'creation_date', 'last_modified_date', 'last_accessed_date'], relationships={}, metadata_template='{key}: {value}', metadata_separator='\\n', text_resource=MediaResource(embeddings=None, data=None, text='L’interface vous proposera lors decréer un nouvelappareil virtuel:\\n', path=None, url=None, mimetype=None), image_resource=None, audio_resource=None, video_resource=None, text_template='{metadata_str}\\n\\n{content}'),\n",
      " Document(id_='a9c7cc51-3733-44a1-932e-18b2a0073c35', embedding=None, metadata={'page_label': '28', 'file_name': 'flutter-revolution.pdf', 'file_path': '/home/fitiavana/dev/rag-pdf/data/flutter-revolution.pdf', 'file_type': 'application/pdf', 'file_size': 4005615, 'creation_date': '2025-03-04', 'last_modified_date': '2025-03-04'}, excluded_embed_metadata_keys=['file_name', 'file_type', 'file_size', 'creation_date', 'last_modified_date', 'last_accessed_date'], excluded_llm_metadata_keys=['file_name', 'file_type', 'file_size', 'creation_date', 'last_modified_date', 'last_accessed_date'], relationships={}, metadata_template='{key}: {value}', metadata_separator='\\n', text_resource=MediaResource(embeddings=None, data=None, text='Sélectionnez dans lacatégorie Phonele modèle devotre choix, par exempleunPixel 2de Google:\\n', path=None, url=None, mimetype=None), image_resource=None, audio_resource=None, video_resource=None, text_template='{metadata_str}\\n\\n{content}'),\n",
      " Document(id_='e0e7be85-ec51-4920-9b6f-c2f1df8f8f02', embedding=None, metadata={'page_label': '29', 'file_name': 'flutter-revolution.pdf', 'file_path': '/home/fitiavana/dev/rag-pdf/data/flutter-revolution.pdf', 'file_type': 'application/pdf', 'file_size': 4005615, 'creation_date': '2025-03-04', 'last_modified_date': '2025-03-04'}, excluded_embed_metadata_keys=['file_name', 'file_type', 'file_size', 'creation_date', 'last_modified_date', 'last_accessed_date'], excluded_llm_metadata_keys=['file_name', 'file_type', 'file_size', 'creation_date', 'last_modified_date', 'last_accessed_date'], relationships={}, metadata_template='{key}: {value}', metadata_separator='\\n', text_resource=MediaResource(embeddings=None, data=None, text='Installeret télécharger ladernière version d’Android OSsur cet émulateurpour terminer la configuration de cet appareil.\\nUne foisl’émulateurAndroidtéléchargéet installé,il devrait apparaître dansle tableau de vosmachines virtuelles.\\nVous pouvez cliquez sur lebouton Playpourlancercet émulateur Android.\\nUnPixel 2devrait doncapparaîtresur votre Mac,dans lequel nous allonspouvoirlancer notre première applicationFlutter.\\nReprenez votreterminalet entrez la commande suivantepourrepérerd’éventuels problèmesà corriger:\\nflutter doctorSi vous n’avez pas encore créé d’application Flutter,vous pouvez encréerune rapidementet la lancer dans votreémulateur Androidavec lescommandes suivantes:\\nflutter create my_appcd my_appflutter run\\n', path=None, url=None, mimetype=None), image_resource=None, audio_resource=None, video_resource=None, text_template='{metadata_str}\\n\\n{content}'),\n",
      " Document(id_='11e38f09-3a83-4473-97f5-2211b42e78f5', embedding=None, metadata={'page_label': '30', 'file_name': 'flutter-revolution.pdf', 'file_path': '/home/fitiavana/dev/rag-pdf/data/flutter-revolution.pdf', 'file_type': 'application/pdf', 'file_size': 4005615, 'creation_date': '2025-03-04', 'last_modified_date': '2025-03-04'}, excluded_embed_metadata_keys=['file_name', 'file_type', 'file_size', 'creation_date', 'last_modified_date', 'last_accessed_date'], excluded_llm_metadata_keys=['file_name', 'file_type', 'file_size', 'creation_date', 'last_modified_date', 'last_accessed_date'], relationships={}, metadata_template='{key}: {value}', metadata_separator='\\n', text_resource=MediaResource(embeddings=None, data=None, text='Votreapplication Flutterdevrait ainsi se lancer dans unPixel 2avecl’apparence et le design d’uneapplication Androidclassique.\\nVoilà pourl’installation de Fluttersur votreMac.\\n5. Installer Flutter sur Windows\\nDans ce chapitre nous allons voir commentinstallerFluttersur un PCWindows.\\nLa procédure est légèrementdifférenteque sur unMac, notamment en cequi concerne la déclaration desvariables d’environnement.\\nEn ce qui concerneAndroid Studiole logiciel estidentiquesur Windows etMac donc pas de différence majeure à ce niveau-là\\nEn revanche sur Windows vous n’avezpas accèsaulogicielXcodeet doncau développement suriOS.\\nVous ne pourrez pas tester vos applications sur un émulateurd’iPhoneoud’iPad.\\nPour cela vous devrez soitinstaller MacOSsur votrePC ou le faire tournersur unemachine virtuelleavec un logiciel adapté.\\n5.1 Installer le SDK Flutter sur Windows\\n', path=None, url=None, mimetype=None), image_resource=None, audio_resource=None, video_resource=None, text_template='{metadata_str}\\n\\n{content}'),\n",
      " Document(id_='ba3af108-a956-4301-908b-63a85d70d13b', embedding=None, metadata={'page_label': '31', 'file_name': 'flutter-revolution.pdf', 'file_path': '/home/fitiavana/dev/rag-pdf/data/flutter-revolution.pdf', 'file_type': 'application/pdf', 'file_size': 4005615, 'creation_date': '2025-03-04', 'last_modified_date': '2025-03-04'}, excluded_embed_metadata_keys=['file_name', 'file_type', 'file_size', 'creation_date', 'last_modified_date', 'last_accessed_date'], excluded_llm_metadata_keys=['file_name', 'file_type', 'file_size', 'creation_date', 'last_modified_date', 'last_accessed_date'], relationships={}, metadata_template='{key}: {value}', metadata_separator='\\n', text_resource=MediaResource(embeddings=None, data=None, text='Pour commencer nous allons télécharger et installer leSDK Fluttersur notrePCWindows.\\nVous pouvez vous rendre sur lesite de Flutterpourtéléchargerla dernièreversion du SDK:https://flutter.dev/docs/get-started/install/windows#get-the-flutter-sdk\\nVous pouvez également utiliser lacommande gitsi vous l’avez installé survotre ordinateur pour télécharger la dernièreversiondu SDK Flutter.\\ngit clone https://github.com/flutter/flutter.git -b stable\\nJe vous invite quelle que soit la méthode que vous utilisez, de placer leSDKFlutterdans un nouveaudossier“development“.\\nPour créer ce nouveau dossier à la racine de votre session utilisateur, ouvrezle logiciel “Console” ou “Invite de commande“.\\nUne fois ouvert, entrez la commandemkdirpourcréerle dossierdevelopment etstartpourl’ouvrirdans votre explorateurde fichier.\\nmkdir developmentstart development\\n', path=None, url=None, mimetype=None), image_resource=None, audio_resource=None, video_resource=None, text_template='{metadata_str}\\n\\n{content}'),\n",
      " Document(id_='516e27df-728f-439f-818a-d435733b282d', embedding=None, metadata={'page_label': '32', 'file_name': 'flutter-revolution.pdf', 'file_path': '/home/fitiavana/dev/rag-pdf/data/flutter-revolution.pdf', 'file_type': 'application/pdf', 'file_size': 4005615, 'creation_date': '2025-03-04', 'last_modified_date': '2025-03-04'}, excluded_embed_metadata_keys=['file_name', 'file_type', 'file_size', 'creation_date', 'last_modified_date', 'last_accessed_date'], excluded_llm_metadata_keys=['file_name', 'file_type', 'file_size', 'creation_date', 'last_modified_date', 'last_accessed_date'], relationships={}, metadata_template='{key}: {value}', metadata_separator='\\n', text_resource=MediaResource(embeddings=None, data=None, text='Une fois que ce dossierdevelopmentest ouvert, je vous invite àtransférerle contenu dézippédu SDK Flutter dans ce nouveaudossier.\\nMaintenant que votreSDK Flutterse trouve dans votredossierdevelopment, vous pouvez vous rendre dans le sousdossierflutter/bin:\\ncd development/flutter/bin\\nC’est en effet dans cesous-dossierque se trouvenotrecommande flutterqui nous permettra de créer et déployer nos applications.\\nVous pouvez par exemple tester lacommande d’analyse“flutter doctor” quivous indique si tout est bien installé sur votre ordinateur.\\nflutter doctor\\nPour le moment, la console devrait vous indiquerl’absencedu SDK Androidsur votre PC.\\n5.2 Conﬁgurer le SDK Flutter sur Windows\\nNous sommes donc capables d’utiliser lacommande Flutteret accéder àtout le SDK.\\nMais pour l’instant, nous ne pouvons le faire qu’ennous rendantdans cesous-dossier bin.\\n', path=None, url=None, mimetype=None), image_resource=None, audio_resource=None, video_resource=None, text_template='{metadata_str}\\n\\n{content}'),\n",
      " Document(id_='ddeff2ff-a244-4ca1-847e-9063ee6bddfe', embedding=None, metadata={'page_label': '33', 'file_name': 'flutter-revolution.pdf', 'file_path': '/home/fitiavana/dev/rag-pdf/data/flutter-revolution.pdf', 'file_type': 'application/pdf', 'file_size': 4005615, 'creation_date': '2025-03-04', 'last_modified_date': '2025-03-04'}, excluded_embed_metadata_keys=['file_name', 'file_type', 'file_size', 'creation_date', 'last_modified_date', 'last_accessed_date'], excluded_llm_metadata_keys=['file_name', 'file_type', 'file_size', 'creation_date', 'last_modified_date', 'last_accessed_date'], relationships={}, metadata_template='{key}: {value}', metadata_separator='\\n', text_resource=MediaResource(embeddings=None, data=None, text='Nous pouvons déclarer et mettre à jour nosvariables d’environnementspour pouvoir accéder à la commande Flutter depuisn’importe ou.\\nPour cela, tapez dans la barre de recherche Windows “env” et cliquez sur lerésultat “Modifier les variables d’environnement“:\\nUne fois lepanneau de configurationouvert, cliquezsur le bouton“Variables d’environnement” en bas de la page:\\n', path=None, url=None, mimetype=None), image_resource=None, audio_resource=None, video_resource=None, text_template='{metadata_str}\\n\\n{content}'),\n",
      " Document(id_='746750d3-68f2-41b1-9f2a-2347a0dff6f0', embedding=None, metadata={'page_label': '34', 'file_name': 'flutter-revolution.pdf', 'file_path': '/home/fitiavana/dev/rag-pdf/data/flutter-revolution.pdf', 'file_type': 'application/pdf', 'file_size': 4005615, 'creation_date': '2025-03-04', 'last_modified_date': '2025-03-04'}, excluded_embed_metadata_keys=['file_name', 'file_type', 'file_size', 'creation_date', 'last_modified_date', 'last_accessed_date'], excluded_llm_metadata_keys=['file_name', 'file_type', 'file_size', 'creation_date', 'last_modified_date', 'last_accessed_date'], relationships={}, metadata_template='{key}: {value}', metadata_separator='\\n', text_resource=MediaResource(embeddings=None, data=None, text='Il devrait alors vous afficher lesvariables d’environnement,déjà présentessur votre PC.\\nSi la variablePATHouPathexiste déjà cliquez dessuset surModifierpour lamettre à jour.\\nSI ellen’apparaît pas encore, cliquez sur “Nouvelle“:\\n', path=None, url=None, mimetype=None), image_resource=None, audio_resource=None, video_resource=None, text_template='{metadata_str}\\n\\n{content}'),\n",
      " Document(id_='336f7d41-1f40-4ea2-b376-3d15aa0d32a0', embedding=None, metadata={'page_label': '35', 'file_name': 'flutter-revolution.pdf', 'file_path': '/home/fitiavana/dev/rag-pdf/data/flutter-revolution.pdf', 'file_type': 'application/pdf', 'file_size': 4005615, 'creation_date': '2025-03-04', 'last_modified_date': '2025-03-04'}, excluded_embed_metadata_keys=['file_name', 'file_type', 'file_size', 'creation_date', 'last_modified_date', 'last_accessed_date'], excluded_llm_metadata_keys=['file_name', 'file_type', 'file_size', 'creation_date', 'last_modified_date', 'last_accessed_date'], relationships={}, metadata_template='{key}: {value}', metadata_separator='\\n', text_resource=MediaResource(embeddings=None, data=None, text='Indiquez alors le nouveau de votre variable “PATH”et donnez-lui l’adresse devotrerépertoire flutter/binde votre disque:\\nCliquez ensuite surOKet fermer votre panneau deconfiguration etRELANCER votre terminal.\\nLorsque vous entrerez lacommandesuivanteechosuivante:\\necho %PATH%\\n', path=None, url=None, mimetype=None), image_resource=None, audio_resource=None, video_resource=None, text_template='{metadata_str}\\n\\n{content}'),\n",
      " Document(id_='1cb85ee3-2c0b-4cf4-9993-d8aae3f1d0d8', embedding=None, metadata={'page_label': '36', 'file_name': 'flutter-revolution.pdf', 'file_path': '/home/fitiavana/dev/rag-pdf/data/flutter-revolution.pdf', 'file_type': 'application/pdf', 'file_size': 4005615, 'creation_date': '2025-03-04', 'last_modified_date': '2025-03-04'}, excluded_embed_metadata_keys=['file_name', 'file_type', 'file_size', 'creation_date', 'last_modified_date', 'last_accessed_date'], excluded_llm_metadata_keys=['file_name', 'file_type', 'file_size', 'creation_date', 'last_modified_date', 'last_accessed_date'], relationships={}, metadata_template='{key}: {value}', metadata_separator='\\n', text_resource=MediaResource(embeddings=None, data=None, text='Votre console devrait vousaffichertoutes lesvariables d’environnementdevotre PC.\\nElles sont séparées par des point virgules et ladernièredevrait être l’adressede votreSDK Flutter flutter/bin.\\nVous avez donc normalement accès à lacommande Flutterdepuistoutvotre PCpour créer par exemple de nouvelle application.\\n5.3 Conﬁgurer Android Studio\\nPour terminer nous allons maintenantinstaller etconfigurerle logiciel dedéveloppementAndroid Studio:https://developer.android.com/studio\\nLaprocédured’installation est lamêmeque pourMac,et elle est classiquedonc pas d’inquiétude à ce niveau-là.\\nUne fois que le logiciel Android Studio est téléchargéet installé, ouvrez-leune première fois.\\n', path=None, url=None, mimetype=None), image_resource=None, audio_resource=None, video_resource=None, text_template='{metadata_str}\\n\\n{content}'),\n",
      " Document(id_='12509d2d-b9d8-4b7d-a765-d5ebf7aa0f56', embedding=None, metadata={'page_label': '37', 'file_name': 'flutter-revolution.pdf', 'file_path': '/home/fitiavana/dev/rag-pdf/data/flutter-revolution.pdf', 'file_type': 'application/pdf', 'file_size': 4005615, 'creation_date': '2025-03-04', 'last_modified_date': '2025-03-04'}, excluded_embed_metadata_keys=['file_name', 'file_type', 'file_size', 'creation_date', 'last_modified_date', 'last_accessed_date'], excluded_llm_metadata_keys=['file_name', 'file_type', 'file_size', 'creation_date', 'last_modified_date', 'last_accessed_date'], relationships={}, metadata_template='{key}: {value}', metadata_separator='\\n', text_resource=MediaResource(embeddings=None, data=None, text='Sur le bouton Configure, cliquez surSDK Managerpourvérifier la présencedetous les SDKdont nous allons avoir besoin parla suite.\\nNous utiliseronsAndroid SDK Build-Tools,AndroidEmulatoretAndroidSDK Platform-Tools.\\n', path=None, url=None, mimetype=None), image_resource=None, audio_resource=None, video_resource=None, text_template='{metadata_str}\\n\\n{content}'),\n",
      " Document(id_='93a22148-f3e7-4936-9156-60103e982a11', embedding=None, metadata={'page_label': '38', 'file_name': 'flutter-revolution.pdf', 'file_path': '/home/fitiavana/dev/rag-pdf/data/flutter-revolution.pdf', 'file_type': 'application/pdf', 'file_size': 4005615, 'creation_date': '2025-03-04', 'last_modified_date': '2025-03-04'}, excluded_embed_metadata_keys=['file_name', 'file_type', 'file_size', 'creation_date', 'last_modified_date', 'last_accessed_date'], excluded_llm_metadata_keys=['file_name', 'file_type', 'file_size', 'creation_date', 'last_modified_date', 'last_accessed_date'], relationships={}, metadata_template='{key}: {value}', metadata_separator='\\n', text_resource=MediaResource(embeddings=None, data=None, text='S’il enmanque un, cliquez dessus etinstallez-lepour être à jour.\\nEnsuite revenez sur l’écran d’accueild’Android Studioet cliquez cette fois-cisurAVD Manager:\\n', path=None, url=None, mimetype=None), image_resource=None, audio_resource=None, video_resource=None, text_template='{metadata_str}\\n\\n{content}'),\n",
      " Document(id_='89b37ea3-842c-4229-a2ab-a62f115993b1', embedding=None, metadata={'page_label': '39', 'file_name': 'flutter-revolution.pdf', 'file_path': '/home/fitiavana/dev/rag-pdf/data/flutter-revolution.pdf', 'file_type': 'application/pdf', 'file_size': 4005615, 'creation_date': '2025-03-04', 'last_modified_date': '2025-03-04'}, excluded_embed_metadata_keys=['file_name', 'file_type', 'file_size', 'creation_date', 'last_modified_date', 'last_accessed_date'], excluded_llm_metadata_keys=['file_name', 'file_type', 'file_size', 'creation_date', 'last_modified_date', 'last_accessed_date'], relationships={}, metadata_template='{key}: {value}', metadata_separator='\\n', text_resource=MediaResource(embeddings=None, data=None, text='C’est legestionnaire des émulateurs Android(AndroidVirtual Device: AVD)qui nous permettra de leslancerou d’encréerdenouveaux.\\nVous pouvez donc cliquez sur “+ Create Virtual Device”pour créer notrepremier émulateurAndroid:\\n', path=None, url=None, mimetype=None), image_resource=None, audio_resource=None, video_resource=None, text_template='{metadata_str}\\n\\n{content}'),\n",
      " Document(id_='4c6e4146-3020-4667-a72a-b51e70b24cd6', embedding=None, metadata={'page_label': '40', 'file_name': 'flutter-revolution.pdf', 'file_path': '/home/fitiavana/dev/rag-pdf/data/flutter-revolution.pdf', 'file_type': 'application/pdf', 'file_size': 4005615, 'creation_date': '2025-03-04', 'last_modified_date': '2025-03-04'}, excluded_embed_metadata_keys=['file_name', 'file_type', 'file_size', 'creation_date', 'last_modified_date', 'last_accessed_date'], excluded_llm_metadata_keys=['file_name', 'file_type', 'file_size', 'creation_date', 'last_modified_date', 'last_accessed_date'], relationships={}, metadata_template='{key}: {value}', metadata_separator='\\n', text_resource=MediaResource(embeddings=None, data=None, text='Sélectionnez ensuite lemodèle d’Androidque voussouhaitez reproduire,personnellement je conserve le choix duPixel 2proposépar défaut:\\nInstallez ensuite ladernière version d’Androidetvalider toutes les étapesde la création votre premier émulateur.\\nUne fois créé, il devrait apparaître dans votretableaude bord, vous n’avezplus qu’à le lancer en cliquant surl’icône play:\\n', path=None, url=None, mimetype=None), image_resource=None, audio_resource=None, video_resource=None, text_template='{metadata_str}\\n\\n{content}'),\n",
      " Document(id_='59849334-d4f9-4b3f-8a0d-e1c17a87d14a', embedding=None, metadata={'page_label': '41', 'file_name': 'flutter-revolution.pdf', 'file_path': '/home/fitiavana/dev/rag-pdf/data/flutter-revolution.pdf', 'file_type': 'application/pdf', 'file_size': 4005615, 'creation_date': '2025-03-04', 'last_modified_date': '2025-03-04'}, excluded_embed_metadata_keys=['file_name', 'file_type', 'file_size', 'creation_date', 'last_modified_date', 'last_accessed_date'], excluded_llm_metadata_keys=['file_name', 'file_type', 'file_size', 'creation_date', 'last_modified_date', 'last_accessed_date'], relationships={}, metadata_template='{key}: {value}', metadata_separator='\\n', text_resource=MediaResource(embeddings=None, data=None, text='Pendant que votre émulateur Androids’ouvreet secharge correctement,ouvrez à nouveau votreconsole Windows.\\nRendez-vous dans votrerépertoire de développement:\\ncd development\\nPuiscréezvotrenouvelle application Flutteravecla commande:\\nflutter create my_app\\nUnnouveau dossierdevrait apparaître dans votre répertoiredevelopment,contenant tout le code de votreapplication Flutter.\\nAvantde lancer votre application dans l’émulateurAndroid, exécutez unedernière foisla commande:\\nflutter doctor\\nPour repérer d’éventuelleserreurs du SDK, dans moncas, je devais encoreaccepter les conditions d’utilisationduSDK d’Android,j’ai donc dû entrezla commande suivante:\\n', path=None, url=None, mimetype=None), image_resource=None, audio_resource=None, video_resource=None, text_template='{metadata_str}\\n\\n{content}'),\n",
      " Document(id_='eef36c5b-c998-469a-b2aa-b1b00afdb26a', embedding=None, metadata={'page_label': '42', 'file_name': 'flutter-revolution.pdf', 'file_path': '/home/fitiavana/dev/rag-pdf/data/flutter-revolution.pdf', 'file_type': 'application/pdf', 'file_size': 4005615, 'creation_date': '2025-03-04', 'last_modified_date': '2025-03-04'}, excluded_embed_metadata_keys=['file_name', 'file_type', 'file_size', 'creation_date', 'last_modified_date', 'last_accessed_date'], excluded_llm_metadata_keys=['file_name', 'file_type', 'file_size', 'creation_date', 'last_modified_date', 'last_accessed_date'], relationships={}, metadata_template='{key}: {value}', metadata_separator='\\n', text_resource=MediaResource(embeddings=None, data=None, text='flutter doctor --android-licensesUne fois toutes les conditions d’utilisation acceptées, vous pouvez lancer lacommande runpour lancer votre application:\\nflutter run\\nPatientez quelques instants pour voir votre applicationse lancerdans votreémulateur Android.\\nVoilà pourl’installation de FluttersurWindows.\\n6. Conﬁgurer Visual Studio Code\\nDans ce chapitre, nous allons voir commentinstalleret configurerl’éditeurde codeVisual Studiopour créer nos applicationsavec Flutter.\\nFlutter propose en effetdifférentes solutionspourdévelopper avec Dart etFlutter, j’ai choisi d’utiliser Visual Studio Code, car le logiciel estdisponiblesur toutes les plateformesMac et PC.\\n', path=None, url=None, mimetype=None), image_resource=None, audio_resource=None, video_resource=None, text_template='{metadata_str}\\n\\n{content}'),\n",
      " Document(id_='899c4350-5519-4b58-bd0e-37332e64a53e', embedding=None, metadata={'page_label': '43', 'file_name': 'flutter-revolution.pdf', 'file_path': '/home/fitiavana/dev/rag-pdf/data/flutter-revolution.pdf', 'file_type': 'application/pdf', 'file_size': 4005615, 'creation_date': '2025-03-04', 'last_modified_date': '2025-03-04'}, excluded_embed_metadata_keys=['file_name', 'file_type', 'file_size', 'creation_date', 'last_modified_date', 'last_accessed_date'], excluded_llm_metadata_keys=['file_name', 'file_type', 'file_size', 'creation_date', 'last_modified_date', 'last_accessed_date'], relationships={}, metadata_template='{key}: {value}', metadata_separator='\\n', text_resource=MediaResource(embeddings=None, data=None, text='Nous verrons ensuite commentcréer une nouvelle application Flutterenpartant de zéro et l’ouvrir dans votre émulateuriOSou Androiddepuis VisualStudio Code (VSC).\\n6.1 Installer et conﬁgurer Visual Studio Code\\nFlutterpropose une page consacrée à la configurationd’unéditeur de code:https://flutter.dev/docs/get-started/editor?tab=vscode\\nJ’ai choisi VSCcar Flutter y a créé desextensionsqui transforment l’éditeuren véritablelogicielde développement trèscomplet.\\nNous n’aurons mêmeplus besoin d’ouvrir Xcode ou AndroidStudiopourlancer nos applications dans un émulateur.\\nVous pouvez commencer partélécharger le logicielVSCdepuis le site:https://code.visualstudio.com/\\nUne fois le logiciel installé et lancer sur votre ordinateur, nous allons installerlesplugins Dart et Flutterde VSC.\\nOuvrez lemenu des extensionsà gauche de votre logiciel,puis tapez danslabarre de recherche“Flutter”.\\nInstaller ensuite le premierpluginqui s’affichequi dois avoir étéédité parDart Code.\\n', path=None, url=None, mimetype=None), image_resource=None, audio_resource=None, video_resource=None, text_template='{metadata_str}\\n\\n{content}'),\n",
      " Document(id_='7d27b791-dc76-405a-a920-6b384189a0cf', embedding=None, metadata={'page_label': '44', 'file_name': 'flutter-revolution.pdf', 'file_path': '/home/fitiavana/dev/rag-pdf/data/flutter-revolution.pdf', 'file_type': 'application/pdf', 'file_size': 4005615, 'creation_date': '2025-03-04', 'last_modified_date': '2025-03-04'}, excluded_embed_metadata_keys=['file_name', 'file_type', 'file_size', 'creation_date', 'last_modified_date', 'last_accessed_date'], excluded_llm_metadata_keys=['file_name', 'file_type', 'file_size', 'creation_date', 'last_modified_date', 'last_accessed_date'], relationships={}, metadata_template='{key}: {value}', metadata_separator='\\n', text_resource=MediaResource(embeddings=None, data=None, text='Lorsque leplugin Flutters’installe, leplugin Dartdoit lui aussi êtreinstalléautomatiquement.\\nDans le doute, vérifiez qu’il est bien installé en cherchant leplugin Dartdudéveloppeur Dart Code.\\nMaintenant que lesdeux extensionssontinstallées,nous allonstester lafonctionnalitéla plus intéressante de VSC.\\nCommencez parouvrir le fichier principalde votreapplication, le fichiermain.dartdans le dossierlib:\\n', path=None, url=None, mimetype=None), image_resource=None, audio_resource=None, video_resource=None, text_template='{metadata_str}\\n\\n{content}'),\n",
      " Document(id_='dee8a520-645a-45a7-9c3d-bf89b6b714e6', embedding=None, metadata={'page_label': '45', 'file_name': 'flutter-revolution.pdf', 'file_path': '/home/fitiavana/dev/rag-pdf/data/flutter-revolution.pdf', 'file_type': 'application/pdf', 'file_size': 4005615, 'creation_date': '2025-03-04', 'last_modified_date': '2025-03-04'}, excluded_embed_metadata_keys=['file_name', 'file_type', 'file_size', 'creation_date', 'last_modified_date', 'last_accessed_date'], excluded_llm_metadata_keys=['file_name', 'file_type', 'file_size', 'creation_date', 'last_modified_date', 'last_accessed_date'], relationships={}, metadata_template='{key}: {value}', metadata_separator='\\n', text_resource=MediaResource(embeddings=None, data=None, text='Maintenant que cefichier est ouvert, c’est celui-ci que VSC choisirad’exécuter et de lancerdans votre émulateur.\\nRendez-vous ensuite dans l’onglet Run de votremenulatéralet cliquez sur“Run and Debug“.\\nVSC devrait vous proposer dechoisir un émulateuriOS ou Androidselonvotre configuration.\\nJe choisis de lancer mon application sur unémulateuriOSet il me lance mondernier appareil ouvert, uniPhone 11.\\nAprès unpetit temps de chargementmon applications’ouvre dans monémulateur.\\n', path=None, url=None, mimetype=None), image_resource=None, audio_resource=None, video_resource=None, text_template='{metadata_str}\\n\\n{content}'),\n",
      " Document(id_='dcbbced2-9624-4308-950e-1c666fb36fdd', embedding=None, metadata={'page_label': '46', 'file_name': 'flutter-revolution.pdf', 'file_path': '/home/fitiavana/dev/rag-pdf/data/flutter-revolution.pdf', 'file_type': 'application/pdf', 'file_size': 4005615, 'creation_date': '2025-03-04', 'last_modified_date': '2025-03-04'}, excluded_embed_metadata_keys=['file_name', 'file_type', 'file_size', 'creation_date', 'last_modified_date', 'last_accessed_date'], excluded_llm_metadata_keys=['file_name', 'file_type', 'file_size', 'creation_date', 'last_modified_date', 'last_accessed_date'], relationships={}, metadata_template='{key}: {value}', metadata_separator='\\n', text_resource=MediaResource(embeddings=None, data=None, text='Vous avez accès à unesérie de boutonspourrafraîchirmanuellement votreapplication ou biend’arrêterson exécution.\\nMais normalement dès que vousenregistrez votre fichiermain.dart, votreapplication devraits’actualiser en direct, voilàtoute la magie de Flutter!\\n6.2 Créer une application en partant de zéro\\nJe vous montre à nouveau commentcréer une applicationFlutteren partantde zéro.\\nL’idée ici est de vous montrer laprocédure à suivrelorsqu’on utiliseVSCpour coder ses applications Flutter.\\nVous devez comme toujours ouvrir votreterminaletvous rendre dans ledossier “developmment” qui contient votre SDK Flutteret vos autresapplications.\\ncd developmment\\nUne fois que vous vous trouvez dans cedossier, vouspouvez entrer lacommande “flutter create” pour créer une nouvelleapplication Flutter avecsonnom:\\n', path=None, url=None, mimetype=None), image_resource=None, audio_resource=None, video_resource=None, text_template='{metadata_str}\\n\\n{content}'),\n",
      " Document(id_='c95af7b4-db8c-435f-bce5-d6df3d52ad19', embedding=None, metadata={'page_label': '47', 'file_name': 'flutter-revolution.pdf', 'file_path': '/home/fitiavana/dev/rag-pdf/data/flutter-revolution.pdf', 'file_type': 'application/pdf', 'file_size': 4005615, 'creation_date': '2025-03-04', 'last_modified_date': '2025-03-04'}, excluded_embed_metadata_keys=['file_name', 'file_type', 'file_size', 'creation_date', 'last_modified_date', 'last_accessed_date'], excluded_llm_metadata_keys=['file_name', 'file_type', 'file_size', 'creation_date', 'last_modified_date', 'last_accessed_date'], relationships={}, metadata_template='{key}: {value}', metadata_separator='\\n', text_resource=MediaResource(embeddings=None, data=None, text='flutter create my_flutter_app\\nCette étape doit être effectué depuis votre logiciel Terminal ou Console, etnon dans Visual Studio.\\nVous avez le choix à partir de d’ouvrir votre nouvelleapplication dansVisual Studioet de suivre les procédures précédentespour lancer votreapplication dans un émulateur.\\nSinon vous pouvez aussi rester dans votre terminal,vous rendre dans ledossier de votre application et la lancer avec la commande “flutter run“:\\ncd my_flutter_appflutter run\\nSinon je vous conseille de n’utiliser leTerminalou la Consoleque pourcréerde nouvelles applications, ce qui ne devrait pas arriversi souvent.\\nEnsuite je vous invite àtravailler exclusivementavec Visual Studioquiintègre sonpropre terminal.\\nCela vousfacilitera votre travailde développeuren ayant à ouvrirque lelogiciel Visual Studiolorsque vous voulez améliorervotre application.', path=None, url=None, mimetype=None), image_resource=None, audio_resource=None, video_resource=None, text_template='{metadata_str}\\n\\n{content}')]\n"
     ]
    }
   ],
   "source": [
    "import pprint\n",
    "pprint.pprint(docs)"
   ]
  },
  {
   "cell_type": "markdown",
   "metadata": {},
   "source": [
    "# Transformation"
   ]
  },
  {
   "cell_type": "code",
   "execution_count": 9,
   "metadata": {},
   "outputs": [
    {
     "data": {
      "text/plain": [
       "{'id_': '4f7a0572-9846-4055-942e-6aa85ac81b65',\n",
       " 'embedding': None,\n",
       " 'metadata': {'page_label': '1',\n",
       "  'file_name': 'flutter-revolution.pdf',\n",
       "  'file_path': '/home/fitiavana/dev/rag-pdf/data/flutter-revolution.pdf',\n",
       "  'file_type': 'application/pdf',\n",
       "  'file_size': 4005615,\n",
       "  'creation_date': '2025-03-04',\n",
       "  'last_modified_date': '2025-03-04'},\n",
       " 'excluded_embed_metadata_keys': ['file_name',\n",
       "  'file_type',\n",
       "  'file_size',\n",
       "  'creation_date',\n",
       "  'last_modified_date',\n",
       "  'last_accessed_date'],\n",
       " 'excluded_llm_metadata_keys': ['file_name',\n",
       "  'file_type',\n",
       "  'file_size',\n",
       "  'creation_date',\n",
       "  'last_modified_date',\n",
       "  'last_accessed_date'],\n",
       " 'relationships': {},\n",
       " 'metadata_template': '{key}: {value}',\n",
       " 'metadata_separator': '\\n',\n",
       " 'text_resource': MediaResource(embeddings=None, data=None, text='', path=None, url=None, mimetype=None),\n",
       " 'image_resource': None,\n",
       " 'audio_resource': None,\n",
       " 'video_resource': None,\n",
       " 'text_template': '{metadata_str}\\n\\n{content}'}"
      ]
     },
     "execution_count": 9,
     "metadata": {},
     "output_type": "execute_result"
    }
   ],
   "source": [
    "docs[0].__dict__"
   ]
  },
  {
   "cell_type": "code",
   "execution_count": 10,
   "metadata": {},
   "outputs": [
    {
     "name": "stdout",
     "output_type": "stream",
     "text": [
      "The LLM sees this : \n",
      " Metadata: filename:super_secret_document.txt,\n",
      "category:finance\n",
      "author:LlamaIndex\n",
      "-----\n",
      "Content: This is a super-customized document\n",
      "The Embedding model sees this : \n",
      " Metadata: filename:super_secret_document.txt,\n",
      "category:finance\n",
      "author:LlamaIndex\n",
      "-----\n",
      "Content: This is a super-customized document\n"
     ]
    }
   ],
   "source": [
    "from llama_index.core import Document\n",
    "from llama_index.core.schema import MetadataMode\n",
    "\n",
    "document = Document(\n",
    "    text=\"This is a super-customized document\",\n",
    "    metadata={\n",
    "        \"filename\" : \"super_secret_document.txt,\",\n",
    "        \"category\" : \"finance\",\n",
    "        \"author\" : \"LlamaIndex\"\n",
    "    },\n",
    "    excluded_embeded_metadata_keys=[\"file_name\"],\n",
    "    metadata_separator=\"\\n\",\n",
    "    metadata_template=\"{key}:{value}\",\n",
    "    text_template=\"Metadata: {metadata_str}\\n-----\\nContent: {content}\"\n",
    ")\n",
    "\n",
    "print(\n",
    "    \"The LLM sees this : \\n\",\n",
    "    document.get_content(metadata_mode=MetadataMode.LLM)\n",
    ")\n",
    "\n",
    "print(\n",
    "    \"The Embedding model sees this : \\n\",\n",
    "    document.get_content(metadata_mode=MetadataMode.EMBED)\n",
    ")"
   ]
  },
  {
   "cell_type": "code",
   "execution_count": 11,
   "metadata": {},
   "outputs": [
    {
     "name": "stdout",
     "output_type": "stream",
     "text": [
      "page_label: 2\n",
      "file_path: /home/fitiavana/dev/rag-pdf/data/flutter-revolution.pdf\n",
      "\n",
      "1. Bienvenue1.1 Mon histoire1.2 Mes débuts avec Ionic1.3 Alors pourquoi Flutter ?1.4 Pourquoi ce cours ?\n",
      "2. Qu’est-ce que Flutter ?2.1 Sa rapidité de développement2.2 Son interface utilisateur très flexible2.3 Des performances natives2.4 Qui utilise Flutter ?\n",
      "3. Qu’est-ce que Dart ?3.1 Le Dart et les autres langages3.2 Le SDK Dart3.3 Quelques exemples du Dart\n",
      "4. Installer Flutter sur macOS4.1 Installer le SDK Flutter4.2 Configurer le SDK Flutter4.2.1 Méthode 1: zsh (recommandée)4.2.2 Méthode 2: bash (utilisée dans la vidéo)4.3 Configuration de Xcode4.4 Configurer Android Studio\n",
      "5. Installer Flutter sur Windows5.1 Installer le SDK Flutter sur Windows5.2 Configurer le SDK Flutter sur Windows5.3 Configurer Android Studio\n",
      "6. Configurer Visual Studio Code6.1 Installer et configurer Visual Studio Code6.2 Créer une application en partant de zéro\n"
     ]
    }
   ],
   "source": [
    "from llama_index.core.schema import MetadataMode\n",
    "\n",
    "print(docs[1].get_content(metadata_mode=MetadataMode.EMBED))"
   ]
  },
  {
   "cell_type": "code",
   "execution_count": 12,
   "metadata": {},
   "outputs": [],
   "source": [
    "for doc in docs:\n",
    "    doc.text_template = \"Metadata:\\n{metadata_str}\\n---\\nContent:\\n{content}\"\n",
    "    \n",
    "    if \"page_label\" not in doc.excluded_embed_metadata_keys:\n",
    "        doc.excluded_embed_metadata_keys.append(\"page_label\")"
   ]
  },
  {
   "cell_type": "code",
   "execution_count": 13,
   "metadata": {},
   "outputs": [
    {
     "name": "stdout",
     "output_type": "stream",
     "text": [
      "Metadata:\n",
      "file_path: /home/fitiavana/dev/rag-pdf/data/flutter-revolution.pdf\n",
      "---\n",
      "Content:\n",
      "1. Bienvenue1.1 Mon histoire1.2 Mes débuts avec Ionic1.3 Alors pourquoi Flutter ?1.4 Pourquoi ce cours ?\n",
      "2. Qu’est-ce que Flutter ?2.1 Sa rapidité de développement2.2 Son interface utilisateur très flexible2.3 Des performances natives2.4 Qui utilise Flutter ?\n",
      "3. Qu’est-ce que Dart ?3.1 Le Dart et les autres langages3.2 Le SDK Dart3.3 Quelques exemples du Dart\n",
      "4. Installer Flutter sur macOS4.1 Installer le SDK Flutter4.2 Configurer le SDK Flutter4.2.1 Méthode 1: zsh (recommandée)4.2.2 Méthode 2: bash (utilisée dans la vidéo)4.3 Configuration de Xcode4.4 Configurer Android Studio\n",
      "5. Installer Flutter sur Windows5.1 Installer le SDK Flutter sur Windows5.2 Configurer le SDK Flutter sur Windows5.3 Configurer Android Studio\n",
      "6. Configurer Visual Studio Code6.1 Installer et configurer Visual Studio Code6.2 Créer une application en partant de zéro\n"
     ]
    }
   ],
   "source": [
    "print(docs[1].get_content(metadata_mode=MetadataMode.EMBED))\n"
   ]
  },
  {
   "cell_type": "code",
   "execution_count": 14,
   "metadata": {},
   "outputs": [
    {
     "name": "stdout",
     "output_type": "stream",
     "text": [
      "\u001b[33mWARNING: You are using pip version 21.2.3; however, version 25.0.1 is available.\n",
      "You should consider upgrading via the '/usr/local/bin/python3.10 -m pip install --upgrade pip' command.\u001b[0m\n",
      "Note: you may need to restart the kernel to use updated packages.\n"
     ]
    }
   ],
   "source": [
    "%pip install -Uq llama-index-llms-groq"
   ]
  },
  {
   "cell_type": "code",
   "execution_count": 15,
   "metadata": {},
   "outputs": [],
   "source": [
    "from llama_index.llms.groq import Groq\n",
    "import os \n",
    "import getpass\n",
    "\n",
    "os.environ[\"GROQ_API_KEY\"] = getpass.getpass(\"Enter your Groq API key: \")"
   ]
  },
  {
   "cell_type": "code",
   "execution_count": 16,
   "metadata": {},
   "outputs": [],
   "source": [
    "#llm_transformations = Groq(model=\"qwen-2.5-32b\", api_key=os.environ[\"GROQ_API_KEY\"])\n",
    "llm_transformations = Groq(model=\"gemma2-9b-it\", api_key=os.environ[\"GROQ_API_KEY\"])"
   ]
  },
  {
   "cell_type": "code",
   "execution_count": 17,
   "metadata": {},
   "outputs": [
    {
     "name": "stdout",
     "output_type": "stream",
     "text": [
      "Loading pipeline state from cache...\n",
      "Loading cached result for document 0 (Cache Key: b11c437405e4d5079c2f749a1f5d0f14)...\n",
      "Loading cached result for document 1 (Cache Key: e8a72ad4b9620b02202a40ac5f9b49d0)...\n",
      "Loading cached result for document 2 (Cache Key: 7631232885273b360f4911b88cf53d05)...\n",
      "Loading cached result for document 3 (Cache Key: 70a981949ceac7e9ca3f305b0098d59d)...\n",
      "Loading cached result for document 4 (Cache Key: 64131e8bd8796980070f5f62b81ea446)...\n",
      "Loading cached result for document 5 (Cache Key: 43a54a751895cf0d59f5544911a8312e)...\n",
      "Loading cached result for document 6 (Cache Key: c9cb529ee9864b6630ef52364495ab83)...\n",
      "Loading cached result for document 7 (Cache Key: c63e5e46b99a35db23ecd1d576419f9d)...\n",
      "Loading cached result for document 8 (Cache Key: 9d14fdd87cad98ac97d4b8dbaf36ea8c)...\n",
      "Loading cached result for document 9 (Cache Key: dd345ab3b729ad4b8f5f522c17376e8b)...\n",
      "Loading cached result for document 10 (Cache Key: be34ca7d6ae2be5efd978f58e18eeb71)...\n",
      "Loading cached result for document 11 (Cache Key: 3694ef035a79fd29478fe36243c35d69)...\n",
      "Loading cached result for document 12 (Cache Key: d06a2e8c2c28d07865f1479c0bbba75e)...\n",
      "Loading cached result for document 13 (Cache Key: bcb68c8ec01b8d230956d0bceb63a466)...\n",
      "Loading cached result for document 14 (Cache Key: 787417267b41b081eca310471e18686a)...\n",
      "Loading cached result for document 15 (Cache Key: 1ace2473da1b874a4e77dd09f79b68f0)...\n",
      "Loading cached result for document 16 (Cache Key: 9d0aef16b51668526cdbc218654fb52d)...\n",
      "Loading cached result for document 17 (Cache Key: fa6007ffdede47d0646effeeec527c00)...\n",
      "Loading cached result for document 18 (Cache Key: f3d0f72f9a6ce0c515b7e960a9fdd069)...\n",
      "Loading cached result for document 19 (Cache Key: b8d0205f0438bb3d8de853b6afcef006)...\n",
      "Loading cached result for document 20 (Cache Key: 636800fd89f2335164cd0973f5185485)...\n",
      "Loading cached result for document 21 (Cache Key: 9bb0a95a46d8815cdfe9fd6416cac80e)...\n",
      "Loading cached result for document 22 (Cache Key: 44b91ea18a313c887eadb24d6f3c1d32)...\n",
      "Loading cached result for document 23 (Cache Key: 9548d222d725322366be50c89b3d28cf)...\n",
      "Loading cached result for document 24 (Cache Key: 210b381e6db0c0ca45e9ebf0625189b3)...\n",
      "Loading cached result for document 25 (Cache Key: f43d999596924b269d62ff1d35fa31f0)...\n",
      "Loading cached result for document 26 (Cache Key: 34d030657ca6a766a652fa67a2a4900a)...\n",
      "Loading cached result for document 27 (Cache Key: 3a9e69be7be9d7c7e8d567650046655a)...\n",
      "Loading cached result for document 28 (Cache Key: c086d68f8dfba7602436c421ee906c0a)...\n",
      "Loading cached result for document 29 (Cache Key: 5b704e2fb35f206523a73c551b885af4)...\n",
      "Loading cached result for document 30 (Cache Key: 7e38f219289ead91c92ca21fb27a54b0)...\n",
      "Loading cached result for document 31 (Cache Key: d29aee11e1f4991e185f55363a186d39)...\n",
      "Loading cached result for document 32 (Cache Key: 52f6a893193e6e01f4026f8e9c8c66e9)...\n",
      "Loading cached result for document 33 (Cache Key: 58199c81812f6822f73b0a9a24fe3ae0)...\n",
      "Loading cached result for document 34 (Cache Key: a49d8d6059dce0aad8c7c8fa5151c916)...\n",
      "Loading cached result for document 35 (Cache Key: 6ee9efc4de266bfb1613cf781dceb3c6)...\n",
      "Loading cached result for document 36 (Cache Key: f32faa47adee19d73d756cfd7d0cbb0d)...\n",
      "Loading cached result for document 37 (Cache Key: 767552e162cf2df5ac506b4711acb178)...\n",
      "Loading cached result for document 38 (Cache Key: c39b9de7f6ce0b07a07efaaa8f49b5b7)...\n",
      "Loading cached result for document 39 (Cache Key: 4b6cebbef936222ca5bfdada080a4e2d)...\n",
      "Loading cached result for document 40 (Cache Key: fbb5b1d98a4b6c3c3019585525275ad0)...\n",
      "Loading cached result for document 41 (Cache Key: aa4677529397e2ad2d41f9d585771c34)...\n",
      "Loading cached result for document 42 (Cache Key: dd50aee0228b24cfe0da713f9b91efb9)...\n",
      "Loading cached result for document 43 (Cache Key: 5184607678510892ceb208649eca09b8)...\n",
      "Loading cached result for document 44 (Cache Key: 6b098530ced8f403065d62d7df3569c2)...\n",
      "Loading cached result for document 45 (Cache Key: 48c0c7a903afaaf5b107791b92b0e5b7)...\n",
      "Loading cached result for document 46 (Cache Key: a88dc653edae8706c9f498930249808b)...\n",
      "All documents processed successfully.\n"
     ]
    }
   ],
   "source": [
    "import os\n",
    "import pickle\n",
    "import hashlib\n",
    "from llama_index.core.extractors import TitleExtractor, QuestionsAnsweredExtractor\n",
    "from llama_index.core.node_parser import SentenceSplitter\n",
    "from llama_index.core.ingestion import IngestionPipeline\n",
    "\n",
    "# Define your transformations\n",
    "text_splitter = SentenceSplitter(separator=\" \", chunk_size=1024, chunk_overlap=128)\n",
    "title_extractor = TitleExtractor(llm=llm_transformations, nodes=5)\n",
    "qa_extractor = QuestionsAnsweredExtractor(llm=llm_transformations, questions=3)\n",
    "full_nodes = []\n",
    "# Define the pipeline\n",
    "pipeline = IngestionPipeline(\n",
    "    transformations=[\n",
    "        text_splitter,\n",
    "        title_extractor,\n",
    "        qa_extractor\n",
    "    ]\n",
    ")\n",
    "\n",
    "# Define paths for caching and checkpointing\n",
    "cache_dir = \"./document_cache\"\n",
    "checkpoint_dir = \"./pipeline_checkpoints\"\n",
    "os.makedirs(cache_dir, exist_ok=True)\n",
    "os.makedirs(checkpoint_dir, exist_ok=True)\n",
    "\n",
    "# Function to generate a unique cache key for a document\n",
    "def generate_cache_key(document):\n",
    "    return hashlib.md5(document.text.encode()).hexdigest()\n",
    "\n",
    "# Function to process documents with checkpointing and caching\n",
    "def process_documents(pipeline, docs):\n",
    "    all_results = []\n",
    "    \n",
    "    for i, doc in enumerate(docs):\n",
    "        cache_key = generate_cache_key(doc)\n",
    "        cache_path = os.path.join(cache_dir, f\"{cache_key}.pkl\")\n",
    "        checkpoint_path = os.path.join(checkpoint_dir, f\"checkpoint_{i}.pkl\")\n",
    "\n",
    "        # Check if the document is already processed\n",
    "        if os.path.exists(cache_path):\n",
    "            print(f\"Loading cached result for document {i} (Cache Key: {cache_key})...\")\n",
    "            with open(cache_path, \"rb\") as f:\n",
    "                nodes = pickle.load(f)\n",
    "        else:\n",
    "            try:\n",
    "                print(f\"Processing document {i} (Cache Key: {cache_key})...\")\n",
    "                nodes = pipeline.run(documents=[doc], in_place=True, show_progress=True)\n",
    "\n",
    "                # Save the result to cache\n",
    "                with open(cache_path, \"wb\") as f:\n",
    "                    pickle.dump(nodes, f)\n",
    "\n",
    "                # Save a checkpoint\n",
    "                with open(checkpoint_path, \"wb\") as f:\n",
    "                    pickle.dump(nodes, f)\n",
    "\n",
    "                print(f\"Document {i} processed and cached.\")\n",
    "            except Exception as e:\n",
    "                print(f\"Failed to process document {i}: {e}\")\n",
    "                # Save the pipeline state in case of failure\n",
    "                pipeline.persist(\"./pipeline_storage_failure\")\n",
    "                raise  # Re-raise the exception to stop further processing\n",
    "            \n",
    "        # Append the processed nodes to the results list\n",
    "        all_results.extend(nodes)\n",
    "\n",
    "    # Persist the final pipeline state\n",
    "    pipeline.persist(\"./pipeline_storage\")\n",
    "    print(\"All documents processed successfully.\")\n",
    "\n",
    "    return all_results\n",
    "\n",
    "# Load the pipeline state if it exists\n",
    "if os.path.exists(\"./pipeline_storage\"):\n",
    "    print(\"Loading pipeline state from cache...\")\n",
    "    pipeline.load(\"./pipeline_storage\")\n",
    "else:\n",
    "    print(\"No cached state found. Starting from scratch...\")\n",
    "\n",
    "\n",
    "# Process the documents\n",
    "try:\n",
    "    full_nodes = process_documents(pipeline, docs)\n",
    "except Exception as e:\n",
    "    print(f\"Pipeline failed: {e}\")\n",
    "    print(\"You can resume from the last checkpoint by rerunning the script.\")"
   ]
  },
  {
   "cell_type": "code",
   "execution_count": 18,
   "metadata": {},
   "outputs": [],
   "source": [
    "# pprint.pprint(full_nodes[4].get_content(metadata_mode=MetadataMode.LLM))"
   ]
  },
  {
   "cell_type": "code",
   "execution_count": 19,
   "metadata": {},
   "outputs": [
    {
     "name": "stdout",
     "output_type": "stream",
     "text": [
      "[0.015196111984550953, -0.02257070131599903, 0.008547088131308556, -0.0741705596446991, 0.0038364047650247812, 0.0027135119307786226, -0.0312679260969162, 0.044634025543928146, 0.04405520483851433, -0.007871166802942753, -0.025200804695487022, -0.03336651623249054, 0.014427924528717995, 0.046538203954696655, 0.008555104956030846, -0.01614580675959587, 0.007405780255794525, -0.0190124474465847, -0.1147262379527092, -0.018157633021473885, 0.12635932862758636, 0.029702911153435707, 0.025281017646193504, -0.03421788662672043, -0.04099966958165169, 0.006617267150431871, 0.010270614176988602, 0.022362256422638893, 0.00443634670227766, -0.1273096352815628, -0.016149260103702545, -0.020380141213536263, 0.047212082892656326, 0.011579885147511959, 0.0681871846318245, 0.007298641372472048, -0.017853012308478355, 0.04078211635351181, -0.010269435122609138, 0.023757105693221092, 0.010602894239127636, -0.02858438901603222, 0.008159703575074673, -0.015180494636297226, 0.030896246433258057, -0.06597992032766342, -0.022196492180228233, 0.05402380973100662, 0.002542260568588972, 0.02245274931192398, -0.09165371209383011, -0.04514029622077942, -0.004192078020423651, -0.005621461663395166, -0.0053809392265975475, 0.09839347749948502, 0.06052479147911072, 0.007422883063554764, 0.013938631862401962, 0.00268776947632432, 0.04756936430931091, 0.02863658033311367, -0.155344158411026, 0.06893698871135712, 0.03024814836680889, -0.017939716577529907, 0.020977109670639038, 0.02140876092016697, 0.014081092551350594, 0.0018777948571369052, 0.0026721321046352386, 0.0038723077159374952, 0.04116382822394371, 0.06589511781930923, -0.006151907611638308, -0.016465360298752785, 0.008194774389266968, -0.048955488950014114, -0.021113507449626923, -0.030849315226078033, -0.04047694802284241, 0.05926096439361572, 0.018165223300457, -0.044294245541095734, 0.000703445402905345, -0.027907846495509148, -0.0406387597322464, -0.011253692209720612, -0.02498084492981434, 0.009651402942836285, -0.017492065206170082, -0.02729647234082222, -0.01529028732329607, -0.0053971027955412865, -0.04143833369016647, 0.007155319210141897, 0.007107204757630825, 0.009749120101332664, 0.0006180283962748945, 0.344040185213089, -0.09539387375116348, -0.002025184454396367, 0.02809286303818226, -0.09136320650577545, 0.0595841184258461, 0.02490917593240738, -0.016385607421398163, -0.02911865897476673, -0.008362803608179092, 0.015692589804530144, 0.012841581366956234, -0.06428153067827225, 0.01450107991695404, -0.013740750029683113, 0.0010520033538341522, -0.019681092351675034, 0.05003370717167854, -0.002808462595567107, 0.09320444613695145, -0.029492486268281937, -0.008043665438890457, 0.030725056305527687, -0.043980006128549576, -0.004204492550343275, 0.052866268903017044, -0.06449881941080093, 0.058199796825647354, 0.07761353254318237, 0.011616255156695843, 0.06978409737348557, -0.005409484729170799, 0.05983443185687065, -0.026352528482675552, -0.00866033136844635, 0.0275548305362463, -0.014334382489323616, -0.018221544101834297, -0.013942159712314606, 0.03554503247141838, -0.05676672235131264, 0.008173605427145958, -0.07672373950481415, -0.022576887160539627, -0.11284566670656204, 0.0003389915218576789, 0.030381470918655396, -0.07333745807409286, 0.02454563044011593, -0.019619928672909737, -0.024086005985736847, -0.038938216865062714, 0.0786931961774826, 0.004945787135511637, -0.01632918231189251, 0.007779816165566444, 0.05509069934487343, -0.012773753143846989, 0.06841861456632614, 0.007775878068059683, 0.008763252757489681, -0.00183574587572366, -0.012438077479600906, -0.013271569274365902, 0.006665345747023821, -0.01779903657734394, -0.12814679741859436, 0.009992877021431923, 0.019434820860624313, -0.007243323605507612, 0.0008529987535439432, 0.00328183569945395, 0.016555415466427803, -0.03959724307060242, 0.028904207050800323, 0.10964839160442352, 0.007512461394071579, -0.004082212690263987, 0.04457123577594757, -0.04725167900323868, 0.02510121278464794, 0.06009763479232788, -0.0509146973490715, -0.041688308119773865, 0.01908908225595951, 0.028275392949581146, -0.025334276258945465, -0.020802590996026993, -0.030481666326522827, 0.06234200671315193, 0.06707876920700073, -0.023084664717316628, 0.010649442672729492, -0.03191759064793587, -0.03424482420086861, -0.08421716839075089, 0.003371377242729068, 0.03396973758935928, -0.08108051866292953, 0.013465034775435925, -0.02152445912361145, 0.1462128907442093, 0.053041066974401474, 0.004024861846119165, 0.028765732422471046, 0.0005536271492019296, 0.004209418781101704, 0.04064413532614708, 0.006172474008053541, 0.04487491771578789, 0.013396840542554855, -0.0242760106921196, -0.015174138359725475, 0.07311949878931046, -0.006560409441590309, 0.02193881757557392, -0.042953744530677795, -0.009960761293768883, 0.07461080700159073, 0.02387767657637596, 0.047125622630119324, -0.0397658608853817, 0.010774638503789902, -0.022150563076138496, -0.26237723231315613, 0.01803465001285076, 0.008216079324483871, -0.003416644874960184, -0.03475775197148323, 0.022967809811234474, 0.03806747868657112, -0.05160955712199211, 0.10182670503854752, -0.009048501960933208, 0.0870673879981041, -0.05963806435465813, -0.00833012256771326, -0.03651221841573715, 0.01757085509598255, 0.023195428773760796, -0.01417654100805521, 0.016011396422982216, -0.010097764432430267, -0.022710056975483894, 0.028622573241591454, 0.022965721786022186, 0.043404750525951385, -0.04762281849980354, 0.044430091977119446, -0.059677015990018845, 0.1465604603290558, 0.08372195065021515, -0.02024293690919876, 0.024193404242396355, 0.036350224167108536, -0.027955887839198112, -0.009284969419240952, -0.11986206471920013, -0.025538817048072815, 0.07363231480121613, -0.03464939072728157, -0.06727731227874756, -0.09658315032720566, -0.022283507511019707, -0.012429912574589252, 0.01377258263528347, -0.04093781113624573, -0.004331026691943407, -0.024142518639564514, -0.07481463253498077, -0.0526169054210186, 0.009800290688872337, -0.052067387849092484, -0.01245513092726469, -0.011691422201693058, 0.022350119426846504, 0.05714459344744682, 0.06000141054391861, 0.01901652105152607, -0.04594937339425087, 0.0016673282952979207, -0.0006489267107099295, -0.011496794410049915, 0.032378438860177994, -0.01466275006532669, -0.022220801562070847, 0.01585943065583706, -0.036635495722293854, 0.011533552780747414, 0.035069696605205536, -0.061063557863235474, -0.02488362044095993, 0.049819450825452805, -0.017432767897844315, -0.01812315545976162, -0.03571715205907822, 0.02123080939054489, -0.016480153426527977, 0.03630691021680832, 0.014197837561368942, -0.004501104820519686, -0.023299332708120346, -0.03982176631689072, -0.028173960745334625, -0.0055037569254636765, 0.011411107145249844, 0.058362383395433426, 0.014237241819500923, 0.03271001577377319, 0.054092470556497574, 0.06469083577394485, 0.007722530979663134, 0.03545181080698967, -0.016053497791290283, -0.012950793839991093, 0.041223812848329544, -0.005376925226300955, -0.06980963796377182, 0.011314022354781628, 0.016101352870464325, -0.2950100898742676, 0.027776744216680527, -0.00296496762894094, 0.021393142640590668, 0.004066030494868755, 0.021163655444979668, 0.04112168774008751, -0.00041540933307260275, -0.05732302367687225, 0.022310486063361168, -0.07742248475551605, 0.02038080431520939, 0.016258545219898224, -0.06689386814832687, 0.0008157994598150253, 0.020208509638905525, -0.002455011708661914, -0.011008527129888535, 0.017056001350283623, -0.019495991989970207, 0.0020479729864746332, 0.022157609462738037, 0.22987928986549377, -0.02301952615380287, 0.056701600551605225, 0.03906967490911484, -0.009256276302039623, 0.004575211554765701, 0.05478915944695473, 0.01925918459892273, -0.09813743829727173, -0.00015208144031930715, 0.031512584537267685, -0.01567431353032589, 0.03540576994419098, 0.010935258120298386, -0.0679895281791687, -0.0289324801415205, 0.024028873071074486, -0.05310329794883728, -0.02500537969172001, 0.022354383021593094, -0.04601917043328285, 0.07040763646364212, 0.0345589704811573, -0.0773315280675888, -0.013528785668313503, -0.04894503578543663, -0.003992431331425905, 0.03734892979264259, -0.02815667912364006, -0.07967017590999603, 0.005711057223379612, 0.03205905109643936, -0.03048321045935154, 0.015031417831778526, 0.014759545214474201, -0.009081646800041199, 0.016140246763825417, -0.06343536823987961, 0.021307500079274178, -0.006121600978076458, 0.04932292550802231, 0.022753920406103134, 0.026068048551678658]\n"
     ]
    }
   ],
   "source": [
    "from llama_index.embeddings.huggingface import HuggingFaceEmbedding\n",
    "\n",
    "hf_embeddings = HuggingFaceEmbedding(model_name=\"BAAI/bge-small-en-v1.5\")\n",
    "\n",
    "test_embeded = hf_embeddings._get_text_embeddings(\"Hello world\")\n",
    "print(test_embeded)"
   ]
  },
  {
   "cell_type": "code",
   "execution_count": 20,
   "metadata": {},
   "outputs": [],
   "source": [
    "# create index\n",
    "from llama_index.core import VectorStoreIndex\n",
    "\n",
    "index = VectorStoreIndex(full_nodes, embed_model=hf_embeddings)"
   ]
  },
  {
   "cell_type": "markdown",
   "metadata": {},
   "source": [
    "## Query"
   ]
  },
  {
   "cell_type": "code",
   "execution_count": 21,
   "metadata": {},
   "outputs": [
    {
     "name": "stdout",
     "output_type": "stream",
     "text": [
      "This model, likely referring to a device model such as the \"Pixel 2 de Google,\" is used for development purposes in the context of Flutter, allowing developers to test and run their applications on a chosen device.\n"
     ]
    }
   ],
   "source": [
    "llm_quering = Groq(model=\"llama-3.3-70b-versatile\",api_key=os.environ[\"GROQ_API_KEY\"])\n",
    "\n",
    "query_engine = index.as_query_engine(llm=llm_quering)\n",
    "response = query_engine.query(\n",
    "    \"What does this model do?\"\n",
    ")\n",
    "\n",
    "print(response)"
   ]
  },
  {
   "cell_type": "code",
   "execution_count": 22,
   "metadata": {},
   "outputs": [
    {
     "data": {
      "text/plain": [
       "{'response': 'This model, likely referring to a device model such as the \"Pixel 2 de Google,\" is used for development purposes in the context of Flutter, allowing developers to test and run their applications on a chosen device.',\n",
       " 'source_nodes': [NodeWithScore(node=TextNode(id_='ba508d25-57e9-4f43-8141-08ed268eb01c', embedding=None, metadata={'page_label': '28', 'file_name': 'flutter-revolution.pdf', 'file_path': '/home/fitiavana/dev/rag-pdf/data/flutter-revolution.pdf', 'file_type': 'application/pdf', 'file_size': 4005615, 'creation_date': '2025-03-04', 'last_modified_date': '2025-03-04', 'document_title': 'Please provide me with the candidate titles and content so I can suggest a comprehensive title for the document. 😊 \\n', 'questions_this_excerpt_can_answer': 'Here are 3 questions this context can answer, along with summaries to help understand why:\\n\\n**Context Summary:** This excerpt appears to be from a document about Flutter development, specifically focusing on choosing a device for development. The document title suggests it\\'s about a \"Flutter Revolution,\" implying a significant shift or advancement in Flutter development.\\n\\n**Questions:**\\n\\n1. **What specific device model is used as an example in this excerpt?**  \\n    * This directly answers the example given in the text (\"Pixel 2 de Google\").\\n2. **What is the purpose of selecting a device model in the context of Flutter development, according to this excerpt?**\\n    * This requires inferring the purpose based on the phrase \"Sélectionnez dans la catégorie Phone le modèle de votre choix\" (Choose a phone model from the category of your choice).  The answer likely relates to setting up a development environment.\\n3. **What is the overall theme or focus of the \"Flutter Revolution\" document, based on this excerpt?**\\n    * This requires a broader interpretation. The excerpt suggests a focus on device selection for Flutter development, hinting that the document might cover various aspects of setting up and using Flutter for mobile app development.\\n\\n\\nLet me know if you\\'d like me to explore other questions based on this context!'}, excluded_embed_metadata_keys=['file_name', 'file_type', 'file_size', 'creation_date', 'last_modified_date', 'last_accessed_date', 'page_label'], excluded_llm_metadata_keys=['file_name', 'file_type', 'file_size', 'creation_date', 'last_modified_date', 'last_accessed_date'], relationships={<NodeRelationship.SOURCE: '1'>: RelatedNodeInfo(node_id='2b3e5599-b79c-4a40-9acd-57bac9640009', node_type='4', metadata={'page_label': '28', 'file_name': 'flutter-revolution.pdf', 'file_path': '/home/fitiavana/dev/rag-pdf/data/flutter-revolution.pdf', 'file_type': 'application/pdf', 'file_size': 4005615, 'creation_date': '2025-03-04', 'last_modified_date': '2025-03-04'}, hash='0624c7573554926910f9f9c5556ac2c51a37a3757185cb9e8059bbe5285f0a03')}, metadata_template='{key}: {value}', metadata_separator='\\n', text='Metadata:\\n\\n---\\nContent:\\nSélectionnez dans lacatégorie Phonele modèle devotre choix, par exempleunPixel 2de Google:', mimetype='text/plain', start_char_idx=0, end_char_idx=114, metadata_seperator='\\n', text_template='[Excerpt from document]\\n{metadata_str}\\nExcerpt:\\n-----\\n{content}\\n-----\\n'), score=0.7117515103290363),\n",
       "  NodeWithScore(node=TextNode(id_='c5e46035-9e4b-4fc3-ac4d-2f33c6b08577', embedding=None, metadata={'page_label': '6', 'file_name': 'flutter-revolution.pdf', 'file_path': '/home/fitiavana/dev/rag-pdf/data/flutter-revolution.pdf', 'file_type': 'application/pdf', 'file_size': 4005615, 'creation_date': '2025-03-04', 'last_modified_date': '2025-03-04', 'document_title': \"Please provide the text so I can choose the best title! 😊  \\n\\nI need to understand the content's tone, focus, and level of detail to pick the most suitable title from the options you've given. \\n\", 'questions_this_excerpt_can_answer': 'Here are 3 questions this context can provide specific answers to, along with summaries to help understand why:\\n\\n**Context Summary:** This excerpt is from the introduction of a course about Flutter development. The author emphasizes Flutter\\'s speed and unique aspects compared to JavaScript frameworks. They outline the course structure, starting with Dart fundamentals, progressing to UI design, and concluding with tutorials on modern app features.\\n\\n**Questions:**\\n\\n1. **What specific year did the author decide to start this Flutter course?**  \\n   * This is a specific detail mentioned in the text that wouldn\\'t be found in general Flutter documentation.\\n\\n2. **According to the author, what is the primary advantage of Flutter over other multi-platform frameworks?**\\n   * The text highlights this as a key reason for the course\\'s existence.\\n\\n3. **What specific type of user interface elements does the course promise to cover in detail?**\\n   * The author mentions \"interfaces utilisateurs\" and \"animations sur smartphone,\" suggesting a focus on these aspects.\\n\\n\\nLet me know if you\\'d like more questions!'}, excluded_embed_metadata_keys=['file_name', 'file_type', 'file_size', 'creation_date', 'last_modified_date', 'last_accessed_date', 'page_label'], excluded_llm_metadata_keys=['file_name', 'file_type', 'file_size', 'creation_date', 'last_modified_date', 'last_accessed_date'], relationships={<NodeRelationship.SOURCE: '1'>: RelatedNodeInfo(node_id='a9059963-7dad-4d7a-a39e-47dfbdf8b4db', node_type='4', metadata={'page_label': '6', 'file_name': 'flutter-revolution.pdf', 'file_path': '/home/fitiavana/dev/rag-pdf/data/flutter-revolution.pdf', 'file_type': 'application/pdf', 'file_size': 4005615, 'creation_date': '2025-03-04', 'last_modified_date': '2025-03-04'}, hash='1743a6d6ae214ae260ae4eb74816f1e35180022e1084bef8de6df9e9e4f67aef')}, metadata_template='{key}: {value}', metadata_separator='\\n', text='Metadata:\\n\\n---\\nContent:\\nCette simple différence par rapport aux frameworks JS est en faitmonstrueuse, pas pour nos applications directement, mais pour notrerapiditéde développement.\\nOn développe tout simplementplus vitesur Flutterque sur n’importe quelautre frameworkmultiplateforme.\\n1.4 Pourquoi ce cours ?\\nJ’ai donc décidé enjuillet 2020de démarrer un nouveauet unique cours surFlutter.\\nPour aider lacommunauté francophonedu monde entierà exploiter aumaximum le superbe outil que représente Flutter.\\nDans ce cours, nous allons reprendre toutes lesbasesde Flutteret duDarten repartant vraimentde zéro.\\nLe but pour moi est de vous permettre d’allerle plusloin possibledans ledéveloppement de vos applications mobiles avec Flutter.\\nOn commencera avec la prise en main desbasesde Flutteret de la maîtrisede sonlangage Dart.\\nJe vous proposerai aussi plusieurs chapitres consacrés auxinterfacesutilisateursque propose Flutter qui sont à la pointedesanimationssursmartphone.\\nEnfin on terminera par un ensemble detutoriels cibléssur lesfonctionnalitésles plus utiles des applications modernes.\\n2. Qu’est-ce que Flutter ?\\nFlutter est en fait unSDKet non un framework dedéveloppement mobile.Qu’est-ce qu’un SDK par rapport à un framework et qu’est-ce que celareprésente-t-il pour nos applications ?\\nSelonWikipédia, la définition officielle d’un Frameworkest la suivante:', mimetype='text/plain', start_char_idx=0, end_char_idx=1362, metadata_seperator='\\n', text_template='[Excerpt from document]\\n{metadata_str}\\nExcerpt:\\n-----\\n{content}\\n-----\\n'), score=0.6461953795491521)],\n",
       " 'metadata': {'ba508d25-57e9-4f43-8141-08ed268eb01c': {'page_label': '28',\n",
       "   'file_name': 'flutter-revolution.pdf',\n",
       "   'file_path': '/home/fitiavana/dev/rag-pdf/data/flutter-revolution.pdf',\n",
       "   'file_type': 'application/pdf',\n",
       "   'file_size': 4005615,\n",
       "   'creation_date': '2025-03-04',\n",
       "   'last_modified_date': '2025-03-04',\n",
       "   'document_title': 'Please provide me with the candidate titles and content so I can suggest a comprehensive title for the document. 😊 \\n',\n",
       "   'questions_this_excerpt_can_answer': 'Here are 3 questions this context can answer, along with summaries to help understand why:\\n\\n**Context Summary:** This excerpt appears to be from a document about Flutter development, specifically focusing on choosing a device for development. The document title suggests it\\'s about a \"Flutter Revolution,\" implying a significant shift or advancement in Flutter development.\\n\\n**Questions:**\\n\\n1. **What specific device model is used as an example in this excerpt?**  \\n    * This directly answers the example given in the text (\"Pixel 2 de Google\").\\n2. **What is the purpose of selecting a device model in the context of Flutter development, according to this excerpt?**\\n    * This requires inferring the purpose based on the phrase \"Sélectionnez dans la catégorie Phone le modèle de votre choix\" (Choose a phone model from the category of your choice).  The answer likely relates to setting up a development environment.\\n3. **What is the overall theme or focus of the \"Flutter Revolution\" document, based on this excerpt?**\\n    * This requires a broader interpretation. The excerpt suggests a focus on device selection for Flutter development, hinting that the document might cover various aspects of setting up and using Flutter for mobile app development.\\n\\n\\nLet me know if you\\'d like me to explore other questions based on this context!'},\n",
       "  'c5e46035-9e4b-4fc3-ac4d-2f33c6b08577': {'page_label': '6',\n",
       "   'file_name': 'flutter-revolution.pdf',\n",
       "   'file_path': '/home/fitiavana/dev/rag-pdf/data/flutter-revolution.pdf',\n",
       "   'file_type': 'application/pdf',\n",
       "   'file_size': 4005615,\n",
       "   'creation_date': '2025-03-04',\n",
       "   'last_modified_date': '2025-03-04',\n",
       "   'document_title': \"Please provide the text so I can choose the best title! 😊  \\n\\nI need to understand the content's tone, focus, and level of detail to pick the most suitable title from the options you've given. \\n\",\n",
       "   'questions_this_excerpt_can_answer': 'Here are 3 questions this context can provide specific answers to, along with summaries to help understand why:\\n\\n**Context Summary:** This excerpt is from the introduction of a course about Flutter development. The author emphasizes Flutter\\'s speed and unique aspects compared to JavaScript frameworks. They outline the course structure, starting with Dart fundamentals, progressing to UI design, and concluding with tutorials on modern app features.\\n\\n**Questions:**\\n\\n1. **What specific year did the author decide to start this Flutter course?**  \\n   * This is a specific detail mentioned in the text that wouldn\\'t be found in general Flutter documentation.\\n\\n2. **According to the author, what is the primary advantage of Flutter over other multi-platform frameworks?**\\n   * The text highlights this as a key reason for the course\\'s existence.\\n\\n3. **What specific type of user interface elements does the course promise to cover in detail?**\\n   * The author mentions \"interfaces utilisateurs\" and \"animations sur smartphone,\" suggesting a focus on these aspects.\\n\\n\\nLet me know if you\\'d like more questions!'}}}"
      ]
     },
     "execution_count": 22,
     "metadata": {},
     "output_type": "execute_result"
    }
   ],
   "source": [
    "response.__dict__"
   ]
  },
  {
   "cell_type": "markdown",
   "metadata": {},
   "source": [
    "### Using Vector Stores"
   ]
  },
  {
   "cell_type": "code",
   "execution_count": null,
   "metadata": {},
   "outputs": [
    {
     "name": "stderr",
     "output_type": "stream",
     "text": [
      "huggingface/tokenizers: The current process just got forked, after parallelism has already been used. Disabling parallelism to avoid deadlocks...\n",
      "To disable this warning, you can either:\n",
      "\t- Avoid using `tokenizers` before the fork if possible\n",
      "\t- Explicitly set the environment variable TOKENIZERS_PARALLELISM=(true | false)\n"
     ]
    },
    {
     "name": "stdout",
     "output_type": "stream",
     "text": [
      "\u001b[33mWARNING: You are using pip version 21.2.3; however, version 25.0.1 is available.\n",
      "You should consider upgrading via the '/usr/local/bin/python3.10 -m pip install --upgrade pip' command.\u001b[0m\n",
      "Note: you may need to restart the kernel to use updated packages.\n"
     ]
    },
    {
     "name": "stderr",
     "output_type": "stream",
     "text": [
      "huggingface/tokenizers: The current process just got forked, after parallelism has already been used. Disabling parallelism to avoid deadlocks...\n",
      "To disable this warning, you can either:\n",
      "\t- Avoid using `tokenizers` before the fork if possible\n",
      "\t- Explicitly set the environment variable TOKENIZERS_PARALLELISM=(true | false)\n"
     ]
    },
    {
     "name": "stdout",
     "output_type": "stream",
     "text": [
      "\u001b[33mWARNING: You are using pip version 21.2.3; however, version 25.0.1 is available.\n",
      "You should consider upgrading via the '/usr/local/bin/python3.10 -m pip install --upgrade pip' command.\u001b[0m\n",
      "Note: you may need to restart the kernel to use updated packages.\n"
     ]
    }
   ],
   "source": [
    "%pip install -Uq pysqlite3-binary chromadb\n",
    "%pip install -Uq llama-index-vector-stores-chroma"
   ]
  },
  {
   "cell_type": "code",
   "execution_count": 25,
   "metadata": {},
   "outputs": [],
   "source": [
    "import chromadb\n",
    "from llama_index.core import VectorStoreIndex\n",
    "from llama_index.vector_stores.chroma import ChromaVectorStore\n",
    "from llama_index.core import StorageContext\n",
    "\n",
    "# initialize client, setting path to save data\n",
    "db = chromadb.PersistentClient(path=\"./chroma_db\")\n",
    "\n",
    "# create collection\n",
    "chroma_collection = db.get_or_create_collection(\"fluterRevolution\")\n",
    "\n",
    "# assign chroma as vector_Store to the context\n",
    "vector_store = ChromaVectorStore(chroma_collection=chroma_collection)\n",
    "storage_context = StorageContext.from_defaults(vector_store=vector_store)\n",
    "\n",
    "# create your index\n",
    "index = VectorStoreIndex(\n",
    "    full_nodes, storage_context=storage_context , embed_model=hf_embeddings\n",
    ")\n",
    "\n",
    "# create a query engine and query\n",
    "query_engine = index.as_query_engine(llm=llm_quering)\n",
    "\n"
   ]
  },
  {
   "cell_type": "code",
   "execution_count": 33,
   "metadata": {},
   "outputs": [
    {
     "name": "stdout",
     "output_type": "stream",
     "text": [
      "Pour mettre à jour la variable PATH ou Pathex si elle existe déjà, vous devez cliquez dessus, puis cliquez sur \"Modifier\" pour apporter les modifications nécessaires et la mettre à jour.\n"
     ]
    }
   ],
   "source": [
    "response = query_engine.query(\"comment realiser  : Si la variable PATH ou Path existe déjà cliquez dessus et sur Modifier pour la mettre à jour\")\n",
    "print(response)"
   ]
  },
  {
   "cell_type": "code",
   "execution_count": null,
   "metadata": {},
   "outputs": [],
   "source": []
  },
  {
   "cell_type": "code",
   "execution_count": null,
   "metadata": {},
   "outputs": [],
   "source": []
  }
 ],
 "metadata": {
  "kernelspec": {
   "display_name": "Python 3",
   "language": "python",
   "name": "python3"
  },
  "language_info": {
   "codemirror_mode": {
    "name": "ipython",
    "version": 3
   },
   "file_extension": ".py",
   "mimetype": "text/x-python",
   "name": "python",
   "nbconvert_exporter": "python",
   "pygments_lexer": "ipython3",
   "version": "3.10.0"
  }
 },
 "nbformat": 4,
 "nbformat_minor": 2
}
