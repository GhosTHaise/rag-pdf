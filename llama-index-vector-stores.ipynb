{
 "cells": [
  {
   "cell_type": "code",
   "execution_count": 1,
   "metadata": {},
   "outputs": [
    {
     "name": "stdout",
     "output_type": "stream",
     "text": [
      "Defaulting to user installation because normal site-packages is not writeable\n",
      "Requirement already satisfied: nest-asyncio in /home/fitiavana/.local/lib/python3.10/site-packages (1.6.0)\n",
      "\u001b[33mWARNING: You are using pip version 21.2.3; however, version 25.0.1 is available.\n",
      "You should consider upgrading via the '/usr/local/bin/python3.10 -m pip install --upgrade pip' command.\u001b[0m\n",
      "Note: you may need to restart the kernel to use updated packages.\n"
     ]
    }
   ],
   "source": [
    "%pip install nest-asyncio"
   ]
  },
  {
   "cell_type": "code",
   "execution_count": 2,
   "metadata": {},
   "outputs": [],
   "source": [
    "import nest_asyncio\n",
    "nest_asyncio.apply()"
   ]
  },
  {
   "cell_type": "code",
   "execution_count": 3,
   "metadata": {},
   "outputs": [
    {
     "name": "stdout",
     "output_type": "stream",
     "text": [
      "\u001b[33mWARNING: You are using pip version 21.2.3; however, version 25.0.1 is available.\n",
      "You should consider upgrading via the '/usr/local/bin/python3.10 -m pip install --upgrade pip' command.\u001b[0m\n",
      "Note: you may need to restart the kernel to use updated packages.\n",
      "\u001b[31mERROR: Could not find a version that satisfies the requirement llama-index-embeddings-hugginface (from versions: none)\u001b[0m\n",
      "\u001b[31mERROR: No matching distribution found for llama-index-embeddings-hugginface\u001b[0m\n",
      "\u001b[33mWARNING: You are using pip version 21.2.3; however, version 25.0.1 is available.\n",
      "You should consider upgrading via the '/usr/local/bin/python3.10 -m pip install --upgrade pip' command.\u001b[0m\n",
      "Note: you may need to restart the kernel to use updated packages.\n"
     ]
    }
   ],
   "source": [
    "%pip install -Uq llama-index\n",
    "%pip install -Uq llama-index-embeddings-hugginface"
   ]
  },
  {
   "cell_type": "code",
   "execution_count": 33,
   "metadata": {},
   "outputs": [],
   "source": [
    "from llama_index.core import SimpleDirectoryReader\n",
    "\n",
    "docs = SimpleDirectoryReader(input_dir=\"./data\").load_data()\n",
    "#docs = SimpleDirectoryReader(input_dir=\"./data\",filename_as_id=True).load_data()\n"
   ]
  },
  {
   "cell_type": "code",
   "execution_count": 34,
   "metadata": {},
   "outputs": [
    {
     "data": {
      "text/plain": [
       "47"
      ]
     },
     "execution_count": 34,
     "metadata": {},
     "output_type": "execute_result"
    }
   ],
   "source": [
    "len(docs)"
   ]
  },
  {
   "cell_type": "code",
   "execution_count": 6,
   "metadata": {},
   "outputs": [
    {
     "name": "stdout",
     "output_type": "stream",
     "text": [
      "[Document(id_='ff04486a-21c4-4161-b294-8b6ad77ee0ce', embedding=None, metadata={'page_label': '1', 'file_name': 'flutter-revolution.pdf', 'file_path': '/home/fitiavana/dev/rag-pdf/data/flutter-revolution.pdf', 'file_type': 'application/pdf', 'file_size': 4005615, 'creation_date': '2025-03-04', 'last_modified_date': '2025-03-04'}, excluded_embed_metadata_keys=['file_name', 'file_type', 'file_size', 'creation_date', 'last_modified_date', 'last_accessed_date'], excluded_llm_metadata_keys=['file_name', 'file_type', 'file_size', 'creation_date', 'last_modified_date', 'last_accessed_date'], relationships={}, metadata_template='{key}: {value}', metadata_separator='\\n', text_resource=MediaResource(embeddings=None, data=None, text='', path=None, url=None, mimetype=None), image_resource=None, audio_resource=None, video_resource=None, text_template='{metadata_str}\\n\\n{content}'),\n",
      " Document(id_='7371ff99-bf62-46bf-adde-c8138114d7b5', embedding=None, metadata={'page_label': '2', 'file_name': 'flutter-revolution.pdf', 'file_path': '/home/fitiavana/dev/rag-pdf/data/flutter-revolution.pdf', 'file_type': 'application/pdf', 'file_size': 4005615, 'creation_date': '2025-03-04', 'last_modified_date': '2025-03-04'}, excluded_embed_metadata_keys=['file_name', 'file_type', 'file_size', 'creation_date', 'last_modified_date', 'last_accessed_date'], excluded_llm_metadata_keys=['file_name', 'file_type', 'file_size', 'creation_date', 'last_modified_date', 'last_accessed_date'], relationships={}, metadata_template='{key}: {value}', metadata_separator='\\n', text_resource=MediaResource(embeddings=None, data=None, text='1. Bienvenue1.1 Mon histoire1.2 Mes débuts avec Ionic1.3 Alors pourquoi Flutter ?1.4 Pourquoi ce cours ?\\n2. Qu’est-ce que Flutter ?2.1 Sa rapidité de développement2.2 Son interface utilisateur très flexible2.3 Des performances natives2.4 Qui utilise Flutter ?\\n3. Qu’est-ce que Dart ?3.1 Le Dart et les autres langages3.2 Le SDK Dart3.3 Quelques exemples du Dart\\n4. Installer Flutter sur macOS4.1 Installer le SDK Flutter4.2 Configurer le SDK Flutter4.2.1 Méthode 1: zsh (recommandée)4.2.2 Méthode 2: bash (utilisée dans la vidéo)4.3 Configuration de Xcode4.4 Configurer Android Studio\\n5. Installer Flutter sur Windows5.1 Installer le SDK Flutter sur Windows5.2 Configurer le SDK Flutter sur Windows5.3 Configurer Android Studio\\n6. Configurer Visual Studio Code6.1 Installer et configurer Visual Studio Code6.2 Créer une application en partant de zéro', path=None, url=None, mimetype=None), image_resource=None, audio_resource=None, video_resource=None, text_template='{metadata_str}\\n\\n{content}'),\n",
      " Document(id_='e065c06d-5255-498e-9787-2b744880f7de', embedding=None, metadata={'page_label': '3', 'file_name': 'flutter-revolution.pdf', 'file_path': '/home/fitiavana/dev/rag-pdf/data/flutter-revolution.pdf', 'file_type': 'application/pdf', 'file_size': 4005615, 'creation_date': '2025-03-04', 'last_modified_date': '2025-03-04'}, excluded_embed_metadata_keys=['file_name', 'file_type', 'file_size', 'creation_date', 'last_modified_date', 'last_accessed_date'], excluded_llm_metadata_keys=['file_name', 'file_type', 'file_size', 'creation_date', 'last_modified_date', 'last_accessed_date'], relationships={}, metadata_template='{key}: {value}', metadata_separator='\\n', text_resource=MediaResource(embeddings=None, data=None, text='1. Bienvenue\\nBonjour à tous et bienvenue dansFLUTTER RÉVOLUTION!\\nJe vous remercie tout d’abord de m’avoir fait confiance et de me rejoindredans ce cours qui j’en suis sûrchangera votre visiondu développementmobile.\\n1.1 Mon histoire\\nSi vous connaissez un peu mon parcours, vous savez que je suisdéveloppeur mobiledepuis2017après avoir commencépar ledéveloppement web.\\nJ’ai commencé à créer mes premières applications avec leframework Ionicqui à l’époque m’a permis de démarrer assez rapidement.\\nChoice, ma toute première application mobile\\nJ’ai par la suite étendu mes connaissances et proposémes servicesàd’autres clients, puis finalement j’ai créé des cours.\\n', path=None, url=None, mimetype=None), image_resource=None, audio_resource=None, video_resource=None, text_template='{metadata_str}\\n\\n{content}'),\n",
      " Document(id_='f8f55bc9-1dcb-4424-a8c1-63e6a2467082', embedding=None, metadata={'page_label': '4', 'file_name': 'flutter-revolution.pdf', 'file_path': '/home/fitiavana/dev/rag-pdf/data/flutter-revolution.pdf', 'file_type': 'application/pdf', 'file_size': 4005615, 'creation_date': '2025-03-04', 'last_modified_date': '2025-03-04'}, excluded_embed_metadata_keys=['file_name', 'file_type', 'file_size', 'creation_date', 'last_modified_date', 'last_accessed_date'], excluded_llm_metadata_keys=['file_name', 'file_type', 'file_size', 'creation_date', 'last_modified_date', 'last_accessed_date'], relationships={}, metadata_template='{key}: {value}', metadata_separator='\\n', text_resource=MediaResource(embeddings=None, data=None, text='À travers ma chaîneYouTubeet monblog, vous êtes maintenant des milliersà suivre mes vidéos et mestutoriels gratuitssurle développement mobile.\\nMon activité a pu ainsi prospérer grâce à mescoursen lignepayants et àmes prestations de cours particuliers.\\n1.2 Mes débuts avec Ionic\\nIonic utilise le frameworkAngular de Googlequi estbasé sur lestechnologiesWebet permet de coder des applicationsavec les langagesHTML, CSS et TypeScript.\\nLe framework Ionic permet lui aussi de développer pour iOS et Android\\nLe framework le plus connu cependant à l’époque où j’ai commencé à meformer étaitReact JSde Facebook.\\nIl avait l’avantage d’être utilisé par de grandes startups dontFacebooketInstagrampar exemple ce qui lui confie une certainenotoriété.\\nJ’ai par la suite longtemps justifié mon choix du framework Ionic en invoquantsasimplicité.\\nEn fait Ionic n’a jamais était aussi sexy etpopulaireque React… Mais je suistoujours parti du principe que si j’avais pudémarrerde zéroavec Ionic, lesautres le pouvait aussi.\\n1.3 Alors pourquoi Flutter ?\\nJ’avais déjà annoncé à plusieurs reprises que je passerai un jour ou l’autre àReact JSpour m’adapter à la forte demande dumarché.\\n', path=None, url=None, mimetype=None), image_resource=None, audio_resource=None, video_resource=None, text_template='{metadata_str}\\n\\n{content}'),\n",
      " Document(id_='d6fa7951-020d-4184-9bb2-a1450738737b', embedding=None, metadata={'page_label': '5', 'file_name': 'flutter-revolution.pdf', 'file_path': '/home/fitiavana/dev/rag-pdf/data/flutter-revolution.pdf', 'file_type': 'application/pdf', 'file_size': 4005615, 'creation_date': '2025-03-04', 'last_modified_date': '2025-03-04'}, excluded_embed_metadata_keys=['file_name', 'file_type', 'file_size', 'creation_date', 'last_modified_date', 'last_accessed_date'], excluded_llm_metadata_keys=['file_name', 'file_type', 'file_size', 'creation_date', 'last_modified_date', 'last_accessed_date'], relationships={}, metadata_template='{key}: {value}', metadata_separator='\\n', text_resource=MediaResource(embeddings=None, data=None, text='Pourtant, vous êtes en train de lire uncours sur Flutter… Alors pourquoi ?\\nJe pourrais passer très longtemps à répondre à cette question, ledéveloppement mobile est mon quotidienet je baigneen permanencedans toute l’actualité des startups.\\nMais pour faire simple, c’est parce queFlutterreprésenteselon moi unevéritablerévolution…\\nCe n’est pas qu’un simplejeu de motpour nommer cetteformation, c’estvéritablement ce que j’ai ressenti en testant pourla première fois Flutter.\\nFlutter permet de développertrès rapidementpar rapportà Ionic ou React, ilest directement orienté vers le développementnatifsur émulateuriOS etAndroid.\\nEn fait Flutter est unSDKet non un framework commeReact, ce qui veut direqu’il s’adapte en fait aux environnements de développement d’Android et iOSvia leurs logiciels respectifs.\\nFlutter avec un émulateur iOS, s’actualise instantanément\\nConcrètement avecun seul code(leDart) et simplementen enregistrant sonfichier on actualise son application sur iOS et Android.\\n', path=None, url=None, mimetype=None), image_resource=None, audio_resource=None, video_resource=None, text_template='{metadata_str}\\n\\n{content}'),\n",
      " Document(id_='3594c63d-8e29-428b-a27a-cb19ec0b7280', embedding=None, metadata={'page_label': '6', 'file_name': 'flutter-revolution.pdf', 'file_path': '/home/fitiavana/dev/rag-pdf/data/flutter-revolution.pdf', 'file_type': 'application/pdf', 'file_size': 4005615, 'creation_date': '2025-03-04', 'last_modified_date': '2025-03-04'}, excluded_embed_metadata_keys=['file_name', 'file_type', 'file_size', 'creation_date', 'last_modified_date', 'last_accessed_date'], excluded_llm_metadata_keys=['file_name', 'file_type', 'file_size', 'creation_date', 'last_modified_date', 'last_accessed_date'], relationships={}, metadata_template='{key}: {value}', metadata_separator='\\n', text_resource=MediaResource(embeddings=None, data=None, text='Cette simple différence par rapport aux frameworks JS est en faitmonstrueuse, pas pour nos applications directement, mais pour notrerapiditéde développement.\\nOn développe tout simplementplus vitesur Flutterque sur n’importe quelautre frameworkmultiplateforme.\\n1.4 Pourquoi ce cours ?\\nJ’ai donc décidé enjuillet 2020de démarrer un nouveauet unique cours surFlutter.\\nPour aider lacommunauté francophonedu monde entierà exploiter aumaximum le superbe outil que représente Flutter.\\nDans ce cours, nous allons reprendre toutes lesbasesde Flutteret duDarten repartant vraimentde zéro.\\nLe but pour moi est de vous permettre d’allerle plusloin possibledans ledéveloppement de vos applications mobiles avec Flutter.\\nOn commencera avec la prise en main desbasesde Flutteret de la maîtrisede sonlangage Dart.\\nJe vous proposerai aussi plusieurs chapitres consacrés auxinterfacesutilisateursque propose Flutter qui sont à la pointedesanimationssursmartphone.\\nEnfin on terminera par un ensemble detutoriels cibléssur lesfonctionnalitésles plus utiles des applications modernes.\\n2. Qu’est-ce que Flutter ?\\nFlutter est en fait unSDKet non un framework dedéveloppement mobile.Qu’est-ce qu’un SDK par rapport à un framework et qu’est-ce que celareprésente-t-il pour nos applications ?\\nSelonWikipédia, la définition officielle d’un Frameworkest la suivante:', path=None, url=None, mimetype=None), image_resource=None, audio_resource=None, video_resource=None, text_template='{metadata_str}\\n\\n{content}'),\n",
      " Document(id_='0e976f0d-ad11-4a2a-afb6-085f27f74383', embedding=None, metadata={'page_label': '7', 'file_name': 'flutter-revolution.pdf', 'file_path': '/home/fitiavana/dev/rag-pdf/data/flutter-revolution.pdf', 'file_type': 'application/pdf', 'file_size': 4005615, 'creation_date': '2025-03-04', 'last_modified_date': '2025-03-04'}, excluded_embed_metadata_keys=['file_name', 'file_type', 'file_size', 'creation_date', 'last_modified_date', 'last_accessed_date'], excluded_llm_metadata_keys=['file_name', 'file_type', 'file_size', 'creation_date', 'last_modified_date', 'last_accessed_date'], relationships={}, metadata_template='{key}: {value}', metadata_separator='\\n', text_resource=MediaResource(embeddings=None, data=None, text='En programmation informatique, unframeworkdésigne un ensemblecohérent de composants logiciels structurels, qui sert à créer les fondationsainsi que les grandes lignes de tout ou d’une partie d’un logiciel.\\nhttps://fr.wikipedia.org/wiki/Framework\\nConcrètement unframeworkcomme Angular ou React permet decréer de Aà Zune application mobile par exemple.\\nIl nous faut cependant passer par unephase d’adaptationaux appareilsmobile lors de la création de chaque version iOS et Android.\\nFlutter en revanche est donc unSDK, qui veut direlittéralementKit deDéveloppement(Software Development Kit).\\nGoogle a conçu leSDK Flutterpour s’adapter aux deuxenvironnements dedéveloppements iOS et Android: Xcode et Android Studio.\\nLe SDK Flutter vient donc s’installer sur votre machine encomplémentdeces deux logiciels (avec Android qui comprend aussi son propre SDK).\\nDonc Flutter nous permet de travailler depuis unéditeurde codeet decompiler pour les deux plateformes en même temps.', path=None, url=None, mimetype=None), image_resource=None, audio_resource=None, video_resource=None, text_template='{metadata_str}\\n\\n{content}'),\n",
      " Document(id_='370afe00-954c-4883-a451-2cf6342bcba3', embedding=None, metadata={'page_label': '8', 'file_name': 'flutter-revolution.pdf', 'file_path': '/home/fitiavana/dev/rag-pdf/data/flutter-revolution.pdf', 'file_type': 'application/pdf', 'file_size': 4005615, 'creation_date': '2025-03-04', 'last_modified_date': '2025-03-04'}, excluded_embed_metadata_keys=['file_name', 'file_type', 'file_size', 'creation_date', 'last_modified_date', 'last_accessed_date'], excluded_llm_metadata_keys=['file_name', 'file_type', 'file_size', 'creation_date', 'last_modified_date', 'last_accessed_date'], relationships={}, metadata_template='{key}: {value}', metadata_separator='\\n', text_resource=MediaResource(embeddings=None, data=None, text='Flutter permet de lancer deux émulateurs iOS et Android en même temps\\nVoyons donc maintenant quels sont lespoints essentielsà connaître surl’utilisation de Flutter.\\n2.1 Sa rapidité de développement\\nLe premierpoint essentielencore une fois de Flutterest la rapidité dedéveloppement qu’il nous offre.\\nEn fait Flutter nous offre une rapidité de développement que l’on retrouveavec ledéveloppement natifd’application.\\nSurXcodelorsqu’on code avec leSwiftet qu’on testeson application enquelques secondes avec un simulateurd’iPhone.\\nMais aussi surAndroid StudioavecJava ou Kotlinlorsqu’on teste sonapplication sur un émulateurAndroid.\\n', path=None, url=None, mimetype=None), image_resource=None, audio_resource=None, video_resource=None, text_template='{metadata_str}\\n\\n{content}'),\n",
      " Document(id_='919711e2-0ac8-4306-9760-f3e73355c670', embedding=None, metadata={'page_label': '9', 'file_name': 'flutter-revolution.pdf', 'file_path': '/home/fitiavana/dev/rag-pdf/data/flutter-revolution.pdf', 'file_type': 'application/pdf', 'file_size': 4005615, 'creation_date': '2025-03-04', 'last_modified_date': '2025-03-04'}, excluded_embed_metadata_keys=['file_name', 'file_type', 'file_size', 'creation_date', 'last_modified_date', 'last_accessed_date'], excluded_llm_metadata_keys=['file_name', 'file_type', 'file_size', 'creation_date', 'last_modified_date', 'last_accessed_date'], relationships={}, metadata_template='{key}: {value}', metadata_separator='\\n', text_resource=MediaResource(embeddings=None, data=None, text='En fait avec Flutter on utilise unéditeur de code(comme Visual Studio Codedont nous détaillerons la configuration) pour travailler sur nos fichiersDart.\\nÀ chaqueenregistrementde nos fichiers, grâce à l’extensionFlutter deVisual Studio notreapplication s’actualisesur notreémulateur.\\n2.2 Son interface utilisateur très ﬂexible\\nLe deuxième point essentiel de Flutter est soninterfaceutilisateurou UIDesign vraimentrévolutionnaire.\\nEn fait la plupart des autres frameworks ou outils de développement mobilepermettent de recréer desanimations modernes.\\nMais Flutter a vraiment mis uneprioritésur ces animationspour les rendretrèsaccessibles.\\nNous verrons par exemple comme créer avec lesWidgetsFluttertoute sorted’affichage pour nos applications.\\nMais nous utiliserons aussi l’immensebibliothèqued’animationsetd’interactions que Flutter propose pourdynamisernos applications.\\nÀ la différence d’autres frameworks de développement mobile, sesinteractions sontfacilement accessibles.\\nC’est la raison pour laquelle la grande majorité desapplicationsdéveloppéesavec Flutter sont trèsintuitiveset dynamiques.\\n', path=None, url=None, mimetype=None), image_resource=None, audio_resource=None, video_resource=None, text_template='{metadata_str}\\n\\n{content}'),\n",
      " Document(id_='f801ba80-8fe4-47b8-95ae-00a23f427cd4', embedding=None, metadata={'page_label': '10', 'file_name': 'flutter-revolution.pdf', 'file_path': '/home/fitiavana/dev/rag-pdf/data/flutter-revolution.pdf', 'file_type': 'application/pdf', 'file_size': 4005615, 'creation_date': '2025-03-04', 'last_modified_date': '2025-03-04'}, excluded_embed_metadata_keys=['file_name', 'file_type', 'file_size', 'creation_date', 'last_modified_date', 'last_accessed_date'], excluded_llm_metadata_keys=['file_name', 'file_type', 'file_size', 'creation_date', 'last_modified_date', 'last_accessed_date'], relationships={}, metadata_template='{key}: {value}', metadata_separator='\\n', text_resource=MediaResource(embeddings=None, data=None, text='Vous pouvez en retrouver quelquesexemplessur le site de Flutter:https://flutter.dev/showcase\\n2.3 Des performances natives\\nJe vous ai parlé à plusieurs reprises de la rapidité dedéveloppementquepropose Flutter, mais parlons maintenant de larapiditéde nos applicationselle-même.\\nIl est évident queGoogle a conçu Flutterpour proposerla meilleure rapiditéd’exécution possible pour ses applications, mais à quel point une applicationpeut-elle êtreplus rapide ?\\nEn fait quand on parle deperformance nativeon parlenotamment de l’accèsaux fonctionnalités natives d’un smartphone.\\nAvec Ionic, nous utilisionsCordova JSpour accéderaux fonctionnalitésnatives d’un appareil mobile, commel’appareil photoou lalocalisation.\\nAvec Flutter, qui je vous le rappelle est unSDK,on accède beaucoup plusrapidement auxfonctionnalités natives.\\nGoogle prétend même que les performances sontéquivalentesaudéveloppement natifd’application avec Swift et Javanotamment.\\nÀ ce stade, c’est assezdifficile à vérifier, carles derniers modèles d’iPhonesont déjà extrêmement performants et les différences de performance secalculent en millisecondes.\\nMême les applications de Facebook commeInstagramdéveloppées avecReact proposent des performances excellentes.\\nNous pouvons doncfaire confiance à Googleen ce qui concerne lesperformances et le maintien de celle-ci dans la durée.\\n2.4 Qui utilise Flutter ?\\nLe SDK Flutter estle plus récentde tous les outilslogiciels du monde dudéveloppement mobile.', path=None, url=None, mimetype=None), image_resource=None, audio_resource=None, video_resource=None, text_template='{metadata_str}\\n\\n{content}'),\n",
      " Document(id_='e57151b1-af67-40dc-aad1-26db432d8de1', embedding=None, metadata={'page_label': '11', 'file_name': 'flutter-revolution.pdf', 'file_path': '/home/fitiavana/dev/rag-pdf/data/flutter-revolution.pdf', 'file_type': 'application/pdf', 'file_size': 4005615, 'creation_date': '2025-03-04', 'last_modified_date': '2025-03-04'}, excluded_embed_metadata_keys=['file_name', 'file_type', 'file_size', 'creation_date', 'last_modified_date', 'last_accessed_date'], excluded_llm_metadata_keys=['file_name', 'file_type', 'file_size', 'creation_date', 'last_modified_date', 'last_accessed_date'], relationships={}, metadata_template='{key}: {value}', metadata_separator='\\n', text_resource=MediaResource(embeddings=None, data=None, text='Comme je vous l’ai dit, je me suis spécialisé pendant des années sur leframework Ionic mais qui était lui-même basé surAngular, un autreframework deGoogle.\\nL’avantage d’utiliser unframework matureest quel’on retrouve beaucoup deressources sur internetpour nous faciliter l’apprentissage.\\nSurFlutter, les cours en ligne et tutoriels en françaisrestentplutôt rarespour le moment d’où cette formation.\\nEn ce qui concerne lesentreprisesqui utilisent Flutter,les plus connus secomptent pour le moment sur les doigts d’une main.\\nVous retrouverez toutes lesstartupsqui l’utilisentsur le site de Flutter:https://flutter.dev/showcase\\nMais pas d’inquiétude, à lafin de ce coursvous ferezpeut-être partie desfuturs startups ou développeurssélectionnés par Googlepour mettre enavant Flutter 😉\\n3. Qu’est-ce que Dart ?\\nContrairement à ce qu’on peut penser, le projet du langageDartchez Googleestplus ancienque le projetFlutter.\\nIl a été développé chez Google au départ pour combler les défauts duJavaScriptet avait pour objectif de le remplaceren tant que langage pharedu web.\\n', path=None, url=None, mimetype=None), image_resource=None, audio_resource=None, video_resource=None, text_template='{metadata_str}\\n\\n{content}'),\n",
      " Document(id_='78c7dca2-ff4c-4138-a1c9-b557f77dadf9', embedding=None, metadata={'page_label': '12', 'file_name': 'flutter-revolution.pdf', 'file_path': '/home/fitiavana/dev/rag-pdf/data/flutter-revolution.pdf', 'file_type': 'application/pdf', 'file_size': 4005615, 'creation_date': '2025-03-04', 'last_modified_date': '2025-03-04'}, excluded_embed_metadata_keys=['file_name', 'file_type', 'file_size', 'creation_date', 'last_modified_date', 'last_accessed_date'], excluded_llm_metadata_keys=['file_name', 'file_type', 'file_size', 'creation_date', 'last_modified_date', 'last_accessed_date'], relationships={}, metadata_template='{key}: {value}', metadata_separator='\\n', text_resource=MediaResource(embeddings=None, data=None, text='Fluttern’est venu dans un deuxième temps pour trouverunenouvelle utilitéau langage Dart resté inconnu du grand public.\\nAujourd’hui avec le langage Dart et Flutter, nous pouvons créer desapplications mobiles, dessites webet deslogicielsde bureau.\\nDart est donc un langage trèspuissantetpolyvalent,car il permet de gérerle côtédesignavec Flutter mais également laconnexionavecFirebase.\\nBref le langage Dart vous offrira de nombreuxchoixen termes dedéveloppement et vous ouvrira aussi des portes pour votrecarrière.\\n3.1 Le Dart et les autres langages\\nLe Dart on va le voir n’est pas si nouveau que ça, mais vient parfaitements’adapter aux besoinsdes développeursd’applications.\\nLe Dart est unlangage orienté objetcomme le sontla plupart des langagesde développement logiciel (C#, Swift, ou Objective C).\\nOn sera amené par exemple à lecomparerauJavaScriptqui fait tourner lamajorité des autres frameworks multiplateformes.\\nContrairement à Angular par exemple, on développequasiment 100%denotrecodeavec leDart.\\nSur les frameworks JavaScript commeAngular et React,on développe avecleslangages webclassiques:\\n● HTML: Pour le contenu de notre application (texte,image, vidéo,boutons)● CSS: Pour styliser nos pages et ajouter des animations\\n', path=None, url=None, mimetype=None), image_resource=None, audio_resource=None, video_resource=None, text_template='{metadata_str}\\n\\n{content}'),\n",
      " Document(id_='b8866cc5-9910-4c79-a15c-f2d754eb23fd', embedding=None, metadata={'page_label': '13', 'file_name': 'flutter-revolution.pdf', 'file_path': '/home/fitiavana/dev/rag-pdf/data/flutter-revolution.pdf', 'file_type': 'application/pdf', 'file_size': 4005615, 'creation_date': '2025-03-04', 'last_modified_date': '2025-03-04'}, excluded_embed_metadata_keys=['file_name', 'file_type', 'file_size', 'creation_date', 'last_modified_date', 'last_accessed_date'], excluded_llm_metadata_keys=['file_name', 'file_type', 'file_size', 'creation_date', 'last_modified_date', 'last_accessed_date'], relationships={}, metadata_template='{key}: {value}', metadata_separator='\\n', text_resource=MediaResource(embeddings=None, data=None, text='● JavaScript: Pour dynamiser nos applications et les connecter auxbases de données\\nAvec Ionic,on développe en HTML, CSS et JS\\nAvec Flutter,98%de votre application seracodéeen Dart, qu’il s’agisse de lapartiedesignou de la connexion à vos bases de donnéesFirebase.\\nC’est à la fois unavantage et un inconvénient, cardans le cas des langagesweb cela facilite l’apprentissage au début.\\nLe langageHTMLpar exemple esttrès facileà prendreen main, et on peutprogressivement styliser nos pages avec le CSS puis les dynamiser avec leJS.\\nAvec Flutter etDartc’est différent, on doit obligatoirementcomprendreetmaîtriserle Dart pour afficher du contenu.\\nL’avantage est qu’une fois le Dart maîtrisé, on peuttout coderavec ce mêmelangage jusqu’à la fin du développement de notre application.\\nNous allons maintenant parler plus en détail duSDKdu Dartdont je vouslaisse le site web:https://dart.dev/\\n3.2 Le SDK Dart\\n', path=None, url=None, mimetype=None), image_resource=None, audio_resource=None, video_resource=None, text_template='{metadata_str}\\n\\n{content}'),\n",
      " Document(id_='5f8d73c8-0971-4811-8523-85548ccf7136', embedding=None, metadata={'page_label': '14', 'file_name': 'flutter-revolution.pdf', 'file_path': '/home/fitiavana/dev/rag-pdf/data/flutter-revolution.pdf', 'file_type': 'application/pdf', 'file_size': 4005615, 'creation_date': '2025-03-04', 'last_modified_date': '2025-03-04'}, excluded_embed_metadata_keys=['file_name', 'file_type', 'file_size', 'creation_date', 'last_modified_date', 'last_accessed_date'], excluded_llm_metadata_keys=['file_name', 'file_type', 'file_size', 'creation_date', 'last_modified_date', 'last_accessed_date'], relationships={}, metadata_template='{key}: {value}', metadata_separator='\\n', text_resource=MediaResource(embeddings=None, data=None, text='Tout comme Flutter, Dart est proposé par Googlesous forme de SDKàtélécharger et installer sur votre machine.\\nIl se téléchargeautomatiquementavec l’installationdeFluttersur votreordinateur.\\nNous détaillerons lesétapes d’installationsur Macet Windows dans lesprochains chapitres.\\nCelui-ci contient toutes lesbibliothèques Dartquenous utiliserons pourdévelopper nos applications.\\n3.3 Quelques exemples du Dart\\nReprenonsquelques exemplesde code Dart pour comprendrelesspécificités de ce langage.\\nCes exemples sont tirés de ladocumentation de Googlesur le sitehttps://dart.dev/#try-dart.\\nOn commence avec la traditionnelle fonctionHelloWordqui permet d’afficherce texte dans la console:\\nvoidmain() {print(\\'Hello, World!\\');}Le langage Dart a toujours besoin d’unefonction principalemain()pourexécuter le reste de son code.\\nOn retrouvera ainsi pour chacun de nos codes Dartune unique fonctionmain() qui appelle d’autres fonctions à son tour.\\nIci on utilise la fonction d’affichageprint()pourafficher dans laconsolelemessage: “Hello, World!“.\\nOn peut également afficher afficher d’autreschaînesde caractèresavec unesimple fonction print():\\nvoidmain() {print(\\'a single quoted string\\');print(\"a double quoted string\");', path=None, url=None, mimetype=None), image_resource=None, audio_resource=None, video_resource=None, text_template='{metadata_str}\\n\\n{content}'),\n",
      " Document(id_='ab0dfa4c-85b7-4ea4-b794-6da45ffa875a', embedding=None, metadata={'page_label': '15', 'file_name': 'flutter-revolution.pdf', 'file_path': '/home/fitiavana/dev/rag-pdf/data/flutter-revolution.pdf', 'file_type': 'application/pdf', 'file_size': 4005615, 'creation_date': '2025-03-04', 'last_modified_date': '2025-03-04'}, excluded_embed_metadata_keys=['file_name', 'file_type', 'file_size', 'creation_date', 'last_modified_date', 'last_accessed_date'], excluded_llm_metadata_keys=['file_name', 'file_type', 'file_size', 'creation_date', 'last_modified_date', 'last_accessed_date'], relationships={}, metadata_template='{key}: {value}', metadata_separator='\\n', text_resource=MediaResource(embeddings=None, data=None, text=\"// Strings can be combined with the + operator.print('cat '+'dog');// Triple quotes define a multi-line string.print('''triple quoted stringsare for multiple lines''');}\\nOn utilisera généralement cette fonctionprint()pourafficherou récupérerdesinformationsà certains endroits de notre codepour vérifier son bonfonctionnement.\\nOn peut également déclarer desconstanteset les intégrerà notre fonctionprint()avec la syntaxe$constante:\\nvoidmain() {// Dart supports string interpolation.constpi =3.14;print('pi is $pi');print('tau is${2* pi}');}On finit par voir un exemple de déclaration de fonction en Dart pourafficherunnombredans laconsole:\\n// Define a function.voidprintInteger(intaNumber) {print('The number is $aNumber.');// Print to console.} // This is where the app starts executing.voidmain() {varnumber =42;// Declare and initialize a variable.printInteger(number);// Call a function.}On déclare la fonctionprintInteger()en lui indiquantle type de paramètre àprendre (ici intreprésente les variables de typesnombres).\\nEnsuite dans notre fonctionmain(), on peut faireappel à cette fonctionprintInteger()en lui indiquant un paramètre de typenombre.\", path=None, url=None, mimetype=None), image_resource=None, audio_resource=None, video_resource=None, text_template='{metadata_str}\\n\\n{content}'),\n",
      " Document(id_='348b072c-e73b-4813-a484-3cdf489b1b16', embedding=None, metadata={'page_label': '16', 'file_name': 'flutter-revolution.pdf', 'file_path': '/home/fitiavana/dev/rag-pdf/data/flutter-revolution.pdf', 'file_type': 'application/pdf', 'file_size': 4005615, 'creation_date': '2025-03-04', 'last_modified_date': '2025-03-04'}, excluded_embed_metadata_keys=['file_name', 'file_type', 'file_size', 'creation_date', 'last_modified_date', 'last_accessed_date'], excluded_llm_metadata_keys=['file_name', 'file_type', 'file_size', 'creation_date', 'last_modified_date', 'last_accessed_date'], relationships={}, metadata_template='{key}: {value}', metadata_separator='\\n', text_resource=MediaResource(embeddings=None, data=None, text='4. Installer Flutter sur macOS\\nDans ce chapitre, nous allons voir comment installer leSDK Fluttersur votreMacde A à Z.\\nUne distinction est faite entre lessystèmes d’exploitation,car les méthodesde téléchargement sont différentes entre Mac et PC.\\nSurMacOS, vous avez la possibilité d’InstallerXcodeetAndroid Studioetvous serez donc capable de développer pouriOS etAndroid.\\nSurWindowsle logiciel Xcoded’Apple n’estpas disponibleet vous nepourrez pas développer ou publier sur iOS.\\nVous pouvez néanmoins faire par exemple tourner unemachine virtuellesurvotre PC avec MacOS.\\nPassons maintenant auxétapes d’installationde Fluttersur MacOS dont jevous laisse la documentation:https://flutter.dev/docs/get-started/install/macos\\n4.1 Installer le SDK Flutter\\nCommencez partélécharger le fichier ZIPcontenanttout le SDK Flutter àinstaller sur votre ordinateur:https://flutter.dev/docs/get-started/install/macos#get-sdk\\nNous allons reprendre toutes les étapes de l’installation et suivre au maximumlesconseilsque propose ladocumentation de Flutter.\\nAinsi, je vous invite à créer comme il le recommande undossier“development” à la racine de votresession utilisateur:\\n', path=None, url=None, mimetype=None), image_resource=None, audio_resource=None, video_resource=None, text_template='{metadata_str}\\n\\n{content}'),\n",
      " Document(id_='a2a9dbd0-dd63-47c9-9776-df8f65cc6c8b', embedding=None, metadata={'page_label': '17', 'file_name': 'flutter-revolution.pdf', 'file_path': '/home/fitiavana/dev/rag-pdf/data/flutter-revolution.pdf', 'file_type': 'application/pdf', 'file_size': 4005615, 'creation_date': '2025-03-04', 'last_modified_date': '2025-03-04'}, excluded_embed_metadata_keys=['file_name', 'file_type', 'file_size', 'creation_date', 'last_modified_date', 'last_accessed_date'], excluded_llm_metadata_keys=['file_name', 'file_type', 'file_size', 'creation_date', 'last_modified_date', 'last_accessed_date'], relationships={}, metadata_template='{key}: {value}', metadata_separator='\\n', text_resource=MediaResource(embeddings=None, data=None, text='Par exemple dans le dossier de masession“drissalaoui-sosse”,je crée ledossierdevelopment.\\nCe nouveau dossier development contiendra leSDK deFlutterainsi quetoutes vosfuturesapplicationsFlutter.\\nPourinstallerdéfinitivement leSDK Flutter sur votreMac nous allons utiliserleTerminal, cherchez donc le logiciel sur votre Macet ouvrez-le:\\nUne fois ouvert votre terminal devrait s’ouvrir audossier racinede votresession utilisateur:\\n', path=None, url=None, mimetype=None), image_resource=None, audio_resource=None, video_resource=None, text_template='{metadata_str}\\n\\n{content}'),\n",
      " Document(id_='44c25574-30a5-40a3-a9b5-f1d794cb7cdd', embedding=None, metadata={'page_label': '18', 'file_name': 'flutter-revolution.pdf', 'file_path': '/home/fitiavana/dev/rag-pdf/data/flutter-revolution.pdf', 'file_type': 'application/pdf', 'file_size': 4005615, 'creation_date': '2025-03-04', 'last_modified_date': '2025-03-04'}, excluded_embed_metadata_keys=['file_name', 'file_type', 'file_size', 'creation_date', 'last_modified_date', 'last_accessed_date'], excluded_llm_metadata_keys=['file_name', 'file_type', 'file_size', 'creation_date', 'last_modified_date', 'last_accessed_date'], relationships={}, metadata_template='{key}: {value}', metadata_separator='\\n', text_resource=MediaResource(embeddings=None, data=None, text='Vous pouvez ensuite vousrendredans le dossierdevelopmentque vousdevriez avoir créé précédemment:\\ncd developmentUne fois situé dans le dossierdevelopmentdans votreterminal, nous allonspouvoirdézipperle fichier télécharger sur le sitede Flutter.\\nVous pouvez ledézippermanuellement ou utiliser lacommandesuivantepour dézipper le fichierflutter_macos_2.2.3-stable.zip(attention le nom dufichier change avec les versions):\\nunzip flutter_macos_2.2.3-stable.zipPrenez soin auparavant de situer votrefichier zipdans ledossierdevelopment.\\nVoilà pourl’installationdu SDK Flutter, nous allonsmaintenant faire en sortede leconfigurerpour un fonctionnement optimal.\\n4.2 Conﬁgurer le SDK Flutter\\nNous venons doncd’installer le SDK Fluttersur notreMac, nous avons ainsiaccès auxcommandes Flutterpour créer de nouvellesapplications parexemple.\\nNéanmoins, nous avons besoin deconfigurerl’adressede notre SDKpourqu’il soit accessible partout sur notre Mac.\\n', path=None, url=None, mimetype=None), image_resource=None, audio_resource=None, video_resource=None, text_template='{metadata_str}\\n\\n{content}'),\n",
      " Document(id_='586c7150-fcd7-4f80-9113-9dbffeb97d5c', embedding=None, metadata={'page_label': '19', 'file_name': 'flutter-revolution.pdf', 'file_path': '/home/fitiavana/dev/rag-pdf/data/flutter-revolution.pdf', 'file_type': 'application/pdf', 'file_size': 4005615, 'creation_date': '2025-03-04', 'last_modified_date': '2025-03-04'}, excluded_embed_metadata_keys=['file_name', 'file_type', 'file_size', 'creation_date', 'last_modified_date', 'last_accessed_date'], excluded_llm_metadata_keys=['file_name', 'file_type', 'file_size', 'creation_date', 'last_modified_date', 'last_accessed_date'], relationships={}, metadata_template='{key}: {value}', metadata_separator='\\n', text_resource=MediaResource(embeddings=None, data=None, text='LeSDKse trouve précisément dans ledossierbinde notredossier flutter,nous allons donc stocker dans notre Macl’adresseexactede ce dossier.\\nOn utilise lacommandepwdpourtrouverl’adressecomplète du dossierflutter/bin.\\nVous pouvez ainsi utiliser lescommandesci-dessouspour déclarer etaffichercettenouvelle adresse:\\nexport PATH=\"$PATH:`pwd`/development/flutter/bin\"echo $PATHCopiezet mettez l’adresse affichée par le terminal de côtépour pouvoir laréutiliserplus tard.\\nJe vais vous proposerdeux méthodespour déclarervotrevariable globaled’accès au SDK Flutter.\\n4.2.1 Méthode 1: zsh (recommandée)\\nJe commence par vous proposer laméthodelaplus récente,qui utilisel’interpréteur de commandezsh pour Mac.\\nDans lavidéo, je vous montre l’exemple avec l’interpréteurbash, le principeest le même sauf que le zsh est lesuccesseurde bash.\\nReprenez votreterminalet entrez la commande:\\nvim $HOME/.zshrcDans lefichierqui s’affiche dans votre terminal,vous allez pouvoir déclarerl’adresse du SDK Flutter et pouvoir ainsi y accéder depuis tout votreordinateur.\\nReprenez doncl’adressede votre dossierflutter/binetdéclarez la variablesuivante:\\nexport PATH=\"L_ADRESSE_DU_DOSSIER_FLUTTER_BIN\"Voilà parexemplece que donne le rendu de monfichierzshrc:', path=None, url=None, mimetype=None), image_resource=None, audio_resource=None, video_resource=None, text_template='{metadata_str}\\n\\n{content}'),\n",
      " Document(id_='bf0bd366-062e-4453-a5ee-73ee34a1c587', embedding=None, metadata={'page_label': '20', 'file_name': 'flutter-revolution.pdf', 'file_path': '/home/fitiavana/dev/rag-pdf/data/flutter-revolution.pdf', 'file_type': 'application/pdf', 'file_size': 4005615, 'creation_date': '2025-03-04', 'last_modified_date': '2025-03-04'}, excluded_embed_metadata_keys=['file_name', 'file_type', 'file_size', 'creation_date', 'last_modified_date', 'last_accessed_date'], excluded_llm_metadata_keys=['file_name', 'file_type', 'file_size', 'creation_date', 'last_modified_date', 'last_accessed_date'], relationships={}, metadata_template='{key}: {value}', metadata_separator='\\n', text_resource=MediaResource(embeddings=None, data=None, text='Pourquitterl’édition du fichier, entrez:\\nCrtl + CPuis tapez dans le terminal les caractères suivants pour quitter etenregistrervotre fichier:\\n:wq!Cette commande (write and quite) vous permet de bienenregistrer votrefichier, devrait être visible en bas de votre terminal:\\nUne fois revenu à votre terminal habituel, n’oubliez pas deREDÉMARRERvotre logiciel avant de tester que laméthode zsha bienfonctionné.\\nPour tester que votrevariable PATHa bien été miseà jour, vous pouvezentrez la commande suivante pourl’afficher:\\necho $PATH\\n', path=None, url=None, mimetype=None), image_resource=None, audio_resource=None, video_resource=None, text_template='{metadata_str}\\n\\n{content}'),\n",
      " Document(id_='db1184da-ba51-494a-9e76-f42b104778d7', embedding=None, metadata={'page_label': '21', 'file_name': 'flutter-revolution.pdf', 'file_path': '/home/fitiavana/dev/rag-pdf/data/flutter-revolution.pdf', 'file_type': 'application/pdf', 'file_size': 4005615, 'creation_date': '2025-03-04', 'last_modified_date': '2025-03-04'}, excluded_embed_metadata_keys=['file_name', 'file_type', 'file_size', 'creation_date', 'last_modified_date', 'last_accessed_date'], excluded_llm_metadata_keys=['file_name', 'file_type', 'file_size', 'creation_date', 'last_modified_date', 'last_accessed_date'], relationships={}, metadata_template='{key}: {value}', metadata_separator='\\n', text_resource=MediaResource(embeddings=None, data=None, text='Vous pouvez aussi testerpar exemple la commandeflutter doctorpourvérifier si la commande flutter est accessible (ne faites pas encore attentionau résultat de la commande):\\nflutter doctorJe vous montre maintenant ladeuxième méthode,quej’utilise dans la vidéopour ceux que ça intéresse.\\n4.2.2 Méthode 2: bash (utilisée dans la vidéo)\\nSi vous le souhaitez, vous pouvez aussi conserver laméthode bash,qui estsimilaire, maismoins recommandépour Mac à ce jour.\\nNous allons utiliser le fichierbash_profilepourstocker cette adresse demanière définitive.\\nEntrez lesdeux commandessuivantes pourcréerpuisouvrirle fichierbash_profile(vous devez vous trouver dans votre dossierracine utilisateur):\\ntouch .bash_profileopen .bash_profileUndocument textevierge devrait s’ouvrir, vous pouvezalors lui entrerlaligne de code suivante:\\nexport PATH=L_ADRESSE_DU_DOSSIER_FLUTTER_BINParexemplevoilà ce que j’entre dansmon fichierbash_profile:\\nexportPATH=/usr/local/bin:/usr/bin:/bin:/usr/sbin:/sbin:/Users/drissalaoui-sosse/development/flutter/binEnregistrezensuite votre fichier texte etquittezl’éditeurTextEdit, entrezensuite lacommande sourcesuivante pour appliquerles modifications.\\nsource .bash_profileVous pouvez ensuitetesterpar exemple la commandeflutter doctorpourtester si la commande flutter est accessible (ne faites pas encore attention aurésultat de la commande):', path=None, url=None, mimetype=None), image_resource=None, audio_resource=None, video_resource=None, text_template='{metadata_str}\\n\\n{content}'),\n",
      " Document(id_='330fce95-48cb-4994-b712-28ff8bc641a7', embedding=None, metadata={'page_label': '22', 'file_name': 'flutter-revolution.pdf', 'file_path': '/home/fitiavana/dev/rag-pdf/data/flutter-revolution.pdf', 'file_type': 'application/pdf', 'file_size': 4005615, 'creation_date': '2025-03-04', 'last_modified_date': '2025-03-04'}, excluded_embed_metadata_keys=['file_name', 'file_type', 'file_size', 'creation_date', 'last_modified_date', 'last_accessed_date'], excluded_llm_metadata_keys=['file_name', 'file_type', 'file_size', 'creation_date', 'last_modified_date', 'last_accessed_date'], relationships={}, metadata_template='{key}: {value}', metadata_separator='\\n', text_resource=MediaResource(embeddings=None, data=None, text='flutter doctorOn passe maintenant à laconfiguration de Xcodeetdu lancement de notreémulateur d’iPhone.\\n4.3 Conﬁguration de Xcode\\nNous allons maintenantinstallerle logiciel de développementd’AppleXcodepour accéder auxémulateurs d’iPhone.\\nVous pouveztélécharger Xcodegratuitement en vousrendant sur leMacApp Store:https://apps.apple.com/fr/app/xcode/id497799835?mt=12\\nXcodeest un logiciel assezvolumineuxqui demandechaque année unemise à jour.\\nVotre version deMacOSdoit aussi être à jourpourpermettre à Xcode devous faire utiliser les dernièresfonctionnalitésd’iOS.\\n', path=None, url=None, mimetype=None), image_resource=None, audio_resource=None, video_resource=None, text_template='{metadata_str}\\n\\n{content}'),\n",
      " Document(id_='87ea6c5e-84b7-475b-a1f4-bd5cb9ab6eaf', embedding=None, metadata={'page_label': '23', 'file_name': 'flutter-revolution.pdf', 'file_path': '/home/fitiavana/dev/rag-pdf/data/flutter-revolution.pdf', 'file_type': 'application/pdf', 'file_size': 4005615, 'creation_date': '2025-03-04', 'last_modified_date': '2025-03-04'}, excluded_embed_metadata_keys=['file_name', 'file_type', 'file_size', 'creation_date', 'last_modified_date', 'last_accessed_date'], excluded_llm_metadata_keys=['file_name', 'file_type', 'file_size', 'creation_date', 'last_modified_date', 'last_accessed_date'], relationships={}, metadata_template='{key}: {value}', metadata_separator='\\n', text_resource=MediaResource(embeddings=None, data=None, text='Si ce n’est pas déjà fait, mettez doncà jourvotre version deMacOSetinstallerXcode.\\nUne fois le logiciel installé sur votre Mac, entrez lescommandespourconfigurer Xcodesur votre terminal:\\nsudo xcode-select --switch/Applications/Xcode.app/Contents/Developersudo xcodebuild -runFirstLaunchLe mot clésudovous indique que vous devez entrervotremot de passedans votre terminal pour valider cette action.\\nUne fois ces deux commandes entrées vous pouvez lancer un premiersimulateur d’iPhone 8avec la commandeopen:\\nopen -a SimulatorVous pouvezchanger d’appareil iOSen fait unclique-droitsur l’icône devotre émulateur dans dock et sélectionner par exemple uniPhone 11.\\nVoilà donc lerésultatde votre émulateur iOS qui fonctionne et avec lequelnous allons pouvoir tester nosapplications Flutter.\\nSi vouscréezunepremière applicationrapidementet lalancerdans votreémulateur, entrez lescommandes suivantes:\\nflutter create my_app\\n', path=None, url=None, mimetype=None), image_resource=None, audio_resource=None, video_resource=None, text_template='{metadata_str}\\n\\n{content}'),\n",
      " Document(id_='ee619809-faec-447b-a3c4-b76be640da7f', embedding=None, metadata={'page_label': '24', 'file_name': 'flutter-revolution.pdf', 'file_path': '/home/fitiavana/dev/rag-pdf/data/flutter-revolution.pdf', 'file_type': 'application/pdf', 'file_size': 4005615, 'creation_date': '2025-03-04', 'last_modified_date': '2025-03-04'}, excluded_embed_metadata_keys=['file_name', 'file_type', 'file_size', 'creation_date', 'last_modified_date', 'last_accessed_date'], excluded_llm_metadata_keys=['file_name', 'file_type', 'file_size', 'creation_date', 'last_modified_date', 'last_accessed_date'], relationships={}, metadata_template='{key}: {value}', metadata_separator='\\n', text_resource=MediaResource(embeddings=None, data=None, text='cd my_appflutter runNous détaillerons cesétapesdans unautre chapitre.\\n4.4 Conﬁgurer Android Studio\\nLa configuration d’Android Studioest plusrapide,maispas moinstechniqueque pour Xcode.\\nJe vous invite encore une fois à vous référer en parallèle à ce chapitre à ladocumentation de Flutter:https://flutter.dev/docs/get-started/install/macos#android-setup\\nVous pouvez notamment commencer partélécharger AndroidStudiosurMac à cette adresse:https://developer.android.com/studio\\nLancezensuite lefichier téléchargépour démarrerl’installationd’AndroidStudio.\\nVous devriez voir également les différentesSDK supplémentairesqui vontêtreinstalléspar la même occasion.\\nUne fois installé,lancez Android Studioune premièrefois et ouvrez lesparamètresSDK Managers:\\n', path=None, url=None, mimetype=None), image_resource=None, audio_resource=None, video_resource=None, text_template='{metadata_str}\\n\\n{content}'),\n",
      " Document(id_='db757b23-b0a3-4ea9-bb86-bf0acd85a174', embedding=None, metadata={'page_label': '25', 'file_name': 'flutter-revolution.pdf', 'file_path': '/home/fitiavana/dev/rag-pdf/data/flutter-revolution.pdf', 'file_type': 'application/pdf', 'file_size': 4005615, 'creation_date': '2025-03-04', 'last_modified_date': '2025-03-04'}, excluded_embed_metadata_keys=['file_name', 'file_type', 'file_size', 'creation_date', 'last_modified_date', 'last_accessed_date'], excluded_llm_metadata_keys=['file_name', 'file_type', 'file_size', 'creation_date', 'last_modified_date', 'last_accessed_date'], relationships={}, metadata_template='{key}: {value}', metadata_separator='\\n', text_resource=MediaResource(embeddings=None, data=None, text='Vous pouvez de cette manièrevérifierla présenceduSDK Android BuildToolainsi que duAndroid emulatorque nous allonsutiliser.\\n', path=None, url=None, mimetype=None), image_resource=None, audio_resource=None, video_resource=None, text_template='{metadata_str}\\n\\n{content}'),\n",
      " Document(id_='120fe210-b0a8-481b-88f5-105a0140816c', embedding=None, metadata={'page_label': '26', 'file_name': 'flutter-revolution.pdf', 'file_path': '/home/fitiavana/dev/rag-pdf/data/flutter-revolution.pdf', 'file_type': 'application/pdf', 'file_size': 4005615, 'creation_date': '2025-03-04', 'last_modified_date': '2025-03-04'}, excluded_embed_metadata_keys=['file_name', 'file_type', 'file_size', 'creation_date', 'last_modified_date', 'last_accessed_date'], excluded_llm_metadata_keys=['file_name', 'file_type', 'file_size', 'creation_date', 'last_modified_date', 'last_accessed_date'], relationships={}, metadata_template='{key}: {value}', metadata_separator='\\n', text_resource=MediaResource(embeddings=None, data=None, text='Si jamais il manquel’un des outils ou SDK,cochez-lepour l’installersurvotre Mac.\\nPassons maintenant à laconfigurationd’unpremierémulateur Android,pour cela ouvrez le menuAVD Manager:\\n', path=None, url=None, mimetype=None), image_resource=None, audio_resource=None, video_resource=None, text_template='{metadata_str}\\n\\n{content}'),\n",
      " Document(id_='6a30b8d9-763a-47b3-be22-26adae66340b', embedding=None, metadata={'page_label': '27', 'file_name': 'flutter-revolution.pdf', 'file_path': '/home/fitiavana/dev/rag-pdf/data/flutter-revolution.pdf', 'file_type': 'application/pdf', 'file_size': 4005615, 'creation_date': '2025-03-04', 'last_modified_date': '2025-03-04'}, excluded_embed_metadata_keys=['file_name', 'file_type', 'file_size', 'creation_date', 'last_modified_date', 'last_accessed_date'], excluded_llm_metadata_keys=['file_name', 'file_type', 'file_size', 'creation_date', 'last_modified_date', 'last_accessed_date'], relationships={}, metadata_template='{key}: {value}', metadata_separator='\\n', text_resource=MediaResource(embeddings=None, data=None, text='L’interface vous proposera lors decréer un nouvelappareil virtuel:\\n', path=None, url=None, mimetype=None), image_resource=None, audio_resource=None, video_resource=None, text_template='{metadata_str}\\n\\n{content}'),\n",
      " Document(id_='47e86483-533f-482d-b17b-0e88c8f8e456', embedding=None, metadata={'page_label': '28', 'file_name': 'flutter-revolution.pdf', 'file_path': '/home/fitiavana/dev/rag-pdf/data/flutter-revolution.pdf', 'file_type': 'application/pdf', 'file_size': 4005615, 'creation_date': '2025-03-04', 'last_modified_date': '2025-03-04'}, excluded_embed_metadata_keys=['file_name', 'file_type', 'file_size', 'creation_date', 'last_modified_date', 'last_accessed_date'], excluded_llm_metadata_keys=['file_name', 'file_type', 'file_size', 'creation_date', 'last_modified_date', 'last_accessed_date'], relationships={}, metadata_template='{key}: {value}', metadata_separator='\\n', text_resource=MediaResource(embeddings=None, data=None, text='Sélectionnez dans lacatégorie Phonele modèle devotre choix, par exempleunPixel 2de Google:\\n', path=None, url=None, mimetype=None), image_resource=None, audio_resource=None, video_resource=None, text_template='{metadata_str}\\n\\n{content}'),\n",
      " Document(id_='f62dd2a4-cc06-4305-bb2b-ad456d4d933a', embedding=None, metadata={'page_label': '29', 'file_name': 'flutter-revolution.pdf', 'file_path': '/home/fitiavana/dev/rag-pdf/data/flutter-revolution.pdf', 'file_type': 'application/pdf', 'file_size': 4005615, 'creation_date': '2025-03-04', 'last_modified_date': '2025-03-04'}, excluded_embed_metadata_keys=['file_name', 'file_type', 'file_size', 'creation_date', 'last_modified_date', 'last_accessed_date'], excluded_llm_metadata_keys=['file_name', 'file_type', 'file_size', 'creation_date', 'last_modified_date', 'last_accessed_date'], relationships={}, metadata_template='{key}: {value}', metadata_separator='\\n', text_resource=MediaResource(embeddings=None, data=None, text='Installeret télécharger ladernière version d’Android OSsur cet émulateurpour terminer la configuration de cet appareil.\\nUne foisl’émulateurAndroidtéléchargéet installé,il devrait apparaître dansle tableau de vosmachines virtuelles.\\nVous pouvez cliquez sur lebouton Playpourlancercet émulateur Android.\\nUnPixel 2devrait doncapparaîtresur votre Mac,dans lequel nous allonspouvoirlancer notre première applicationFlutter.\\nReprenez votreterminalet entrez la commande suivantepourrepérerd’éventuels problèmesà corriger:\\nflutter doctorSi vous n’avez pas encore créé d’application Flutter,vous pouvez encréerune rapidementet la lancer dans votreémulateur Androidavec lescommandes suivantes:\\nflutter create my_appcd my_appflutter run\\n', path=None, url=None, mimetype=None), image_resource=None, audio_resource=None, video_resource=None, text_template='{metadata_str}\\n\\n{content}'),\n",
      " Document(id_='25bc7e42-3995-43e2-93f0-6d506e70c3f4', embedding=None, metadata={'page_label': '30', 'file_name': 'flutter-revolution.pdf', 'file_path': '/home/fitiavana/dev/rag-pdf/data/flutter-revolution.pdf', 'file_type': 'application/pdf', 'file_size': 4005615, 'creation_date': '2025-03-04', 'last_modified_date': '2025-03-04'}, excluded_embed_metadata_keys=['file_name', 'file_type', 'file_size', 'creation_date', 'last_modified_date', 'last_accessed_date'], excluded_llm_metadata_keys=['file_name', 'file_type', 'file_size', 'creation_date', 'last_modified_date', 'last_accessed_date'], relationships={}, metadata_template='{key}: {value}', metadata_separator='\\n', text_resource=MediaResource(embeddings=None, data=None, text='Votreapplication Flutterdevrait ainsi se lancer dans unPixel 2avecl’apparence et le design d’uneapplication Androidclassique.\\nVoilà pourl’installation de Fluttersur votreMac.\\n5. Installer Flutter sur Windows\\nDans ce chapitre nous allons voir commentinstallerFluttersur un PCWindows.\\nLa procédure est légèrementdifférenteque sur unMac, notamment en cequi concerne la déclaration desvariables d’environnement.\\nEn ce qui concerneAndroid Studiole logiciel estidentiquesur Windows etMac donc pas de différence majeure à ce niveau-là\\nEn revanche sur Windows vous n’avezpas accèsaulogicielXcodeet doncau développement suriOS.\\nVous ne pourrez pas tester vos applications sur un émulateurd’iPhoneoud’iPad.\\nPour cela vous devrez soitinstaller MacOSsur votrePC ou le faire tournersur unemachine virtuelleavec un logiciel adapté.\\n5.1 Installer le SDK Flutter sur Windows\\n', path=None, url=None, mimetype=None), image_resource=None, audio_resource=None, video_resource=None, text_template='{metadata_str}\\n\\n{content}'),\n",
      " Document(id_='45f5313e-d6b3-4147-9f77-da368e8c063d', embedding=None, metadata={'page_label': '31', 'file_name': 'flutter-revolution.pdf', 'file_path': '/home/fitiavana/dev/rag-pdf/data/flutter-revolution.pdf', 'file_type': 'application/pdf', 'file_size': 4005615, 'creation_date': '2025-03-04', 'last_modified_date': '2025-03-04'}, excluded_embed_metadata_keys=['file_name', 'file_type', 'file_size', 'creation_date', 'last_modified_date', 'last_accessed_date'], excluded_llm_metadata_keys=['file_name', 'file_type', 'file_size', 'creation_date', 'last_modified_date', 'last_accessed_date'], relationships={}, metadata_template='{key}: {value}', metadata_separator='\\n', text_resource=MediaResource(embeddings=None, data=None, text='Pour commencer nous allons télécharger et installer leSDK Fluttersur notrePCWindows.\\nVous pouvez vous rendre sur lesite de Flutterpourtéléchargerla dernièreversion du SDK:https://flutter.dev/docs/get-started/install/windows#get-the-flutter-sdk\\nVous pouvez également utiliser lacommande gitsi vous l’avez installé survotre ordinateur pour télécharger la dernièreversiondu SDK Flutter.\\ngit clone https://github.com/flutter/flutter.git -b stable\\nJe vous invite quelle que soit la méthode que vous utilisez, de placer leSDKFlutterdans un nouveaudossier“development“.\\nPour créer ce nouveau dossier à la racine de votre session utilisateur, ouvrezle logiciel “Console” ou “Invite de commande“.\\nUne fois ouvert, entrez la commandemkdirpourcréerle dossierdevelopment etstartpourl’ouvrirdans votre explorateurde fichier.\\nmkdir developmentstart development\\n', path=None, url=None, mimetype=None), image_resource=None, audio_resource=None, video_resource=None, text_template='{metadata_str}\\n\\n{content}'),\n",
      " Document(id_='aefa2ace-dca9-4c1a-a88c-b6262dbb8be9', embedding=None, metadata={'page_label': '32', 'file_name': 'flutter-revolution.pdf', 'file_path': '/home/fitiavana/dev/rag-pdf/data/flutter-revolution.pdf', 'file_type': 'application/pdf', 'file_size': 4005615, 'creation_date': '2025-03-04', 'last_modified_date': '2025-03-04'}, excluded_embed_metadata_keys=['file_name', 'file_type', 'file_size', 'creation_date', 'last_modified_date', 'last_accessed_date'], excluded_llm_metadata_keys=['file_name', 'file_type', 'file_size', 'creation_date', 'last_modified_date', 'last_accessed_date'], relationships={}, metadata_template='{key}: {value}', metadata_separator='\\n', text_resource=MediaResource(embeddings=None, data=None, text='Une fois que ce dossierdevelopmentest ouvert, je vous invite àtransférerle contenu dézippédu SDK Flutter dans ce nouveaudossier.\\nMaintenant que votreSDK Flutterse trouve dans votredossierdevelopment, vous pouvez vous rendre dans le sousdossierflutter/bin:\\ncd development/flutter/bin\\nC’est en effet dans cesous-dossierque se trouvenotrecommande flutterqui nous permettra de créer et déployer nos applications.\\nVous pouvez par exemple tester lacommande d’analyse“flutter doctor” quivous indique si tout est bien installé sur votre ordinateur.\\nflutter doctor\\nPour le moment, la console devrait vous indiquerl’absencedu SDK Androidsur votre PC.\\n5.2 Conﬁgurer le SDK Flutter sur Windows\\nNous sommes donc capables d’utiliser lacommande Flutteret accéder àtout le SDK.\\nMais pour l’instant, nous ne pouvons le faire qu’ennous rendantdans cesous-dossier bin.\\n', path=None, url=None, mimetype=None), image_resource=None, audio_resource=None, video_resource=None, text_template='{metadata_str}\\n\\n{content}'),\n",
      " Document(id_='7837b8a7-b676-42c0-a09c-fb41426b0630', embedding=None, metadata={'page_label': '33', 'file_name': 'flutter-revolution.pdf', 'file_path': '/home/fitiavana/dev/rag-pdf/data/flutter-revolution.pdf', 'file_type': 'application/pdf', 'file_size': 4005615, 'creation_date': '2025-03-04', 'last_modified_date': '2025-03-04'}, excluded_embed_metadata_keys=['file_name', 'file_type', 'file_size', 'creation_date', 'last_modified_date', 'last_accessed_date'], excluded_llm_metadata_keys=['file_name', 'file_type', 'file_size', 'creation_date', 'last_modified_date', 'last_accessed_date'], relationships={}, metadata_template='{key}: {value}', metadata_separator='\\n', text_resource=MediaResource(embeddings=None, data=None, text='Nous pouvons déclarer et mettre à jour nosvariables d’environnementspour pouvoir accéder à la commande Flutter depuisn’importe ou.\\nPour cela, tapez dans la barre de recherche Windows “env” et cliquez sur lerésultat “Modifier les variables d’environnement“:\\nUne fois lepanneau de configurationouvert, cliquezsur le bouton“Variables d’environnement” en bas de la page:\\n', path=None, url=None, mimetype=None), image_resource=None, audio_resource=None, video_resource=None, text_template='{metadata_str}\\n\\n{content}'),\n",
      " Document(id_='1445b810-c46a-4bae-a1f9-6d8f5672ce27', embedding=None, metadata={'page_label': '34', 'file_name': 'flutter-revolution.pdf', 'file_path': '/home/fitiavana/dev/rag-pdf/data/flutter-revolution.pdf', 'file_type': 'application/pdf', 'file_size': 4005615, 'creation_date': '2025-03-04', 'last_modified_date': '2025-03-04'}, excluded_embed_metadata_keys=['file_name', 'file_type', 'file_size', 'creation_date', 'last_modified_date', 'last_accessed_date'], excluded_llm_metadata_keys=['file_name', 'file_type', 'file_size', 'creation_date', 'last_modified_date', 'last_accessed_date'], relationships={}, metadata_template='{key}: {value}', metadata_separator='\\n', text_resource=MediaResource(embeddings=None, data=None, text='Il devrait alors vous afficher lesvariables d’environnement,déjà présentessur votre PC.\\nSi la variablePATHouPathexiste déjà cliquez dessuset surModifierpour lamettre à jour.\\nSI ellen’apparaît pas encore, cliquez sur “Nouvelle“:\\n', path=None, url=None, mimetype=None), image_resource=None, audio_resource=None, video_resource=None, text_template='{metadata_str}\\n\\n{content}'),\n",
      " Document(id_='94576f16-33da-4f3c-9435-ea7f5290e17a', embedding=None, metadata={'page_label': '35', 'file_name': 'flutter-revolution.pdf', 'file_path': '/home/fitiavana/dev/rag-pdf/data/flutter-revolution.pdf', 'file_type': 'application/pdf', 'file_size': 4005615, 'creation_date': '2025-03-04', 'last_modified_date': '2025-03-04'}, excluded_embed_metadata_keys=['file_name', 'file_type', 'file_size', 'creation_date', 'last_modified_date', 'last_accessed_date'], excluded_llm_metadata_keys=['file_name', 'file_type', 'file_size', 'creation_date', 'last_modified_date', 'last_accessed_date'], relationships={}, metadata_template='{key}: {value}', metadata_separator='\\n', text_resource=MediaResource(embeddings=None, data=None, text='Indiquez alors le nouveau de votre variable “PATH”et donnez-lui l’adresse devotrerépertoire flutter/binde votre disque:\\nCliquez ensuite surOKet fermer votre panneau deconfiguration etRELANCER votre terminal.\\nLorsque vous entrerez lacommandesuivanteechosuivante:\\necho %PATH%\\n', path=None, url=None, mimetype=None), image_resource=None, audio_resource=None, video_resource=None, text_template='{metadata_str}\\n\\n{content}'),\n",
      " Document(id_='76feda9c-1119-4627-b6cf-331643447c0b', embedding=None, metadata={'page_label': '36', 'file_name': 'flutter-revolution.pdf', 'file_path': '/home/fitiavana/dev/rag-pdf/data/flutter-revolution.pdf', 'file_type': 'application/pdf', 'file_size': 4005615, 'creation_date': '2025-03-04', 'last_modified_date': '2025-03-04'}, excluded_embed_metadata_keys=['file_name', 'file_type', 'file_size', 'creation_date', 'last_modified_date', 'last_accessed_date'], excluded_llm_metadata_keys=['file_name', 'file_type', 'file_size', 'creation_date', 'last_modified_date', 'last_accessed_date'], relationships={}, metadata_template='{key}: {value}', metadata_separator='\\n', text_resource=MediaResource(embeddings=None, data=None, text='Votre console devrait vousaffichertoutes lesvariables d’environnementdevotre PC.\\nElles sont séparées par des point virgules et ladernièredevrait être l’adressede votreSDK Flutter flutter/bin.\\nVous avez donc normalement accès à lacommande Flutterdepuistoutvotre PCpour créer par exemple de nouvelle application.\\n5.3 Conﬁgurer Android Studio\\nPour terminer nous allons maintenantinstaller etconfigurerle logiciel dedéveloppementAndroid Studio:https://developer.android.com/studio\\nLaprocédured’installation est lamêmeque pourMac,et elle est classiquedonc pas d’inquiétude à ce niveau-là.\\nUne fois que le logiciel Android Studio est téléchargéet installé, ouvrez-leune première fois.\\n', path=None, url=None, mimetype=None), image_resource=None, audio_resource=None, video_resource=None, text_template='{metadata_str}\\n\\n{content}'),\n",
      " Document(id_='12dff3df-e4cf-4352-b5ef-78493d56c3e2', embedding=None, metadata={'page_label': '37', 'file_name': 'flutter-revolution.pdf', 'file_path': '/home/fitiavana/dev/rag-pdf/data/flutter-revolution.pdf', 'file_type': 'application/pdf', 'file_size': 4005615, 'creation_date': '2025-03-04', 'last_modified_date': '2025-03-04'}, excluded_embed_metadata_keys=['file_name', 'file_type', 'file_size', 'creation_date', 'last_modified_date', 'last_accessed_date'], excluded_llm_metadata_keys=['file_name', 'file_type', 'file_size', 'creation_date', 'last_modified_date', 'last_accessed_date'], relationships={}, metadata_template='{key}: {value}', metadata_separator='\\n', text_resource=MediaResource(embeddings=None, data=None, text='Sur le bouton Configure, cliquez surSDK Managerpourvérifier la présencedetous les SDKdont nous allons avoir besoin parla suite.\\nNous utiliseronsAndroid SDK Build-Tools,AndroidEmulatoretAndroidSDK Platform-Tools.\\n', path=None, url=None, mimetype=None), image_resource=None, audio_resource=None, video_resource=None, text_template='{metadata_str}\\n\\n{content}'),\n",
      " Document(id_='abb81b97-40b3-4203-b125-7139f934c107', embedding=None, metadata={'page_label': '38', 'file_name': 'flutter-revolution.pdf', 'file_path': '/home/fitiavana/dev/rag-pdf/data/flutter-revolution.pdf', 'file_type': 'application/pdf', 'file_size': 4005615, 'creation_date': '2025-03-04', 'last_modified_date': '2025-03-04'}, excluded_embed_metadata_keys=['file_name', 'file_type', 'file_size', 'creation_date', 'last_modified_date', 'last_accessed_date'], excluded_llm_metadata_keys=['file_name', 'file_type', 'file_size', 'creation_date', 'last_modified_date', 'last_accessed_date'], relationships={}, metadata_template='{key}: {value}', metadata_separator='\\n', text_resource=MediaResource(embeddings=None, data=None, text='S’il enmanque un, cliquez dessus etinstallez-lepour être à jour.\\nEnsuite revenez sur l’écran d’accueild’Android Studioet cliquez cette fois-cisurAVD Manager:\\n', path=None, url=None, mimetype=None), image_resource=None, audio_resource=None, video_resource=None, text_template='{metadata_str}\\n\\n{content}'),\n",
      " Document(id_='4a7c5349-d69c-484f-b710-d94bf0fbbd57', embedding=None, metadata={'page_label': '39', 'file_name': 'flutter-revolution.pdf', 'file_path': '/home/fitiavana/dev/rag-pdf/data/flutter-revolution.pdf', 'file_type': 'application/pdf', 'file_size': 4005615, 'creation_date': '2025-03-04', 'last_modified_date': '2025-03-04'}, excluded_embed_metadata_keys=['file_name', 'file_type', 'file_size', 'creation_date', 'last_modified_date', 'last_accessed_date'], excluded_llm_metadata_keys=['file_name', 'file_type', 'file_size', 'creation_date', 'last_modified_date', 'last_accessed_date'], relationships={}, metadata_template='{key}: {value}', metadata_separator='\\n', text_resource=MediaResource(embeddings=None, data=None, text='C’est legestionnaire des émulateurs Android(AndroidVirtual Device: AVD)qui nous permettra de leslancerou d’encréerdenouveaux.\\nVous pouvez donc cliquez sur “+ Create Virtual Device”pour créer notrepremier émulateurAndroid:\\n', path=None, url=None, mimetype=None), image_resource=None, audio_resource=None, video_resource=None, text_template='{metadata_str}\\n\\n{content}'),\n",
      " Document(id_='6e3f2c78-2115-4eaa-93c8-3a10478cdaf2', embedding=None, metadata={'page_label': '40', 'file_name': 'flutter-revolution.pdf', 'file_path': '/home/fitiavana/dev/rag-pdf/data/flutter-revolution.pdf', 'file_type': 'application/pdf', 'file_size': 4005615, 'creation_date': '2025-03-04', 'last_modified_date': '2025-03-04'}, excluded_embed_metadata_keys=['file_name', 'file_type', 'file_size', 'creation_date', 'last_modified_date', 'last_accessed_date'], excluded_llm_metadata_keys=['file_name', 'file_type', 'file_size', 'creation_date', 'last_modified_date', 'last_accessed_date'], relationships={}, metadata_template='{key}: {value}', metadata_separator='\\n', text_resource=MediaResource(embeddings=None, data=None, text='Sélectionnez ensuite lemodèle d’Androidque voussouhaitez reproduire,personnellement je conserve le choix duPixel 2proposépar défaut:\\nInstallez ensuite ladernière version d’Androidetvalider toutes les étapesde la création votre premier émulateur.\\nUne fois créé, il devrait apparaître dans votretableaude bord, vous n’avezplus qu’à le lancer en cliquant surl’icône play:\\n', path=None, url=None, mimetype=None), image_resource=None, audio_resource=None, video_resource=None, text_template='{metadata_str}\\n\\n{content}'),\n",
      " Document(id_='ef0ac4b6-c3e8-43ed-b005-60f2ef3ef80b', embedding=None, metadata={'page_label': '41', 'file_name': 'flutter-revolution.pdf', 'file_path': '/home/fitiavana/dev/rag-pdf/data/flutter-revolution.pdf', 'file_type': 'application/pdf', 'file_size': 4005615, 'creation_date': '2025-03-04', 'last_modified_date': '2025-03-04'}, excluded_embed_metadata_keys=['file_name', 'file_type', 'file_size', 'creation_date', 'last_modified_date', 'last_accessed_date'], excluded_llm_metadata_keys=['file_name', 'file_type', 'file_size', 'creation_date', 'last_modified_date', 'last_accessed_date'], relationships={}, metadata_template='{key}: {value}', metadata_separator='\\n', text_resource=MediaResource(embeddings=None, data=None, text='Pendant que votre émulateur Androids’ouvreet secharge correctement,ouvrez à nouveau votreconsole Windows.\\nRendez-vous dans votrerépertoire de développement:\\ncd development\\nPuiscréezvotrenouvelle application Flutteravecla commande:\\nflutter create my_app\\nUnnouveau dossierdevrait apparaître dans votre répertoiredevelopment,contenant tout le code de votreapplication Flutter.\\nAvantde lancer votre application dans l’émulateurAndroid, exécutez unedernière foisla commande:\\nflutter doctor\\nPour repérer d’éventuelleserreurs du SDK, dans moncas, je devais encoreaccepter les conditions d’utilisationduSDK d’Android,j’ai donc dû entrezla commande suivante:\\n', path=None, url=None, mimetype=None), image_resource=None, audio_resource=None, video_resource=None, text_template='{metadata_str}\\n\\n{content}'),\n",
      " Document(id_='1035ec51-e016-4655-8cef-23c6dbce785f', embedding=None, metadata={'page_label': '42', 'file_name': 'flutter-revolution.pdf', 'file_path': '/home/fitiavana/dev/rag-pdf/data/flutter-revolution.pdf', 'file_type': 'application/pdf', 'file_size': 4005615, 'creation_date': '2025-03-04', 'last_modified_date': '2025-03-04'}, excluded_embed_metadata_keys=['file_name', 'file_type', 'file_size', 'creation_date', 'last_modified_date', 'last_accessed_date'], excluded_llm_metadata_keys=['file_name', 'file_type', 'file_size', 'creation_date', 'last_modified_date', 'last_accessed_date'], relationships={}, metadata_template='{key}: {value}', metadata_separator='\\n', text_resource=MediaResource(embeddings=None, data=None, text='flutter doctor --android-licensesUne fois toutes les conditions d’utilisation acceptées, vous pouvez lancer lacommande runpour lancer votre application:\\nflutter run\\nPatientez quelques instants pour voir votre applicationse lancerdans votreémulateur Android.\\nVoilà pourl’installation de FluttersurWindows.\\n6. Conﬁgurer Visual Studio Code\\nDans ce chapitre, nous allons voir commentinstalleret configurerl’éditeurde codeVisual Studiopour créer nos applicationsavec Flutter.\\nFlutter propose en effetdifférentes solutionspourdévelopper avec Dart etFlutter, j’ai choisi d’utiliser Visual Studio Code, car le logiciel estdisponiblesur toutes les plateformesMac et PC.\\n', path=None, url=None, mimetype=None), image_resource=None, audio_resource=None, video_resource=None, text_template='{metadata_str}\\n\\n{content}'),\n",
      " Document(id_='cb5726d7-47f9-42c7-9140-c67b9678d1a6', embedding=None, metadata={'page_label': '43', 'file_name': 'flutter-revolution.pdf', 'file_path': '/home/fitiavana/dev/rag-pdf/data/flutter-revolution.pdf', 'file_type': 'application/pdf', 'file_size': 4005615, 'creation_date': '2025-03-04', 'last_modified_date': '2025-03-04'}, excluded_embed_metadata_keys=['file_name', 'file_type', 'file_size', 'creation_date', 'last_modified_date', 'last_accessed_date'], excluded_llm_metadata_keys=['file_name', 'file_type', 'file_size', 'creation_date', 'last_modified_date', 'last_accessed_date'], relationships={}, metadata_template='{key}: {value}', metadata_separator='\\n', text_resource=MediaResource(embeddings=None, data=None, text='Nous verrons ensuite commentcréer une nouvelle application Flutterenpartant de zéro et l’ouvrir dans votre émulateuriOSou Androiddepuis VisualStudio Code (VSC).\\n6.1 Installer et conﬁgurer Visual Studio Code\\nFlutterpropose une page consacrée à la configurationd’unéditeur de code:https://flutter.dev/docs/get-started/editor?tab=vscode\\nJ’ai choisi VSCcar Flutter y a créé desextensionsqui transforment l’éditeuren véritablelogicielde développement trèscomplet.\\nNous n’aurons mêmeplus besoin d’ouvrir Xcode ou AndroidStudiopourlancer nos applications dans un émulateur.\\nVous pouvez commencer partélécharger le logicielVSCdepuis le site:https://code.visualstudio.com/\\nUne fois le logiciel installé et lancer sur votre ordinateur, nous allons installerlesplugins Dart et Flutterde VSC.\\nOuvrez lemenu des extensionsà gauche de votre logiciel,puis tapez danslabarre de recherche“Flutter”.\\nInstaller ensuite le premierpluginqui s’affichequi dois avoir étéédité parDart Code.\\n', path=None, url=None, mimetype=None), image_resource=None, audio_resource=None, video_resource=None, text_template='{metadata_str}\\n\\n{content}'),\n",
      " Document(id_='a7b8de61-0ab1-4b61-b029-b182640c50fe', embedding=None, metadata={'page_label': '44', 'file_name': 'flutter-revolution.pdf', 'file_path': '/home/fitiavana/dev/rag-pdf/data/flutter-revolution.pdf', 'file_type': 'application/pdf', 'file_size': 4005615, 'creation_date': '2025-03-04', 'last_modified_date': '2025-03-04'}, excluded_embed_metadata_keys=['file_name', 'file_type', 'file_size', 'creation_date', 'last_modified_date', 'last_accessed_date'], excluded_llm_metadata_keys=['file_name', 'file_type', 'file_size', 'creation_date', 'last_modified_date', 'last_accessed_date'], relationships={}, metadata_template='{key}: {value}', metadata_separator='\\n', text_resource=MediaResource(embeddings=None, data=None, text='Lorsque leplugin Flutters’installe, leplugin Dartdoit lui aussi êtreinstalléautomatiquement.\\nDans le doute, vérifiez qu’il est bien installé en cherchant leplugin Dartdudéveloppeur Dart Code.\\nMaintenant que lesdeux extensionssontinstallées,nous allonstester lafonctionnalitéla plus intéressante de VSC.\\nCommencez parouvrir le fichier principalde votreapplication, le fichiermain.dartdans le dossierlib:\\n', path=None, url=None, mimetype=None), image_resource=None, audio_resource=None, video_resource=None, text_template='{metadata_str}\\n\\n{content}'),\n",
      " Document(id_='4bc89e09-8b30-4a86-8406-73026d7a002f', embedding=None, metadata={'page_label': '45', 'file_name': 'flutter-revolution.pdf', 'file_path': '/home/fitiavana/dev/rag-pdf/data/flutter-revolution.pdf', 'file_type': 'application/pdf', 'file_size': 4005615, 'creation_date': '2025-03-04', 'last_modified_date': '2025-03-04'}, excluded_embed_metadata_keys=['file_name', 'file_type', 'file_size', 'creation_date', 'last_modified_date', 'last_accessed_date'], excluded_llm_metadata_keys=['file_name', 'file_type', 'file_size', 'creation_date', 'last_modified_date', 'last_accessed_date'], relationships={}, metadata_template='{key}: {value}', metadata_separator='\\n', text_resource=MediaResource(embeddings=None, data=None, text='Maintenant que cefichier est ouvert, c’est celui-ci que VSC choisirad’exécuter et de lancerdans votre émulateur.\\nRendez-vous ensuite dans l’onglet Run de votremenulatéralet cliquez sur“Run and Debug“.\\nVSC devrait vous proposer dechoisir un émulateuriOS ou Androidselonvotre configuration.\\nJe choisis de lancer mon application sur unémulateuriOSet il me lance mondernier appareil ouvert, uniPhone 11.\\nAprès unpetit temps de chargementmon applications’ouvre dans monémulateur.\\n', path=None, url=None, mimetype=None), image_resource=None, audio_resource=None, video_resource=None, text_template='{metadata_str}\\n\\n{content}'),\n",
      " Document(id_='beaaa405-ff10-4ab5-988f-c731b3a301bf', embedding=None, metadata={'page_label': '46', 'file_name': 'flutter-revolution.pdf', 'file_path': '/home/fitiavana/dev/rag-pdf/data/flutter-revolution.pdf', 'file_type': 'application/pdf', 'file_size': 4005615, 'creation_date': '2025-03-04', 'last_modified_date': '2025-03-04'}, excluded_embed_metadata_keys=['file_name', 'file_type', 'file_size', 'creation_date', 'last_modified_date', 'last_accessed_date'], excluded_llm_metadata_keys=['file_name', 'file_type', 'file_size', 'creation_date', 'last_modified_date', 'last_accessed_date'], relationships={}, metadata_template='{key}: {value}', metadata_separator='\\n', text_resource=MediaResource(embeddings=None, data=None, text='Vous avez accès à unesérie de boutonspourrafraîchirmanuellement votreapplication ou biend’arrêterson exécution.\\nMais normalement dès que vousenregistrez votre fichiermain.dart, votreapplication devraits’actualiser en direct, voilàtoute la magie de Flutter!\\n6.2 Créer une application en partant de zéro\\nJe vous montre à nouveau commentcréer une applicationFlutteren partantde zéro.\\nL’idée ici est de vous montrer laprocédure à suivrelorsqu’on utiliseVSCpour coder ses applications Flutter.\\nVous devez comme toujours ouvrir votreterminaletvous rendre dans ledossier “developmment” qui contient votre SDK Flutteret vos autresapplications.\\ncd developmment\\nUne fois que vous vous trouvez dans cedossier, vouspouvez entrer lacommande “flutter create” pour créer une nouvelleapplication Flutter avecsonnom:\\n', path=None, url=None, mimetype=None), image_resource=None, audio_resource=None, video_resource=None, text_template='{metadata_str}\\n\\n{content}'),\n",
      " Document(id_='569c920b-0adf-4311-8de7-383793e333d7', embedding=None, metadata={'page_label': '47', 'file_name': 'flutter-revolution.pdf', 'file_path': '/home/fitiavana/dev/rag-pdf/data/flutter-revolution.pdf', 'file_type': 'application/pdf', 'file_size': 4005615, 'creation_date': '2025-03-04', 'last_modified_date': '2025-03-04'}, excluded_embed_metadata_keys=['file_name', 'file_type', 'file_size', 'creation_date', 'last_modified_date', 'last_accessed_date'], excluded_llm_metadata_keys=['file_name', 'file_type', 'file_size', 'creation_date', 'last_modified_date', 'last_accessed_date'], relationships={}, metadata_template='{key}: {value}', metadata_separator='\\n', text_resource=MediaResource(embeddings=None, data=None, text='flutter create my_flutter_app\\nCette étape doit être effectué depuis votre logiciel Terminal ou Console, etnon dans Visual Studio.\\nVous avez le choix à partir de d’ouvrir votre nouvelleapplication dansVisual Studioet de suivre les procédures précédentespour lancer votreapplication dans un émulateur.\\nSinon vous pouvez aussi rester dans votre terminal,vous rendre dans ledossier de votre application et la lancer avec la commande “flutter run“:\\ncd my_flutter_appflutter run\\nSinon je vous conseille de n’utiliser leTerminalou la Consoleque pourcréerde nouvelles applications, ce qui ne devrait pas arriversi souvent.\\nEnsuite je vous invite àtravailler exclusivementavec Visual Studioquiintègre sonpropre terminal.\\nCela vousfacilitera votre travailde développeuren ayant à ouvrirque lelogiciel Visual Studiolorsque vous voulez améliorervotre application.', path=None, url=None, mimetype=None), image_resource=None, audio_resource=None, video_resource=None, text_template='{metadata_str}\\n\\n{content}')]\n"
     ]
    }
   ],
   "source": [
    "import pprint\n",
    "pprint.pprint(docs)"
   ]
  },
  {
   "cell_type": "markdown",
   "metadata": {},
   "source": [
    "# Transformation"
   ]
  },
  {
   "cell_type": "code",
   "execution_count": 7,
   "metadata": {},
   "outputs": [
    {
     "data": {
      "text/plain": [
       "{'id_': 'ff04486a-21c4-4161-b294-8b6ad77ee0ce',\n",
       " 'embedding': None,\n",
       " 'metadata': {'page_label': '1',\n",
       "  'file_name': 'flutter-revolution.pdf',\n",
       "  'file_path': '/home/fitiavana/dev/rag-pdf/data/flutter-revolution.pdf',\n",
       "  'file_type': 'application/pdf',\n",
       "  'file_size': 4005615,\n",
       "  'creation_date': '2025-03-04',\n",
       "  'last_modified_date': '2025-03-04'},\n",
       " 'excluded_embed_metadata_keys': ['file_name',\n",
       "  'file_type',\n",
       "  'file_size',\n",
       "  'creation_date',\n",
       "  'last_modified_date',\n",
       "  'last_accessed_date'],\n",
       " 'excluded_llm_metadata_keys': ['file_name',\n",
       "  'file_type',\n",
       "  'file_size',\n",
       "  'creation_date',\n",
       "  'last_modified_date',\n",
       "  'last_accessed_date'],\n",
       " 'relationships': {},\n",
       " 'metadata_template': '{key}: {value}',\n",
       " 'metadata_separator': '\\n',\n",
       " 'text_resource': MediaResource(embeddings=None, data=None, text='', path=None, url=None, mimetype=None),\n",
       " 'image_resource': None,\n",
       " 'audio_resource': None,\n",
       " 'video_resource': None,\n",
       " 'text_template': '{metadata_str}\\n\\n{content}'}"
      ]
     },
     "execution_count": 7,
     "metadata": {},
     "output_type": "execute_result"
    }
   ],
   "source": [
    "docs[0].__dict__"
   ]
  },
  {
   "cell_type": "code",
   "execution_count": 8,
   "metadata": {},
   "outputs": [
    {
     "name": "stdout",
     "output_type": "stream",
     "text": [
      "The LLM sees this : \n",
      " Metadata: filename:super_secret_document.txt,\n",
      "category:finance\n",
      "author:LlamaIndex\n",
      "-----\n",
      "Content: This is a super-customized document\n",
      "The Embedding model sees this : \n",
      " Metadata: filename:super_secret_document.txt,\n",
      "category:finance\n",
      "author:LlamaIndex\n",
      "-----\n",
      "Content: This is a super-customized document\n"
     ]
    }
   ],
   "source": [
    "from llama_index.core import Document\n",
    "from llama_index.core.schema import MetadataMode\n",
    "\n",
    "document = Document(\n",
    "    text=\"This is a super-customized document\",\n",
    "    metadata={\n",
    "        \"filename\" : \"super_secret_document.txt,\",\n",
    "        \"category\" : \"finance\",\n",
    "        \"author\" : \"LlamaIndex\"\n",
    "    },\n",
    "    excluded_embeded_metadata_keys=[\"file_name\"],\n",
    "    metadata_separator=\"\\n\",\n",
    "    metadata_template=\"{key}:{value}\",\n",
    "    text_template=\"Metadata: {metadata_str}\\n-----\\nContent: {content}\"\n",
    ")\n",
    "\n",
    "print(\n",
    "    \"The LLM sees this : \\n\",\n",
    "    document.get_content(metadata_mode=MetadataMode.LLM)\n",
    ")\n",
    "\n",
    "print(\n",
    "    \"The Embedding model sees this : \\n\",\n",
    "    document.get_content(metadata_mode=MetadataMode.EMBED)\n",
    ")"
   ]
  },
  {
   "cell_type": "code",
   "execution_count": 9,
   "metadata": {},
   "outputs": [
    {
     "name": "stdout",
     "output_type": "stream",
     "text": [
      "page_label: 2\n",
      "file_path: /home/fitiavana/dev/rag-pdf/data/flutter-revolution.pdf\n",
      "\n",
      "1. Bienvenue1.1 Mon histoire1.2 Mes débuts avec Ionic1.3 Alors pourquoi Flutter ?1.4 Pourquoi ce cours ?\n",
      "2. Qu’est-ce que Flutter ?2.1 Sa rapidité de développement2.2 Son interface utilisateur très flexible2.3 Des performances natives2.4 Qui utilise Flutter ?\n",
      "3. Qu’est-ce que Dart ?3.1 Le Dart et les autres langages3.2 Le SDK Dart3.3 Quelques exemples du Dart\n",
      "4. Installer Flutter sur macOS4.1 Installer le SDK Flutter4.2 Configurer le SDK Flutter4.2.1 Méthode 1: zsh (recommandée)4.2.2 Méthode 2: bash (utilisée dans la vidéo)4.3 Configuration de Xcode4.4 Configurer Android Studio\n",
      "5. Installer Flutter sur Windows5.1 Installer le SDK Flutter sur Windows5.2 Configurer le SDK Flutter sur Windows5.3 Configurer Android Studio\n",
      "6. Configurer Visual Studio Code6.1 Installer et configurer Visual Studio Code6.2 Créer une application en partant de zéro\n"
     ]
    }
   ],
   "source": [
    "from llama_index.core.schema import MetadataMode\n",
    "\n",
    "print(docs[1].get_content(metadata_mode=MetadataMode.EMBED))"
   ]
  },
  {
   "cell_type": "code",
   "execution_count": 10,
   "metadata": {},
   "outputs": [],
   "source": [
    "for doc in docs:\n",
    "    doc.text_template = \"Metadata:\\n{metadata_str}\\n---\\nContent:\\n{content}\"\n",
    "    \n",
    "    if \"page_label\" not in doc.excluded_embed_metadata_keys:\n",
    "        doc.excluded_embed_metadata_keys.append(\"page_label\")"
   ]
  },
  {
   "cell_type": "code",
   "execution_count": 11,
   "metadata": {},
   "outputs": [
    {
     "name": "stdout",
     "output_type": "stream",
     "text": [
      "Metadata:\n",
      "file_path: /home/fitiavana/dev/rag-pdf/data/flutter-revolution.pdf\n",
      "---\n",
      "Content:\n",
      "1. Bienvenue1.1 Mon histoire1.2 Mes débuts avec Ionic1.3 Alors pourquoi Flutter ?1.4 Pourquoi ce cours ?\n",
      "2. Qu’est-ce que Flutter ?2.1 Sa rapidité de développement2.2 Son interface utilisateur très flexible2.3 Des performances natives2.4 Qui utilise Flutter ?\n",
      "3. Qu’est-ce que Dart ?3.1 Le Dart et les autres langages3.2 Le SDK Dart3.3 Quelques exemples du Dart\n",
      "4. Installer Flutter sur macOS4.1 Installer le SDK Flutter4.2 Configurer le SDK Flutter4.2.1 Méthode 1: zsh (recommandée)4.2.2 Méthode 2: bash (utilisée dans la vidéo)4.3 Configuration de Xcode4.4 Configurer Android Studio\n",
      "5. Installer Flutter sur Windows5.1 Installer le SDK Flutter sur Windows5.2 Configurer le SDK Flutter sur Windows5.3 Configurer Android Studio\n",
      "6. Configurer Visual Studio Code6.1 Installer et configurer Visual Studio Code6.2 Créer une application en partant de zéro\n"
     ]
    }
   ],
   "source": [
    "print(docs[1].get_content(metadata_mode=MetadataMode.EMBED))\n"
   ]
  },
  {
   "cell_type": "code",
   "execution_count": 12,
   "metadata": {},
   "outputs": [
    {
     "name": "stdout",
     "output_type": "stream",
     "text": [
      "\u001b[33mWARNING: You are using pip version 21.2.3; however, version 25.0.1 is available.\n",
      "You should consider upgrading via the '/usr/local/bin/python3.10 -m pip install --upgrade pip' command.\u001b[0m\n",
      "Note: you may need to restart the kernel to use updated packages.\n"
     ]
    }
   ],
   "source": [
    "%pip install -Uq llama-index-llms-groq"
   ]
  },
  {
   "cell_type": "code",
   "execution_count": 18,
   "metadata": {},
   "outputs": [],
   "source": [
    "from llama_index.llms.groq import Groq\n",
    "import os \n",
    "import getpass\n",
    "\n",
    "os.environ[\"GROQ_API_KEY\"] = getpass.getpass(\"Enter your Groq API key: \")"
   ]
  },
  {
   "cell_type": "code",
   "execution_count": 22,
   "metadata": {},
   "outputs": [],
   "source": [
    "#llm_transformations = Groq(model=\"qwen-2.5-32b\", api_key=os.environ[\"GROQ_API_KEY\"])\n",
    "llm_transformations = Groq(model=\"gemma2-9b-it\", api_key=os.environ[\"GROQ_API_KEY\"])"
   ]
  },
  {
   "cell_type": "code",
   "execution_count": 37,
   "metadata": {},
   "outputs": [
    {
     "name": "stdout",
     "output_type": "stream",
     "text": [
      "Loading pipeline state from cache...\n",
      "Loading cached result for document 0 (Cache Key: d41d8cd98f00b204e9800998ecf8427e)...\n",
      "Loading cached result for document 1 (Cache Key: 6d3ee13d0b476da8f3e840bcd9f62910)...\n",
      "Loading cached result for document 2 (Cache Key: a34498a1c3fb384cb5a228c803e3f404)...\n",
      "Loading cached result for document 3 (Cache Key: a8fd023bb3e96302590f55d55f1eb9a7)...\n",
      "Loading cached result for document 4 (Cache Key: 7a942135106ad8780d9810e87e6429e6)...\n",
      "Loading cached result for document 5 (Cache Key: d01d0bf91a772c1420005953b14d8b93)...\n",
      "Loading cached result for document 6 (Cache Key: 7feec03eeedf9d27ed62b9e98955984f)...\n",
      "Loading cached result for document 7 (Cache Key: 6a611d78cdb43c9b892b22ec7cc4ed2d)...\n",
      "Loading cached result for document 8 (Cache Key: aa4d39a8dd64cbe0ef0dd674f5c7deeb)...\n",
      "Loading cached result for document 9 (Cache Key: 81c82f95830059d4cf4c1a1da6f6f920)...\n",
      "Loading cached result for document 10 (Cache Key: 90bc3132d55f881e508ab8f57e0d5941)...\n",
      "Loading cached result for document 11 (Cache Key: be8b61725d5e1bde66d1d0e0c85d1c0c)...\n",
      "Loading cached result for document 12 (Cache Key: 308cfac421171c287e62e0908346c19b)...\n",
      "Loading cached result for document 13 (Cache Key: a08791dc0147021889d362b122ecd03e)...\n",
      "Loading cached result for document 14 (Cache Key: 7b07f5c5506f178688b32ffff8aa9515)...\n",
      "Loading cached result for document 15 (Cache Key: 8e41de739229998fb4f3135174d4580f)...\n",
      "Loading cached result for document 16 (Cache Key: ab441b7df0cc063e6d0eae5b28bbe8fd)...\n",
      "Loading cached result for document 17 (Cache Key: e5cf767e2f36c79d6eb7b75c57338cb4)...\n",
      "Loading cached result for document 18 (Cache Key: f257989c403f866589b45d7cba270b9e)...\n",
      "Loading cached result for document 19 (Cache Key: 0c518ce1f3c4f1fff03e6adbaf0617ef)...\n",
      "Loading cached result for document 20 (Cache Key: 589bf44a9102011c181cf5a05a4c4754)...\n",
      "Loading cached result for document 21 (Cache Key: 7b0f12f61e1a83da6e79684094c3b892)...\n",
      "Loading cached result for document 22 (Cache Key: 2e1b9b18cf3a2155de6539d4806d05ac)...\n",
      "Loading cached result for document 23 (Cache Key: 0f6784a78945a517d9b6e7dd61b26a65)...\n",
      "Loading cached result for document 24 (Cache Key: 66c9e90e4b71de2aa053a762e3fa1d83)...\n",
      "Loading cached result for document 25 (Cache Key: ff816b63daec5da4b5449cac8d186438)...\n",
      "Loading cached result for document 26 (Cache Key: deb83f6cae40b18ac2e46cab77c6dfac)...\n",
      "Loading cached result for document 27 (Cache Key: 5fa36e2f11cd486186b2fffe8ed50699)...\n",
      "Loading cached result for document 28 (Cache Key: 258684636626becda4a925890974e536)...\n",
      "Loading cached result for document 29 (Cache Key: 857a63ed5926322df75a92594d71a291)...\n",
      "Loading cached result for document 30 (Cache Key: 7422193516f3b0bd3d8a3909be55bb58)...\n",
      "Loading cached result for document 31 (Cache Key: a6c695050d241196c0378798d296c40f)...\n",
      "Loading cached result for document 32 (Cache Key: 665af0ce9f2defc40a64c6519c87632f)...\n",
      "Loading cached result for document 33 (Cache Key: be567bd98ef3576df455fdf8c1f5207c)...\n",
      "Loading cached result for document 34 (Cache Key: 6123f745439368cb666a276c12bfc7be)...\n",
      "Loading cached result for document 35 (Cache Key: cc998aa21580a4e2cbe7aa7e7140be58)...\n",
      "Loading cached result for document 36 (Cache Key: eadd27cf5265def3b936039eaa767aa7)...\n",
      "Loading cached result for document 37 (Cache Key: 90c576f7a2bbef4ae7544a3cae4d7f6c)...\n",
      "Loading cached result for document 38 (Cache Key: 7fbb9573b197d77a3270c7f412ef1256)...\n",
      "Loading cached result for document 39 (Cache Key: fee396b6acd93e1c9bd32edb71dd6c29)...\n",
      "Loading cached result for document 40 (Cache Key: ed8ac4470542d69d69d86dfa7477c153)...\n",
      "Loading cached result for document 41 (Cache Key: 3b7af0b5a15cbb8da1315b22c8011eb5)...\n",
      "Loading cached result for document 42 (Cache Key: 6e045e848943ea100b2a80fad19a3ac7)...\n",
      "Loading cached result for document 43 (Cache Key: ae404048fb0dd1d8c45559dec5903514)...\n",
      "Loading cached result for document 44 (Cache Key: 59f3d262ca542e18f1b5503dcda7d1bb)...\n",
      "Loading cached result for document 45 (Cache Key: be6a0be31060b552c44eaf22a32e5ca8)...\n",
      "Loading cached result for document 46 (Cache Key: da2685fd8dd1f3387c1c2100ed518e35)...\n",
      "All documents processed successfully.\n"
     ]
    }
   ],
   "source": [
    "import os\n",
    "import pickle\n",
    "import hashlib\n",
    "from llama_index.core.extractors import TitleExtractor, QuestionsAnsweredExtractor\n",
    "from llama_index.core.node_parser import SentenceSplitter\n",
    "from llama_index.core.ingestion import IngestionPipeline\n",
    "\n",
    "# Define your transformations\n",
    "text_splitter = SentenceSplitter(separator=\" \", chunk_size=1024, chunk_overlap=128)\n",
    "title_extractor = TitleExtractor(llm=llm_transformations, nodes=5)\n",
    "qa_extractor = QuestionsAnsweredExtractor(llm=llm_transformations, questions=3)\n",
    "full_nodes = []\n",
    "# Define the pipeline\n",
    "pipeline = IngestionPipeline(\n",
    "    transformations=[\n",
    "        text_splitter,\n",
    "        title_extractor,\n",
    "        qa_extractor\n",
    "    ]\n",
    ")\n",
    "\n",
    "# Define paths for caching and checkpointing\n",
    "cache_dir = \"./document_cache\"\n",
    "checkpoint_dir = \"./pipeline_checkpoints\"\n",
    "os.makedirs(cache_dir, exist_ok=True)\n",
    "os.makedirs(checkpoint_dir, exist_ok=True)\n",
    "\n",
    "# Function to generate a unique cache key for a document\n",
    "def generate_cache_key(document):\n",
    "    return hashlib.md5(document.text.encode()).hexdigest()\n",
    "\n",
    "# Function to process documents with checkpointing and caching\n",
    "def process_documents(pipeline, docs):\n",
    "    all_results = []\n",
    "    \n",
    "    for i, doc in enumerate(docs):\n",
    "        cache_key = generate_cache_key(doc)\n",
    "        cache_path = os.path.join(cache_dir, f\"{cache_key}.pkl\")\n",
    "        checkpoint_path = os.path.join(checkpoint_dir, f\"checkpoint_{i}.pkl\")\n",
    "\n",
    "        # Check if the document is already processed\n",
    "        if os.path.exists(cache_path):\n",
    "            print(f\"Loading cached result for document {i} (Cache Key: {cache_key})...\")\n",
    "            with open(cache_path, \"rb\") as f:\n",
    "                nodes = pickle.load(f)\n",
    "        else:\n",
    "            try:\n",
    "                print(f\"Processing document {i} (Cache Key: {cache_key})...\")\n",
    "                nodes = pipeline.run(documents=[doc], in_place=True, show_progress=True)\n",
    "\n",
    "                # Save the result to cache\n",
    "                with open(cache_path, \"wb\") as f:\n",
    "                    pickle.dump(nodes, f)\n",
    "\n",
    "                # Save a checkpoint\n",
    "                with open(checkpoint_path, \"wb\") as f:\n",
    "                    pickle.dump(nodes, f)\n",
    "\n",
    "                print(f\"Document {i} processed and cached.\")\n",
    "            except Exception as e:\n",
    "                print(f\"Failed to process document {i}: {e}\")\n",
    "                # Save the pipeline state in case of failure\n",
    "                pipeline.persist(\"./pipeline_storage_failure\")\n",
    "                raise  # Re-raise the exception to stop further processing\n",
    "            \n",
    "        # Append the processed nodes to the results list\n",
    "        all_results.extend(nodes)\n",
    "\n",
    "    # Persist the final pipeline state\n",
    "    pipeline.persist(\"./pipeline_storage\")\n",
    "    print(\"All documents processed successfully.\")\n",
    "\n",
    "    return all_results\n",
    "\n",
    "# Load the pipeline state if it exists\n",
    "if os.path.exists(\"./pipeline_storage\"):\n",
    "    print(\"Loading pipeline state from cache...\")\n",
    "    pipeline.load(\"./pipeline_storage\")\n",
    "else:\n",
    "    print(\"No cached state found. Starting from scratch...\")\n",
    "\n",
    "\n",
    "# Process the documents\n",
    "try:\n",
    "    full_nodes = process_documents(pipeline, docs)\n",
    "except Exception as e:\n",
    "    print(f\"Pipeline failed: {e}\")\n",
    "    print(\"You can resume from the last checkpoint by rerunning the script.\")"
   ]
  },
  {
   "cell_type": "code",
   "execution_count": null,
   "metadata": {},
   "outputs": [
    {
     "data": {
      "application/vnd.jupyter.widget-view+json": {
       "model_id": "9c95961f50d840cb933f64a81ce74327",
       "version_major": 2,
       "version_minor": 0
      },
      "text/plain": [
       "Parsing nodes:   0%|          | 0/47 [00:00<?, ?it/s]"
      ]
     },
     "metadata": {},
     "output_type": "display_data"
    },
    {
     "name": "stderr",
     "output_type": "stream",
     "text": [
      "100%|██████████| 1/1 [00:01<00:00,  1.77s/it]\n",
      "100%|██████████| 1/1 [00:00<00:00,  1.27it/s]\n",
      "100%|██████████| 1/1 [00:00<00:00,  1.26it/s]\n",
      "100%|██████████| 1/1 [00:00<00:00,  1.27it/s]\n",
      "100%|██████████| 1/1 [00:00<00:00,  1.29it/s]\n",
      "100%|██████████| 1/1 [00:00<00:00,  1.37it/s]\n",
      "100%|██████████| 1/1 [00:00<00:00,  1.21it/s]\n",
      "100%|██████████| 1/1 [00:00<00:00,  1.21it/s]\n",
      "100%|██████████| 1/1 [00:00<00:00,  1.21it/s]\n",
      "100%|██████████| 1/1 [00:00<00:00,  1.13it/s]\n",
      "100%|██████████| 1/1 [00:00<00:00,  1.23it/s]\n",
      "100%|██████████| 1/1 [00:00<00:00,  1.26it/s]\n",
      "100%|██████████| 1/1 [00:00<00:00,  1.23it/s]\n",
      "100%|██████████| 1/1 [00:00<00:00,  1.32it/s]\n",
      "100%|██████████| 1/1 [00:00<00:00,  1.68it/s]\n",
      "100%|██████████| 1/1 [00:03<00:00,  3.20s/it]\n",
      "100%|██████████| 1/1 [00:03<00:00,  3.26s/it]\n",
      "100%|██████████| 1/1 [00:03<00:00,  3.17s/it]\n",
      "100%|██████████| 1/1 [00:03<00:00,  3.08s/it]\n",
      "100%|██████████| 1/1 [00:03<00:00,  3.07s/it]\n",
      "100%|██████████| 1/1 [00:03<00:00,  3.47s/it]\n",
      "100%|██████████| 1/1 [00:03<00:00,  3.16s/it]\n",
      "100%|██████████| 1/1 [00:03<00:00,  3.21s/it]\n"
     ]
    },
    {
     "ename": "KeyboardInterrupt",
     "evalue": "",
     "output_type": "error",
     "traceback": [
      "\u001b[0;31m---------------------------------------------------------------------------\u001b[0m",
      "\u001b[0;31mKeyboardInterrupt\u001b[0m                         Traceback (most recent call last)",
      "Cell \u001b[0;32mIn[32], line 29\u001b[0m\n\u001b[1;32m     19\u001b[0m pipeline \u001b[38;5;241m=\u001b[39m IngestionPipeline(\n\u001b[1;32m     20\u001b[0m     transformations\u001b[38;5;241m=\u001b[39m[\n\u001b[1;32m     21\u001b[0m         text_splitter,\n\u001b[0;32m   (...)\u001b[0m\n\u001b[1;32m     24\u001b[0m     ]\n\u001b[1;32m     25\u001b[0m )\n\u001b[1;32m     27\u001b[0m pipeline\u001b[38;5;241m.\u001b[39mpersist(\u001b[38;5;124m\"\u001b[39m\u001b[38;5;124m./pipeline_storage\u001b[39m\u001b[38;5;124m\"\u001b[39m)\n\u001b[0;32m---> 29\u001b[0m nodes \u001b[38;5;241m=\u001b[39m \u001b[43mpipeline\u001b[49m\u001b[38;5;241;43m.\u001b[39;49m\u001b[43mrun\u001b[49m\u001b[43m(\u001b[49m\n\u001b[1;32m     30\u001b[0m \u001b[43m    \u001b[49m\u001b[43mdocuments\u001b[49m\u001b[38;5;241;43m=\u001b[39;49m\u001b[43mdocs\u001b[49m\u001b[43m,\u001b[49m\n\u001b[1;32m     31\u001b[0m \u001b[43m    \u001b[49m\u001b[43min_place\u001b[49m\u001b[38;5;241;43m=\u001b[39;49m\u001b[38;5;28;43;01mTrue\u001b[39;49;00m\u001b[43m,\u001b[49m\n\u001b[1;32m     32\u001b[0m \u001b[43m    \u001b[49m\u001b[43mshow_progress\u001b[49m\u001b[38;5;241;43m=\u001b[39;49m\u001b[38;5;28;43;01mTrue\u001b[39;49;00m\n\u001b[1;32m     33\u001b[0m \u001b[43m)\u001b[49m\n",
      "File \u001b[0;32m~/.local/lib/python3.10/site-packages/llama_index/core/instrumentation/dispatcher.py:322\u001b[0m, in \u001b[0;36mDispatcher.span.<locals>.wrapper\u001b[0;34m(func, instance, args, kwargs)\u001b[0m\n\u001b[1;32m    319\u001b[0m             _logger\u001b[38;5;241m.\u001b[39mdebug(\u001b[38;5;124mf\u001b[39m\u001b[38;5;124m\"\u001b[39m\u001b[38;5;124mFailed to reset active_span_id: \u001b[39m\u001b[38;5;132;01m{\u001b[39;00me\u001b[38;5;132;01m}\u001b[39;00m\u001b[38;5;124m\"\u001b[39m)\n\u001b[1;32m    321\u001b[0m \u001b[38;5;28;01mtry\u001b[39;00m:\n\u001b[0;32m--> 322\u001b[0m     result \u001b[38;5;241m=\u001b[39m \u001b[43mfunc\u001b[49m\u001b[43m(\u001b[49m\u001b[38;5;241;43m*\u001b[39;49m\u001b[43margs\u001b[49m\u001b[43m,\u001b[49m\u001b[43m \u001b[49m\u001b[38;5;241;43m*\u001b[39;49m\u001b[38;5;241;43m*\u001b[39;49m\u001b[43mkwargs\u001b[49m\u001b[43m)\u001b[49m\n\u001b[1;32m    323\u001b[0m     \u001b[38;5;28;01mif\u001b[39;00m \u001b[38;5;28misinstance\u001b[39m(result, asyncio\u001b[38;5;241m.\u001b[39mFuture):\n\u001b[1;32m    324\u001b[0m         \u001b[38;5;66;03m# If the result is a Future, wrap it\u001b[39;00m\n\u001b[1;32m    325\u001b[0m         new_future \u001b[38;5;241m=\u001b[39m asyncio\u001b[38;5;241m.\u001b[39mensure_future(result)\n",
      "File \u001b[0;32m~/.local/lib/python3.10/site-packages/llama_index/core/ingestion/pipeline.py:545\u001b[0m, in \u001b[0;36mIngestionPipeline.run\u001b[0;34m(self, show_progress, documents, nodes, cache_collection, in_place, store_doc_text, num_workers, **kwargs)\u001b[0m\n\u001b[1;32m    543\u001b[0m         nodes \u001b[38;5;241m=\u001b[39m reduce(\u001b[38;5;28;01mlambda\u001b[39;00m x, y: x \u001b[38;5;241m+\u001b[39m y, nodes_parallel, [])  \u001b[38;5;66;03m# type: ignore\u001b[39;00m\n\u001b[1;32m    544\u001b[0m \u001b[38;5;28;01melse\u001b[39;00m:\n\u001b[0;32m--> 545\u001b[0m     nodes \u001b[38;5;241m=\u001b[39m \u001b[43mrun_transformations\u001b[49m\u001b[43m(\u001b[49m\n\u001b[1;32m    546\u001b[0m \u001b[43m        \u001b[49m\u001b[43mnodes_to_run\u001b[49m\u001b[43m,\u001b[49m\n\u001b[1;32m    547\u001b[0m \u001b[43m        \u001b[49m\u001b[38;5;28;43mself\u001b[39;49m\u001b[38;5;241;43m.\u001b[39;49m\u001b[43mtransformations\u001b[49m\u001b[43m,\u001b[49m\n\u001b[1;32m    548\u001b[0m \u001b[43m        \u001b[49m\u001b[43mshow_progress\u001b[49m\u001b[38;5;241;43m=\u001b[39;49m\u001b[43mshow_progress\u001b[49m\u001b[43m,\u001b[49m\n\u001b[1;32m    549\u001b[0m \u001b[43m        \u001b[49m\u001b[43mcache\u001b[49m\u001b[38;5;241;43m=\u001b[39;49m\u001b[38;5;28;43mself\u001b[39;49m\u001b[38;5;241;43m.\u001b[39;49m\u001b[43mcache\u001b[49m\u001b[43m \u001b[49m\u001b[38;5;28;43;01mif\u001b[39;49;00m\u001b[43m \u001b[49m\u001b[38;5;129;43;01mnot\u001b[39;49;00m\u001b[43m \u001b[49m\u001b[38;5;28;43mself\u001b[39;49m\u001b[38;5;241;43m.\u001b[39;49m\u001b[43mdisable_cache\u001b[49m\u001b[43m \u001b[49m\u001b[38;5;28;43;01melse\u001b[39;49;00m\u001b[43m \u001b[49m\u001b[38;5;28;43;01mNone\u001b[39;49;00m\u001b[43m,\u001b[49m\n\u001b[1;32m    550\u001b[0m \u001b[43m        \u001b[49m\u001b[43mcache_collection\u001b[49m\u001b[38;5;241;43m=\u001b[39;49m\u001b[43mcache_collection\u001b[49m\u001b[43m,\u001b[49m\n\u001b[1;32m    551\u001b[0m \u001b[43m        \u001b[49m\u001b[43min_place\u001b[49m\u001b[38;5;241;43m=\u001b[39;49m\u001b[43min_place\u001b[49m\u001b[43m,\u001b[49m\n\u001b[1;32m    552\u001b[0m \u001b[43m        \u001b[49m\u001b[38;5;241;43m*\u001b[39;49m\u001b[38;5;241;43m*\u001b[39;49m\u001b[43mkwargs\u001b[49m\u001b[43m,\u001b[49m\n\u001b[1;32m    553\u001b[0m \u001b[43m    \u001b[49m\u001b[43m)\u001b[49m\n\u001b[1;32m    555\u001b[0m nodes \u001b[38;5;241m=\u001b[39m nodes \u001b[38;5;129;01mor\u001b[39;00m []\n\u001b[1;32m    557\u001b[0m \u001b[38;5;28;01mif\u001b[39;00m \u001b[38;5;28mself\u001b[39m\u001b[38;5;241m.\u001b[39mvector_store \u001b[38;5;129;01mis\u001b[39;00m \u001b[38;5;129;01mnot\u001b[39;00m \u001b[38;5;28;01mNone\u001b[39;00m:\n",
      "File \u001b[0;32m~/.local/lib/python3.10/site-packages/llama_index/core/ingestion/pipeline.py:97\u001b[0m, in \u001b[0;36mrun_transformations\u001b[0;34m(nodes, transformations, in_place, cache, cache_collection, **kwargs)\u001b[0m\n\u001b[1;32m     95\u001b[0m         nodes \u001b[38;5;241m=\u001b[39m cached_nodes\n\u001b[1;32m     96\u001b[0m     \u001b[38;5;28;01melse\u001b[39;00m:\n\u001b[0;32m---> 97\u001b[0m         nodes \u001b[38;5;241m=\u001b[39m \u001b[43mtransform\u001b[49m\u001b[43m(\u001b[49m\u001b[43mnodes\u001b[49m\u001b[43m,\u001b[49m\u001b[43m \u001b[49m\u001b[38;5;241;43m*\u001b[39;49m\u001b[38;5;241;43m*\u001b[39;49m\u001b[43mkwargs\u001b[49m\u001b[43m)\u001b[49m\n\u001b[1;32m     98\u001b[0m         cache\u001b[38;5;241m.\u001b[39mput(\u001b[38;5;28mhash\u001b[39m, nodes, collection\u001b[38;5;241m=\u001b[39mcache_collection)\n\u001b[1;32m     99\u001b[0m \u001b[38;5;28;01melse\u001b[39;00m:\n",
      "File \u001b[0;32m~/.local/lib/python3.10/site-packages/llama_index/core/instrumentation/dispatcher.py:322\u001b[0m, in \u001b[0;36mDispatcher.span.<locals>.wrapper\u001b[0;34m(func, instance, args, kwargs)\u001b[0m\n\u001b[1;32m    319\u001b[0m             _logger\u001b[38;5;241m.\u001b[39mdebug(\u001b[38;5;124mf\u001b[39m\u001b[38;5;124m\"\u001b[39m\u001b[38;5;124mFailed to reset active_span_id: \u001b[39m\u001b[38;5;132;01m{\u001b[39;00me\u001b[38;5;132;01m}\u001b[39;00m\u001b[38;5;124m\"\u001b[39m)\n\u001b[1;32m    321\u001b[0m \u001b[38;5;28;01mtry\u001b[39;00m:\n\u001b[0;32m--> 322\u001b[0m     result \u001b[38;5;241m=\u001b[39m \u001b[43mfunc\u001b[49m\u001b[43m(\u001b[49m\u001b[38;5;241;43m*\u001b[39;49m\u001b[43margs\u001b[49m\u001b[43m,\u001b[49m\u001b[43m \u001b[49m\u001b[38;5;241;43m*\u001b[39;49m\u001b[38;5;241;43m*\u001b[39;49m\u001b[43mkwargs\u001b[49m\u001b[43m)\u001b[49m\n\u001b[1;32m    323\u001b[0m     \u001b[38;5;28;01mif\u001b[39;00m \u001b[38;5;28misinstance\u001b[39m(result, asyncio\u001b[38;5;241m.\u001b[39mFuture):\n\u001b[1;32m    324\u001b[0m         \u001b[38;5;66;03m# If the result is a Future, wrap it\u001b[39;00m\n\u001b[1;32m    325\u001b[0m         new_future \u001b[38;5;241m=\u001b[39m asyncio\u001b[38;5;241m.\u001b[39mensure_future(result)\n",
      "File \u001b[0;32m~/.local/lib/python3.10/site-packages/llama_index/core/extractors/interface.py:160\u001b[0m, in \u001b[0;36mBaseExtractor.__call__\u001b[0;34m(self, nodes, **kwargs)\u001b[0m\n\u001b[1;32m    152\u001b[0m \u001b[38;5;28;01mdef\u001b[39;00m \u001b[38;5;21m__call__\u001b[39m(\u001b[38;5;28mself\u001b[39m, nodes: Sequence[BaseNode], \u001b[38;5;241m*\u001b[39m\u001b[38;5;241m*\u001b[39mkwargs: Any) \u001b[38;5;241m-\u001b[39m\u001b[38;5;241m>\u001b[39m List[BaseNode]:\n\u001b[1;32m    153\u001b[0m \u001b[38;5;250m    \u001b[39m\u001b[38;5;124;03m\"\"\"Post process nodes parsed from documents.\u001b[39;00m\n\u001b[1;32m    154\u001b[0m \n\u001b[1;32m    155\u001b[0m \u001b[38;5;124;03m    Allows extractors to be chained.\u001b[39;00m\n\u001b[0;32m   (...)\u001b[0m\n\u001b[1;32m    158\u001b[0m \u001b[38;5;124;03m        nodes (List[BaseNode]): nodes to post-process\u001b[39;00m\n\u001b[1;32m    159\u001b[0m \u001b[38;5;124;03m    \"\"\"\u001b[39;00m\n\u001b[0;32m--> 160\u001b[0m     \u001b[38;5;28;01mreturn\u001b[39;00m \u001b[38;5;28;43mself\u001b[39;49m\u001b[38;5;241;43m.\u001b[39;49m\u001b[43mprocess_nodes\u001b[49m\u001b[43m(\u001b[49m\u001b[43mnodes\u001b[49m\u001b[43m,\u001b[49m\u001b[43m \u001b[49m\u001b[38;5;241;43m*\u001b[39;49m\u001b[38;5;241;43m*\u001b[39;49m\u001b[43mkwargs\u001b[49m\u001b[43m)\u001b[49m\n",
      "File \u001b[0;32m~/.local/lib/python3.10/site-packages/llama_index/core/extractors/interface.py:143\u001b[0m, in \u001b[0;36mBaseExtractor.process_nodes\u001b[0;34m(self, nodes, excluded_embed_metadata_keys, excluded_llm_metadata_keys, **kwargs)\u001b[0m\n\u001b[1;32m    136\u001b[0m \u001b[38;5;28;01mdef\u001b[39;00m \u001b[38;5;21mprocess_nodes\u001b[39m(\n\u001b[1;32m    137\u001b[0m     \u001b[38;5;28mself\u001b[39m,\n\u001b[1;32m    138\u001b[0m     nodes: Sequence[BaseNode],\n\u001b[0;32m   (...)\u001b[0m\n\u001b[1;32m    141\u001b[0m     \u001b[38;5;241m*\u001b[39m\u001b[38;5;241m*\u001b[39mkwargs: Any,\n\u001b[1;32m    142\u001b[0m ) \u001b[38;5;241m-\u001b[39m\u001b[38;5;241m>\u001b[39m List[BaseNode]:\n\u001b[0;32m--> 143\u001b[0m     \u001b[38;5;28;01mreturn\u001b[39;00m \u001b[43masyncio_run\u001b[49m\u001b[43m(\u001b[49m\n\u001b[1;32m    144\u001b[0m \u001b[43m        \u001b[49m\u001b[38;5;28;43mself\u001b[39;49m\u001b[38;5;241;43m.\u001b[39;49m\u001b[43maprocess_nodes\u001b[49m\u001b[43m(\u001b[49m\n\u001b[1;32m    145\u001b[0m \u001b[43m            \u001b[49m\u001b[43mnodes\u001b[49m\u001b[43m,\u001b[49m\n\u001b[1;32m    146\u001b[0m \u001b[43m            \u001b[49m\u001b[43mexcluded_embed_metadata_keys\u001b[49m\u001b[38;5;241;43m=\u001b[39;49m\u001b[43mexcluded_embed_metadata_keys\u001b[49m\u001b[43m,\u001b[49m\n\u001b[1;32m    147\u001b[0m \u001b[43m            \u001b[49m\u001b[43mexcluded_llm_metadata_keys\u001b[49m\u001b[38;5;241;43m=\u001b[39;49m\u001b[43mexcluded_llm_metadata_keys\u001b[49m\u001b[43m,\u001b[49m\n\u001b[1;32m    148\u001b[0m \u001b[43m            \u001b[49m\u001b[38;5;241;43m*\u001b[39;49m\u001b[38;5;241;43m*\u001b[39;49m\u001b[43mkwargs\u001b[49m\u001b[43m,\u001b[49m\n\u001b[1;32m    149\u001b[0m \u001b[43m        \u001b[49m\u001b[43m)\u001b[49m\n\u001b[1;32m    150\u001b[0m \u001b[43m    \u001b[49m\u001b[43m)\u001b[49m\n",
      "File \u001b[0;32m~/.local/lib/python3.10/site-packages/llama_index/core/async_utils.py:33\u001b[0m, in \u001b[0;36masyncio_run\u001b[0;34m(coro)\u001b[0m\n\u001b[1;32m     30\u001b[0m     loop \u001b[38;5;241m=\u001b[39m asyncio\u001b[38;5;241m.\u001b[39mget_event_loop()\n\u001b[1;32m     32\u001b[0m     \u001b[38;5;66;03m# If we're here, there's an existing loop but it's not running\u001b[39;00m\n\u001b[0;32m---> 33\u001b[0m     \u001b[38;5;28;01mreturn\u001b[39;00m \u001b[43mloop\u001b[49m\u001b[38;5;241;43m.\u001b[39;49m\u001b[43mrun_until_complete\u001b[49m\u001b[43m(\u001b[49m\u001b[43mcoro\u001b[49m\u001b[43m)\u001b[49m\n\u001b[1;32m     35\u001b[0m \u001b[38;5;28;01mexcept\u001b[39;00m \u001b[38;5;167;01mRuntimeError\u001b[39;00m \u001b[38;5;28;01mas\u001b[39;00m e:\n\u001b[1;32m     36\u001b[0m     \u001b[38;5;66;03m# If we can't get the event loop, we're likely in a different thread, or its already running\u001b[39;00m\n\u001b[1;32m     37\u001b[0m     \u001b[38;5;28;01mtry\u001b[39;00m:\n",
      "File \u001b[0;32m~/.local/lib/python3.10/site-packages/nest_asyncio.py:92\u001b[0m, in \u001b[0;36m_patch_loop.<locals>.run_until_complete\u001b[0;34m(self, future)\u001b[0m\n\u001b[1;32m     90\u001b[0m     f\u001b[38;5;241m.\u001b[39m_log_destroy_pending \u001b[38;5;241m=\u001b[39m \u001b[38;5;28;01mFalse\u001b[39;00m\n\u001b[1;32m     91\u001b[0m \u001b[38;5;28;01mwhile\u001b[39;00m \u001b[38;5;129;01mnot\u001b[39;00m f\u001b[38;5;241m.\u001b[39mdone():\n\u001b[0;32m---> 92\u001b[0m     \u001b[38;5;28;43mself\u001b[39;49m\u001b[38;5;241;43m.\u001b[39;49m\u001b[43m_run_once\u001b[49m\u001b[43m(\u001b[49m\u001b[43m)\u001b[49m\n\u001b[1;32m     93\u001b[0m     \u001b[38;5;28;01mif\u001b[39;00m \u001b[38;5;28mself\u001b[39m\u001b[38;5;241m.\u001b[39m_stopping:\n\u001b[1;32m     94\u001b[0m         \u001b[38;5;28;01mbreak\u001b[39;00m\n",
      "File \u001b[0;32m~/.local/lib/python3.10/site-packages/nest_asyncio.py:115\u001b[0m, in \u001b[0;36m_patch_loop.<locals>._run_once\u001b[0;34m(self)\u001b[0m\n\u001b[1;32m    108\u001b[0m     heappop(scheduled)\n\u001b[1;32m    110\u001b[0m timeout \u001b[38;5;241m=\u001b[39m (\n\u001b[1;32m    111\u001b[0m     \u001b[38;5;241m0\u001b[39m \u001b[38;5;28;01mif\u001b[39;00m ready \u001b[38;5;129;01mor\u001b[39;00m \u001b[38;5;28mself\u001b[39m\u001b[38;5;241m.\u001b[39m_stopping\n\u001b[1;32m    112\u001b[0m     \u001b[38;5;28;01melse\u001b[39;00m \u001b[38;5;28mmin\u001b[39m(\u001b[38;5;28mmax\u001b[39m(\n\u001b[1;32m    113\u001b[0m         scheduled[\u001b[38;5;241m0\u001b[39m]\u001b[38;5;241m.\u001b[39m_when \u001b[38;5;241m-\u001b[39m \u001b[38;5;28mself\u001b[39m\u001b[38;5;241m.\u001b[39mtime(), \u001b[38;5;241m0\u001b[39m), \u001b[38;5;241m86400\u001b[39m) \u001b[38;5;28;01mif\u001b[39;00m scheduled\n\u001b[1;32m    114\u001b[0m     \u001b[38;5;28;01melse\u001b[39;00m \u001b[38;5;28;01mNone\u001b[39;00m)\n\u001b[0;32m--> 115\u001b[0m event_list \u001b[38;5;241m=\u001b[39m \u001b[38;5;28;43mself\u001b[39;49m\u001b[38;5;241;43m.\u001b[39;49m\u001b[43m_selector\u001b[49m\u001b[38;5;241;43m.\u001b[39;49m\u001b[43mselect\u001b[49m\u001b[43m(\u001b[49m\u001b[43mtimeout\u001b[49m\u001b[43m)\u001b[49m\n\u001b[1;32m    116\u001b[0m \u001b[38;5;28mself\u001b[39m\u001b[38;5;241m.\u001b[39m_process_events(event_list)\n\u001b[1;32m    118\u001b[0m end_time \u001b[38;5;241m=\u001b[39m \u001b[38;5;28mself\u001b[39m\u001b[38;5;241m.\u001b[39mtime() \u001b[38;5;241m+\u001b[39m \u001b[38;5;28mself\u001b[39m\u001b[38;5;241m.\u001b[39m_clock_resolution\n",
      "File \u001b[0;32m/usr/local/lib/python3.10/selectors.py:469\u001b[0m, in \u001b[0;36mEpollSelector.select\u001b[0;34m(self, timeout)\u001b[0m\n\u001b[1;32m    467\u001b[0m ready \u001b[38;5;241m=\u001b[39m []\n\u001b[1;32m    468\u001b[0m \u001b[38;5;28;01mtry\u001b[39;00m:\n\u001b[0;32m--> 469\u001b[0m     fd_event_list \u001b[38;5;241m=\u001b[39m \u001b[38;5;28;43mself\u001b[39;49m\u001b[38;5;241;43m.\u001b[39;49m\u001b[43m_selector\u001b[49m\u001b[38;5;241;43m.\u001b[39;49m\u001b[43mpoll\u001b[49m\u001b[43m(\u001b[49m\u001b[43mtimeout\u001b[49m\u001b[43m,\u001b[49m\u001b[43m \u001b[49m\u001b[43mmax_ev\u001b[49m\u001b[43m)\u001b[49m\n\u001b[1;32m    470\u001b[0m \u001b[38;5;28;01mexcept\u001b[39;00m \u001b[38;5;167;01mInterruptedError\u001b[39;00m:\n\u001b[1;32m    471\u001b[0m     \u001b[38;5;28;01mreturn\u001b[39;00m ready\n",
      "\u001b[0;31mKeyboardInterrupt\u001b[0m: "
     ]
    },
    {
     "name": "stderr",
     "output_type": "stream",
     "text": [
      "100%|██████████| 1/1 [00:03<00:00,  3.53s/it]\n",
      "100%|██████████| 1/1 [00:05<00:00,  5.26s/it]\n",
      "100%|██████████| 1/1 [00:03<00:00,  3.03s/it]\n",
      "100%|██████████| 1/1 [00:03<00:00,  3.04s/it]\n",
      "\n",
      "\u001b[A\n",
      "100%|██████████| 1/1 [00:05<00:00,  5.51s/it]\n",
      "100%|██████████| 1/1 [00:03<00:00,  3.07s/it]\n",
      "\n",
      "\u001b[A\n",
      "100%|██████████| 1/1 [00:08<00:00,  8.13s/it]\n",
      "\n",
      "\u001b[A\n",
      "100%|██████████| 1/1 [00:03<00:00,  3.07s/it]\n",
      "\n",
      "\u001b[A\n",
      "100%|██████████| 1/1 [00:05<00:00,  5.63s/it]\n",
      "\n",
      "\u001b[A\n",
      "100%|██████████| 1/1 [00:08<00:00,  8.85s/it]\n",
      "100%|██████████| 1/1 [00:05<00:00,  5.72s/it]\n",
      "100%|██████████| 1/1 [00:05<00:00,  5.77s/it]\n",
      "100%|██████████| 1/1 [00:08<00:00,  8.21s/it]\n",
      "\n",
      "\u001b[A\n",
      "100%|██████████| 1/1 [00:07<00:00,  7.96s/it]\n",
      "100%|██████████| 1/1 [00:08<00:00,  8.52s/it]\n",
      "Retrying llama_index.llms.openai.base.OpenAI._achat in 1.0 seconds as it raised RateLimitError: Error code: 429 - {'error': {'message': 'Rate limit reached for model `gemma2-9b-it` in organization `org_01jn1j0w1pe7hrtqr2v8cqcy7b` service tier `on_demand` on requests per minute (RPM): Limit 30, Used 30, Requested 1. Please try again in 1.486s. Need more tokens? Upgrade to Dev Tier today at https://console.groq.com/settings/billing', 'type': 'requests', 'code': 'rate_limit_exceeded'}}.\n",
      "100%|██████████| 1/1 [00:05<00:00,  5.79s/it]\n",
      "100%|██████████| 1/1 [00:05<00:00,  5.83s/it]\n",
      "100%|██████████| 1/1 [00:03<00:00,  3.08s/it]\n",
      "100%|██████████| 1/1 [00:08<00:00,  8.30s/it]\n",
      "100%|██████████| 1/1 [00:08<00:00,  8.39s/it]\n",
      "100%|██████████| 1/1 [00:08<00:00,  8.60s/it]\n",
      "100%|██████████| 1/1 [00:08<00:00,  8.48s/it]\n",
      "100%|██████████| 1/1 [00:08<00:00,  8.19s/it]\n",
      "Retrying llama_index.llms.openai.base.OpenAI._achat in 1.0 seconds as it raised RateLimitError: Error code: 429 - {'error': {'message': 'Rate limit reached for model `gemma2-9b-it` in organization `org_01jn1j0w1pe7hrtqr2v8cqcy7b` service tier `on_demand` on requests per minute (RPM): Limit 30, Used 30, Requested 1. Please try again in 1.255s. Need more tokens? Upgrade to Dev Tier today at https://console.groq.com/settings/billing', 'type': 'requests', 'code': 'rate_limit_exceeded'}}.\n",
      "100%|██████████| 1/1 [00:10<00:00, 10.75s/it]\n"
     ]
    }
   ],
   "source": []
  },
  {
   "cell_type": "code",
   "execution_count": null,
   "metadata": {},
   "outputs": [],
   "source": [
    "%pip install pickle"
   ]
  },
  {
   "cell_type": "code",
   "execution_count": null,
   "metadata": {},
   "outputs": [],
   "source": [
    "import pickle\n",
    "\n",
    "with open(\"nodes.pkl\", \"wb\") as f:\n",
    "    pickle.dump(nodes, f)"
   ]
  },
  {
   "cell_type": "code",
   "execution_count": null,
   "metadata": {},
   "outputs": [],
   "source": []
  }
 ],
 "metadata": {
  "kernelspec": {
   "display_name": "Python 3",
   "language": "python",
   "name": "python3"
  },
  "language_info": {
   "codemirror_mode": {
    "name": "ipython",
    "version": 3
   },
   "file_extension": ".py",
   "mimetype": "text/x-python",
   "name": "python",
   "nbconvert_exporter": "python",
   "pygments_lexer": "ipython3",
   "version": "3.10.0"
  }
 },
 "nbformat": 4,
 "nbformat_minor": 2
}
